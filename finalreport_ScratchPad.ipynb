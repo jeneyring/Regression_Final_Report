{
 "cells": [
  {
   "cell_type": "markdown",
   "id": "1aa386f5",
   "metadata": {},
   "source": [
    "## Zillow 2017 predictions report:\n",
    "\n",
    "Got an email from the Zillow DS Team:\n",
    "\n",
    "<i>\"We want to be able to predict the property tax assessed values ('taxvaluedollarcnt') of Single Family Properties that had a transaction during 2017.\n",
    "\n",
    "We have a model already, but we are hoping your insights can help us improve it. I need recommendations on a way to make a better model. Maybe you will create a new feature out of existing ones that works better, try a non-linear regression algorithm, or try to create a different model for each county. Whatever you find that works (or doesn't work) will be useful. Given you have just joined our team, we are excited to see your outside perspective.\n",
    "\n",
    "One last thing, Zach lost the email that told us where these properties were located. Ugh, Zach :-/. Because property taxes are assessed at the county level, we would like to know what states and counties these are located in.\"</i>\n",
    "\n",
    "-- The Zillow Data Science Team"
   ]
  },
  {
   "cell_type": "markdown",
   "id": "0f80b78d",
   "metadata": {},
   "source": [
    "___________________________________________________________________________________________________________________"
   ]
  },
  {
   "cell_type": "markdown",
   "id": "983bc8c2",
   "metadata": {},
   "source": [
    "## My Goal: to predict the values of single unit properties using the zillow database obervations from 2017.\n",
    "\n",
    "\n",
    "\n",
    "\n",
    "### My Deliverables:\n",
    "\n",
    "- Constructed ML Regression model that predicts propery tax assessed values (and can be used for our marketing and tech departments).\n",
    "\n",
    "- Finding the key drivers of property value for single family properties. \n",
    "\n",
    "\n",
    "### My Questions: \n",
    "\n",
    "- Why are some properties with similar features valued so differently? \n",
    "\n",
    "- Do count of bath/bedrooms drive the property value? And if so, is there one more weighted against the other?\n",
    "\n",
    "- Is there a difference of the average of property values by county? And if so, what is the difference?\n",
    "\n",
    "\n",
    "### Follow up Questions:\n",
    "\n",
    "- Can we get data on the population income average per county?\n",
    "\n",
    "- Can we get the data on school ratings (greatschools.com) and see if this might be a main driver as well?\n",
    "\n",
    "- Can we gather predictions and data based on other location factors (ie parks, hiking, waterfronts, nearby churches, grocery stores, malls, etc)\n",
    "\n",
    "\n",
    "\n"
   ]
  },
  {
   "cell_type": "code",
   "execution_count": 1,
   "id": "795175c3",
   "metadata": {},
   "outputs": [],
   "source": [
    "#will insert and collect needed imports to repo along the workflow, down below:"
   ]
  },
  {
   "cell_type": "code",
   "execution_count": 2,
   "id": "a9961d98",
   "metadata": {},
   "outputs": [],
   "source": [
    "import warnings\n",
    "warnings.filterwarnings(\"ignore\")\n",
    "\n",
    "import pandas as pd\n",
    "import os\n",
    "from env import get_db_url\n",
    "import matplotlib.pyplot as plt\n",
    "import seaborn as sns\n",
    "import numpy as np\n",
    "from acquire import wrangle_zillow\n"
   ]
  },
  {
   "cell_type": "markdown",
   "id": "e2356917",
   "metadata": {},
   "source": [
    "### Acquistion: \n",
    "INITIAL ACQUISITION:\n",
    "We will be calling in the zillow dataset from the MySQL database.\n",
    "This dataset will only with include taxvaluedollarcnt, bathroom count, bedroom count, calculatedfinishedsquarefeet, transactiondate and fips.\n",
    "\n",
    "This dataset will also only take in transaction accounts from year 2017. "
   ]
  },
  {
   "cell_type": "code",
   "execution_count": 3,
   "id": "24304602",
   "metadata": {},
   "outputs": [
    {
     "data": {
      "text/html": [
       "<div>\n",
       "<style scoped>\n",
       "    .dataframe tbody tr th:only-of-type {\n",
       "        vertical-align: middle;\n",
       "    }\n",
       "\n",
       "    .dataframe tbody tr th {\n",
       "        vertical-align: top;\n",
       "    }\n",
       "\n",
       "    .dataframe thead th {\n",
       "        text-align: right;\n",
       "    }\n",
       "</style>\n",
       "<table border=\"1\" class=\"dataframe\">\n",
       "  <thead>\n",
       "    <tr style=\"text-align: right;\">\n",
       "      <th></th>\n",
       "      <th>bedroomcnt</th>\n",
       "      <th>bathroomcnt</th>\n",
       "      <th>calculatedfinishedsquarefeet</th>\n",
       "      <th>taxvaluedollarcnt</th>\n",
       "      <th>transactiondate</th>\n",
       "      <th>fips</th>\n",
       "    </tr>\n",
       "  </thead>\n",
       "  <tbody>\n",
       "    <tr>\n",
       "      <th>0</th>\n",
       "      <td>3.0</td>\n",
       "      <td>1.0</td>\n",
       "      <td>1012.0</td>\n",
       "      <td>79904.0</td>\n",
       "      <td>2017-01-13</td>\n",
       "      <td>6037.0</td>\n",
       "    </tr>\n",
       "    <tr>\n",
       "      <th>1</th>\n",
       "      <td>4.0</td>\n",
       "      <td>2.0</td>\n",
       "      <td>1242.0</td>\n",
       "      <td>590000.0</td>\n",
       "      <td>2017-01-13</td>\n",
       "      <td>6037.0</td>\n",
       "    </tr>\n",
       "    <tr>\n",
       "      <th>2</th>\n",
       "      <td>2.0</td>\n",
       "      <td>1.0</td>\n",
       "      <td>864.0</td>\n",
       "      <td>355000.0</td>\n",
       "      <td>2017-01-13</td>\n",
       "      <td>6037.0</td>\n",
       "    </tr>\n",
       "    <tr>\n",
       "      <th>3</th>\n",
       "      <td>3.0</td>\n",
       "      <td>2.0</td>\n",
       "      <td>1550.0</td>\n",
       "      <td>2200000.0</td>\n",
       "      <td>2017-01-13</td>\n",
       "      <td>6037.0</td>\n",
       "    </tr>\n",
       "    <tr>\n",
       "      <th>4</th>\n",
       "      <td>3.0</td>\n",
       "      <td>2.0</td>\n",
       "      <td>1149.0</td>\n",
       "      <td>185716.0</td>\n",
       "      <td>2017-01-13</td>\n",
       "      <td>6037.0</td>\n",
       "    </tr>\n",
       "  </tbody>\n",
       "</table>\n",
       "</div>"
      ],
      "text/plain": [
       "   bedroomcnt  bathroomcnt  calculatedfinishedsquarefeet  taxvaluedollarcnt  \\\n",
       "0         3.0          1.0                        1012.0            79904.0   \n",
       "1         4.0          2.0                        1242.0           590000.0   \n",
       "2         2.0          1.0                         864.0           355000.0   \n",
       "3         3.0          2.0                        1550.0          2200000.0   \n",
       "4         3.0          2.0                        1149.0           185716.0   \n",
       "\n",
       "  transactiondate    fips  \n",
       "0      2017-01-13  6037.0  \n",
       "1      2017-01-13  6037.0  \n",
       "2      2017-01-13  6037.0  \n",
       "3      2017-01-13  6037.0  \n",
       "4      2017-01-13  6037.0  "
      ]
     },
     "execution_count": 3,
     "metadata": {},
     "output_type": "execute_result"
    }
   ],
   "source": [
    "# Using MySQL, we will Find all of the \"Single Family Residential\" properties and transactions from 2017:\n",
    "df = pd.read_sql(\"SELECT bedroomcnt, bathroomcnt, calculatedfinishedsquarefeet, taxvaluedollarcnt, transactiondate, fips FROM properties_2017 JOIN predictions_2017 AS pe USING (parcelid) JOIN propertylandusetype USING (propertylandusetypeid) WHERE propertylandusetype.propertylandusedesc = 'Single Family Residential' AND pe.transactiondate LIKE '2017%%';\", get_db_url(\"zillow\"))\n",
    "df.head()"
   ]
  },
  {
   "cell_type": "markdown",
   "id": "15eabf70",
   "metadata": {},
   "source": [
    "### Acquistion Summary: \n",
    "Getting to know the data in dtypes, and any missed nulls from prep\n"
   ]
  },
  {
   "cell_type": "code",
   "execution_count": 4,
   "id": "4421f354",
   "metadata": {},
   "outputs": [
    {
     "name": "stdout",
     "output_type": "stream",
     "text": [
      "<class 'pandas.core.frame.DataFrame'>\n",
      "RangeIndex: 52441 entries, 0 to 52440\n",
      "Data columns (total 6 columns):\n",
      " #   Column                        Non-Null Count  Dtype  \n",
      "---  ------                        --------------  -----  \n",
      " 0   bedroomcnt                    52441 non-null  float64\n",
      " 1   bathroomcnt                   52441 non-null  float64\n",
      " 2   calculatedfinishedsquarefeet  52359 non-null  float64\n",
      " 3   taxvaluedollarcnt             52440 non-null  float64\n",
      " 4   transactiondate               52441 non-null  object \n",
      " 5   fips                          52441 non-null  float64\n",
      "dtypes: float64(5), object(1)\n",
      "memory usage: 2.4+ MB\n"
     ]
    }
   ],
   "source": [
    "#noting that transactiondate is the only non-numeric column. \n",
    "df.info()"
   ]
  },
  {
   "cell_type": "code",
   "execution_count": 5,
   "id": "5091cc50",
   "metadata": {},
   "outputs": [
    {
     "name": "stdout",
     "output_type": "stream",
     "text": [
      "bedroomcnt\n",
      "3.0     23359\n",
      "4.0     15240\n",
      "2.0      8340\n",
      "5.0      3973\n",
      "6.0       635\n",
      "1.0       612\n",
      "0.0       137\n",
      "7.0       106\n",
      "8.0        24\n",
      "9.0         8\n",
      "12.0        3\n",
      "10.0        2\n",
      "14.0        1\n",
      "11.0        1\n",
      "Name: bedroomcnt, dtype: int64\n",
      "-------------------------------\n",
      "bathroomcnt\n",
      "2.0     21893\n",
      "3.0     10673\n",
      "1.0      9568\n",
      "2.5      3934\n",
      "4.0      2227\n",
      "3.5       918\n",
      "1.5       841\n",
      "5.0       803\n",
      "4.5       687\n",
      "6.0       322\n",
      "5.5       224\n",
      "0.0       121\n",
      "7.0        88\n",
      "8.0        53\n",
      "6.5        47\n",
      "7.5        16\n",
      "9.0        13\n",
      "10.0        5\n",
      "11.0        3\n",
      "8.5         3\n",
      "18.0        1\n",
      "13.0        1\n",
      "Name: bathroomcnt, dtype: int64\n",
      "-------------------------------\n",
      "calculatedfinishedsquarefeet\n",
      "1120.0    128\n",
      "1200.0    119\n",
      "1080.0    102\n",
      "936.0      86\n",
      "1040.0     86\n",
      "         ... \n",
      "4207.0      1\n",
      "3694.0      1\n",
      "4773.0      1\n",
      "9848.0      1\n",
      "5124.0      1\n",
      "Name: calculatedfinishedsquarefeet, Length: 4723, dtype: int64\n",
      "-------------------------------\n",
      "taxvaluedollarcnt\n",
      "455000.0    34\n",
      "600000.0    30\n",
      "550000.0    24\n",
      "450000.0    24\n",
      "500000.0    24\n",
      "            ..\n",
      "68506.0      1\n",
      "41984.0      1\n",
      "372942.0     1\n",
      "379950.0     1\n",
      "33325.0      1\n",
      "Name: taxvaluedollarcnt, Length: 38942, dtype: int64\n",
      "-------------------------------\n",
      "transactiondate\n",
      "2017-06-30    810\n",
      "2017-04-28    617\n",
      "2017-05-31    566\n",
      "2017-07-28    546\n",
      "2017-08-31    528\n",
      "             ... \n",
      "2017-08-13      1\n",
      "2017-06-11      1\n",
      "2017-04-08      1\n",
      "2017-06-03      1\n",
      "2017-05-20      1\n",
      "Name: transactiondate, Length: 257, dtype: int64\n",
      "-------------------------------\n",
      "fips\n",
      "6037.0    33910\n",
      "6059.0    14136\n",
      "6111.0     4395\n",
      "Name: fips, dtype: int64\n",
      "-------------------------------\n"
     ]
    }
   ],
   "source": [
    "#looking at the counts for each column\n",
    "for column in df.columns:\n",
    "    print(column)\n",
    "    print(df[column].value_counts())\n",
    "    print(\"-------------------------------\")"
   ]
  },
  {
   "cell_type": "code",
   "execution_count": 6,
   "id": "48e148d5",
   "metadata": {},
   "outputs": [
    {
     "data": {
      "text/plain": [
       "bedroomcnt                       0\n",
       "bathroomcnt                      0\n",
       "calculatedfinishedsquarefeet    82\n",
       "taxvaluedollarcnt                1\n",
       "transactiondate                  0\n",
       "fips                             0\n",
       "dtype: int64"
      ]
     },
     "execution_count": 6,
     "metadata": {},
     "output_type": "execute_result"
    }
   ],
   "source": [
    "#Let's check for any nulls\n",
    "df.isnull().sum()"
   ]
  },
  {
   "cell_type": "code",
   "execution_count": 7,
   "id": "c085afc5",
   "metadata": {},
   "outputs": [
    {
     "data": {
      "text/plain": [
       "0.9984"
      ]
     },
     "execution_count": 7,
     "metadata": {},
     "output_type": "execute_result"
    }
   ],
   "source": [
    "#If these nulls are dropped, will it effect the dataset?\n",
    "round(df.dropna().shape[0] / df.shape[0], 4)"
   ]
  },
  {
   "cell_type": "markdown",
   "id": "1f8c0b31",
   "metadata": {},
   "source": [
    "### Prep-Clean:"
   ]
  },
  {
   "cell_type": "code",
   "execution_count": 8,
   "id": "ae1f3002",
   "metadata": {},
   "outputs": [
    {
     "data": {
      "text/plain": [
       "bedroomcnt                      0\n",
       "bathroomcnt                     0\n",
       "calculatedfinishedsquarefeet    0\n",
       "taxvaluedollarcnt               0\n",
       "transactiondate                 0\n",
       "fips                            0\n",
       "dtype: int64"
      ]
     },
     "execution_count": 8,
     "metadata": {},
     "output_type": "execute_result"
    }
   ],
   "source": [
    "#99% of our data still left? Great! Let's drop them!\n",
    "df = df.dropna()\n",
    "df.isnull().sum()"
   ]
  },
  {
   "cell_type": "markdown",
   "id": "40a3ff7e",
   "metadata": {},
   "source": [
    "#### Convert Datatyes\n",
    "\n",
    "- I'll be changing bedroomcnt, finishedsquareft, taxvaluedollar, and fips into integers so as to utilize in continuous testing. \n",
    "\n",
    "- I will not change bathroomcnt due to some objects showing 1/2 baths.\n",
    "\n",
    "- I will not change transaction date as it already is in the format I want. "
   ]
  },
  {
   "cell_type": "code",
   "execution_count": 9,
   "id": "69492558",
   "metadata": {},
   "outputs": [],
   "source": [
    "##Changing dtype of Fips code so only 4 digits (no decimals)\n",
    "df['fips'] = df['fips'].astype('int')"
   ]
  },
  {
   "cell_type": "code",
   "execution_count": 10,
   "id": "b9ac0768",
   "metadata": {},
   "outputs": [],
   "source": [
    "#Changing dtype of squarefeet so no decimals\n",
    "df['calculatedfinishedsquarefeet'] = df['calculatedfinishedsquarefeet'].astype('int')"
   ]
  },
  {
   "cell_type": "code",
   "execution_count": 11,
   "id": "0288b16e",
   "metadata": {},
   "outputs": [],
   "source": [
    "#Changing dtype of taxvaluedollarcnt as integer\n",
    "df['taxvaluedollarcnt'] = df['taxvaluedollarcnt'].astype('int')"
   ]
  },
  {
   "cell_type": "code",
   "execution_count": 12,
   "id": "e1c6df74",
   "metadata": {},
   "outputs": [],
   "source": [
    "#changing bedroom count to int\n",
    "df['bedroomcnt']= df['bedroomcnt'].astype('int')"
   ]
  },
  {
   "cell_type": "code",
   "execution_count": 13,
   "id": "33afedb3",
   "metadata": {},
   "outputs": [
    {
     "data": {
      "text/html": [
       "<div>\n",
       "<style scoped>\n",
       "    .dataframe tbody tr th:only-of-type {\n",
       "        vertical-align: middle;\n",
       "    }\n",
       "\n",
       "    .dataframe tbody tr th {\n",
       "        vertical-align: top;\n",
       "    }\n",
       "\n",
       "    .dataframe thead th {\n",
       "        text-align: right;\n",
       "    }\n",
       "</style>\n",
       "<table border=\"1\" class=\"dataframe\">\n",
       "  <thead>\n",
       "    <tr style=\"text-align: right;\">\n",
       "      <th></th>\n",
       "      <th>bedroomcnt</th>\n",
       "      <th>bathroomcnt</th>\n",
       "      <th>calculatedfinishedsquarefeet</th>\n",
       "      <th>taxvaluedollarcnt</th>\n",
       "      <th>transactiondate</th>\n",
       "      <th>fips</th>\n",
       "    </tr>\n",
       "  </thead>\n",
       "  <tbody>\n",
       "    <tr>\n",
       "      <th>0</th>\n",
       "      <td>3</td>\n",
       "      <td>1.0</td>\n",
       "      <td>1012</td>\n",
       "      <td>79904</td>\n",
       "      <td>2017-01-13</td>\n",
       "      <td>6037</td>\n",
       "    </tr>\n",
       "    <tr>\n",
       "      <th>1</th>\n",
       "      <td>4</td>\n",
       "      <td>2.0</td>\n",
       "      <td>1242</td>\n",
       "      <td>590000</td>\n",
       "      <td>2017-01-13</td>\n",
       "      <td>6037</td>\n",
       "    </tr>\n",
       "    <tr>\n",
       "      <th>2</th>\n",
       "      <td>2</td>\n",
       "      <td>1.0</td>\n",
       "      <td>864</td>\n",
       "      <td>355000</td>\n",
       "      <td>2017-01-13</td>\n",
       "      <td>6037</td>\n",
       "    </tr>\n",
       "    <tr>\n",
       "      <th>3</th>\n",
       "      <td>3</td>\n",
       "      <td>2.0</td>\n",
       "      <td>1550</td>\n",
       "      <td>2200000</td>\n",
       "      <td>2017-01-13</td>\n",
       "      <td>6037</td>\n",
       "    </tr>\n",
       "    <tr>\n",
       "      <th>4</th>\n",
       "      <td>3</td>\n",
       "      <td>2.0</td>\n",
       "      <td>1149</td>\n",
       "      <td>185716</td>\n",
       "      <td>2017-01-13</td>\n",
       "      <td>6037</td>\n",
       "    </tr>\n",
       "  </tbody>\n",
       "</table>\n",
       "</div>"
      ],
      "text/plain": [
       "   bedroomcnt  bathroomcnt  calculatedfinishedsquarefeet  taxvaluedollarcnt  \\\n",
       "0           3          1.0                          1012              79904   \n",
       "1           4          2.0                          1242             590000   \n",
       "2           2          1.0                           864             355000   \n",
       "3           3          2.0                          1550            2200000   \n",
       "4           3          2.0                          1149             185716   \n",
       "\n",
       "  transactiondate  fips  \n",
       "0      2017-01-13  6037  \n",
       "1      2017-01-13  6037  \n",
       "2      2017-01-13  6037  \n",
       "3      2017-01-13  6037  \n",
       "4      2017-01-13  6037  "
      ]
     },
     "execution_count": 13,
     "metadata": {},
     "output_type": "execute_result"
    }
   ],
   "source": [
    "df.head()"
   ]
  },
  {
   "cell_type": "markdown",
   "id": "74b2abf5",
   "metadata": {},
   "source": [
    "### Exploration and Visualization (looking at the data):"
   ]
  },
  {
   "cell_type": "code",
   "execution_count": 14,
   "id": "c7cea8da",
   "metadata": {},
   "outputs": [
    {
     "data": {
      "text/html": [
       "<div>\n",
       "<style scoped>\n",
       "    .dataframe tbody tr th:only-of-type {\n",
       "        vertical-align: middle;\n",
       "    }\n",
       "\n",
       "    .dataframe tbody tr th {\n",
       "        vertical-align: top;\n",
       "    }\n",
       "\n",
       "    .dataframe thead th {\n",
       "        text-align: right;\n",
       "    }\n",
       "</style>\n",
       "<table border=\"1\" class=\"dataframe\">\n",
       "  <thead>\n",
       "    <tr style=\"text-align: right;\">\n",
       "      <th></th>\n",
       "      <th>count</th>\n",
       "      <th>mean</th>\n",
       "      <th>std</th>\n",
       "      <th>min</th>\n",
       "      <th>25%</th>\n",
       "      <th>50%</th>\n",
       "      <th>75%</th>\n",
       "      <th>max</th>\n",
       "    </tr>\n",
       "  </thead>\n",
       "  <tbody>\n",
       "    <tr>\n",
       "      <th>bedroomcnt</th>\n",
       "      <td>52358.0</td>\n",
       "      <td>3.305531</td>\n",
       "      <td>0.941429</td>\n",
       "      <td>0.0</td>\n",
       "      <td>3.00</td>\n",
       "      <td>3.0</td>\n",
       "      <td>4.00</td>\n",
       "      <td>14.0</td>\n",
       "    </tr>\n",
       "    <tr>\n",
       "      <th>bathroomcnt</th>\n",
       "      <td>52358.0</td>\n",
       "      <td>2.302781</td>\n",
       "      <td>1.019773</td>\n",
       "      <td>0.0</td>\n",
       "      <td>2.00</td>\n",
       "      <td>2.0</td>\n",
       "      <td>3.00</td>\n",
       "      <td>18.0</td>\n",
       "    </tr>\n",
       "    <tr>\n",
       "      <th>calculatedfinishedsquarefeet</th>\n",
       "      <td>52358.0</td>\n",
       "      <td>1922.904618</td>\n",
       "      <td>1004.370420</td>\n",
       "      <td>128.0</td>\n",
       "      <td>1268.00</td>\n",
       "      <td>1659.0</td>\n",
       "      <td>2306.00</td>\n",
       "      <td>21929.0</td>\n",
       "    </tr>\n",
       "    <tr>\n",
       "      <th>taxvaluedollarcnt</th>\n",
       "      <td>52358.0</td>\n",
       "      <td>528025.819569</td>\n",
       "      <td>748329.465813</td>\n",
       "      <td>1000.0</td>\n",
       "      <td>193644.25</td>\n",
       "      <td>373376.5</td>\n",
       "      <td>618533.25</td>\n",
       "      <td>49061236.0</td>\n",
       "    </tr>\n",
       "    <tr>\n",
       "      <th>fips</th>\n",
       "      <td>52358.0</td>\n",
       "      <td>6049.111158</td>\n",
       "      <td>21.019623</td>\n",
       "      <td>6037.0</td>\n",
       "      <td>6037.00</td>\n",
       "      <td>6037.0</td>\n",
       "      <td>6059.00</td>\n",
       "      <td>6111.0</td>\n",
       "    </tr>\n",
       "  </tbody>\n",
       "</table>\n",
       "</div>"
      ],
      "text/plain": [
       "                                count           mean            std     min  \\\n",
       "bedroomcnt                    52358.0       3.305531       0.941429     0.0   \n",
       "bathroomcnt                   52358.0       2.302781       1.019773     0.0   \n",
       "calculatedfinishedsquarefeet  52358.0    1922.904618    1004.370420   128.0   \n",
       "taxvaluedollarcnt             52358.0  528025.819569  748329.465813  1000.0   \n",
       "fips                          52358.0    6049.111158      21.019623  6037.0   \n",
       "\n",
       "                                    25%       50%        75%         max  \n",
       "bedroomcnt                         3.00       3.0       4.00        14.0  \n",
       "bathroomcnt                        2.00       2.0       3.00        18.0  \n",
       "calculatedfinishedsquarefeet    1268.00    1659.0    2306.00     21929.0  \n",
       "taxvaluedollarcnt             193644.25  373376.5  618533.25  49061236.0  \n",
       "fips                            6037.00    6037.0    6059.00      6111.0  "
      ]
     },
     "execution_count": 14,
     "metadata": {},
     "output_type": "execute_result"
    }
   ],
   "source": [
    "#taking a look at the mean and other data stats\n",
    "df.describe().T"
   ]
  },
  {
   "cell_type": "code",
   "execution_count": 15,
   "id": "4455cdeb",
   "metadata": {},
   "outputs": [
    {
     "data": {
      "text/plain": [
       "<AxesSubplot:>"
      ]
     },
     "execution_count": 15,
     "metadata": {},
     "output_type": "execute_result"
    },
    {
     "data": {
      "image/png": "[encoded data removed]",
      "text/plain": [
       "<Figure size 432x288 with 1 Axes>"
      ]
     },
     "metadata": {
      "needs_background": "light"
     },
     "output_type": "display_data"
    }
   ],
   "source": [
    "#looking at 100 properties where bathroom count is higher than average\n",
    "df[df.bathroomcnt > 2.3].taxvaluedollarcnt.hist(bins=100)"
   ]
  },
  {
   "cell_type": "code",
   "execution_count": 16,
   "id": "b2a4be69",
   "metadata": {},
   "outputs": [
    {
     "data": {
      "text/plain": [
       "<AxesSubplot:>"
      ]
     },
     "execution_count": 16,
     "metadata": {},
     "output_type": "execute_result"
    },
    {
     "data": {
      "image/png": "[encoded data removed]",
      "text/plain": [
       "<Figure size 432x288 with 1 Axes>"
      ]
     },
     "metadata": {
      "needs_background": "light"
     },
     "output_type": "display_data"
    }
   ],
   "source": [
    "#looking at 100 properties where bedroom count is higher than average\n",
    "\n",
    "df[df.bedroomcnt > 3.3 ].taxvaluedollarcnt.hist(bins=100)"
   ]
  },
  {
   "cell_type": "markdown",
   "id": "d75cfdb2",
   "metadata": {},
   "source": [
    "#### More Visualizations"
   ]
  },
  {
   "cell_type": "code",
   "execution_count": 17,
   "id": "cb1c934d",
   "metadata": {},
   "outputs": [
    {
     "data": {
      "image/png": "[encoded data removed]",
      "text/plain": [
       "<Figure size 360x360 with 1 Axes>"
      ]
     },
     "metadata": {
      "needs_background": "light"
     },
     "output_type": "display_data"
    }
   ],
   "source": [
    "#using sns displot to see values of homes and the years built \n",
    "sns.displot(x='calculatedfinishedsquarefeet', data=df)\n",
    "\n",
    "plt.title('Finished squarefeet of 2017 homes')\n",
    "plt.show()"
   ]
  },
  {
   "cell_type": "code",
   "execution_count": 18,
   "id": "4f110586",
   "metadata": {},
   "outputs": [
    {
     "data": {
      "image/png": "[encoded data removed]",
      "text/plain": [
       "<Figure size 1152x216 with 6 Axes>"
      ]
     },
     "metadata": {
      "needs_background": "light"
     },
     "output_type": "display_data"
    }
   ],
   "source": [
    "#creating histograms for all the variables\n",
    "\n",
    "plt.figure(figsize=(16, 3))\n",
    "\n",
    "# Creates a List of columns:\n",
    "for i, col in enumerate(df.columns):\n",
    "\n",
    "    # i starts at 0, but plot numbers should start at 1\n",
    "    plot_number = i + 1 \n",
    "\n",
    "    # Create subplot.\n",
    "    plt.subplot(1,8, plot_number)\n",
    "\n",
    "    # Title with column name.\n",
    "    plt.title(col)\n",
    "\n",
    "    # Display histogram for column.\n",
    "    df[col].hist(bins=5)\n",
    "\n",
    "    # Hide gridlines.\n",
    "    plt.grid(False)"
   ]
  },
  {
   "cell_type": "markdown",
   "id": "7abd5952",
   "metadata": {},
   "source": [
    "#### Takeaways:\n",
    "Just these few visuals show me there are some outliers that need to be dropped"
   ]
  },
  {
   "cell_type": "markdown",
   "id": "8dfd1097",
   "metadata": {},
   "source": [
    "### Handling Outliers:\n",
    "Seeing the size and count of the variables to locate any outliers"
   ]
  },
  {
   "cell_type": "markdown",
   "id": "dee6da2d",
   "metadata": {},
   "source": [
    "#### Squarefootage:"
   ]
  },
  {
   "cell_type": "code",
   "execution_count": 19,
   "id": "5b2ba272",
   "metadata": {},
   "outputs": [
    {
     "data": {
      "text/plain": [
       "2174     21929\n",
       "14539    20612\n",
       "7316     18654\n",
       "48813    17245\n",
       "27077    15450\n",
       "41548    14829\n",
       "28165    13598\n",
       "16552    12616\n",
       "48263    12056\n",
       "4249     12039\n",
       "5647     11880\n",
       "46706    11722\n",
       "22190    11704\n",
       "3754     11703\n",
       "11641    11649\n",
       "Name: calculatedfinishedsquarefeet, dtype: int64"
      ]
     },
     "execution_count": 19,
     "metadata": {},
     "output_type": "execute_result"
    }
   ],
   "source": [
    "df.calculatedfinishedsquarefeet.sort_values(ascending=False).head(15)"
   ]
  },
  {
   "cell_type": "markdown",
   "id": "35d2ecc9",
   "metadata": {},
   "source": [
    "I'm thinking of narrowing down to only a range of below 9,000sqft homes"
   ]
  },
  {
   "cell_type": "code",
   "execution_count": 20,
   "id": "e5d5f0b4",
   "metadata": {},
   "outputs": [
    {
     "data": {
      "text/plain": [
       "0.9989304404293518"
      ]
     },
     "execution_count": 20,
     "metadata": {},
     "output_type": "execute_result"
    }
   ],
   "source": [
    "#let's see the percentage if we narrowed it down from there\n",
    "df[df.calculatedfinishedsquarefeet <= 9_000].shape[0] / df.shape[0]\n"
   ]
  },
  {
   "cell_type": "markdown",
   "id": "0175ad19",
   "metadata": {},
   "source": [
    "I still would have 99.8% of my data. I feel comfortable narrowing things down to this.\n"
   ]
  },
  {
   "cell_type": "code",
   "execution_count": 21,
   "id": "38836017",
   "metadata": {},
   "outputs": [],
   "source": [
    " df = df[df.calculatedfinishedsquarefeet <= 9_000]"
   ]
  },
  {
   "cell_type": "markdown",
   "id": "70c2517b",
   "metadata": {},
   "source": [
    "Let's look at the lower sqft end:"
   ]
  },
  {
   "cell_type": "code",
   "execution_count": 22,
   "id": "f06de096",
   "metadata": {},
   "outputs": [
    {
     "data": {
      "text/plain": [
       "0.9999617605445299"
      ]
     },
     "execution_count": 22,
     "metadata": {},
     "output_type": "execute_result"
    }
   ],
   "source": [
    "df[df.calculatedfinishedsquarefeet >= 200].shape[0] / df.shape[0]"
   ]
  },
  {
   "cell_type": "markdown",
   "id": "0d05d2c0",
   "metadata": {},
   "source": [
    "Again, I feel comfortable narrowing from this end too:"
   ]
  },
  {
   "cell_type": "code",
   "execution_count": 23,
   "id": "485adc04",
   "metadata": {},
   "outputs": [],
   "source": [
    "df = df[df.calculatedfinishedsquarefeet >= 200]"
   ]
  },
  {
   "cell_type": "markdown",
   "id": "919a7c1c",
   "metadata": {},
   "source": [
    "#### Bedroom Count:"
   ]
  },
  {
   "cell_type": "code",
   "execution_count": 24,
   "id": "a39b5378",
   "metadata": {},
   "outputs": [
    {
     "data": {
      "text/plain": [
       "31642    12\n",
       "31641    12\n",
       "31643    12\n",
       "21165    11\n",
       "33907    10\n",
       "28209     9\n",
       "49355     9\n",
       "44252     9\n",
       "6425      9\n",
       "11416     9\n",
       "5291      9\n",
       "1695      8\n",
       "47881     8\n",
       "36666     8\n",
       "7035      8\n",
       "Name: bedroomcnt, dtype: int64"
      ]
     },
     "execution_count": 24,
     "metadata": {},
     "output_type": "execute_result"
    }
   ],
   "source": [
    "df.bedroomcnt.sort_values(ascending=False).head(15)"
   ]
  },
  {
   "cell_type": "markdown",
   "id": "319622d0",
   "metadata": {},
   "source": [
    "Hmm...what if I get rid of homes with more than 6 bedrooms?"
   ]
  },
  {
   "cell_type": "code",
   "execution_count": 25,
   "id": "564e6c03",
   "metadata": {},
   "outputs": [
    {
     "data": {
      "text/plain": [
       "0.9976099426386233"
      ]
     },
     "execution_count": 25,
     "metadata": {},
     "output_type": "execute_result"
    }
   ],
   "source": [
    "df[df.bedroomcnt <= 6].shape[0] / df.shape[0]"
   ]
  },
  {
   "cell_type": "code",
   "execution_count": 26,
   "id": "48ec5d4b",
   "metadata": {},
   "outputs": [],
   "source": [
    "#that looks good:\n",
    "df = df[df.bedroomcnt <= 6]"
   ]
  },
  {
   "cell_type": "markdown",
   "id": "3764d385",
   "metadata": {},
   "source": [
    "I also will get rid of zero bedrooms as my industry source says these are similar to nulls:"
   ]
  },
  {
   "cell_type": "code",
   "execution_count": 27,
   "id": "593be376",
   "metadata": {},
   "outputs": [
    {
     "data": {
      "text/plain": [
       "0.9988116914230953"
      ]
     },
     "execution_count": 27,
     "metadata": {},
     "output_type": "execute_result"
    }
   ],
   "source": [
    "df[df.bedroomcnt != 0].shape[0] / df.shape[0]"
   ]
  },
  {
   "cell_type": "code",
   "execution_count": 28,
   "id": "d547815a",
   "metadata": {},
   "outputs": [],
   "source": [
    "#yep, still leaves us with 99.8%\n",
    "df=df[df.bedroomcnt != 0]"
   ]
  },
  {
   "cell_type": "markdown",
   "id": "ef343f1f",
   "metadata": {},
   "source": [
    "#### Bathroom Count"
   ]
  },
  {
   "cell_type": "code",
   "execution_count": 29,
   "id": "804af256",
   "metadata": {},
   "outputs": [
    {
     "data": {
      "text/plain": [
       "12619    9.0\n",
       "38176    9.0\n",
       "17246    9.0\n",
       "19961    8.5\n",
       "4254     8.0\n",
       "46327    8.0\n",
       "11189    8.0\n",
       "7056     8.0\n",
       "4925     8.0\n",
       "6686     8.0\n",
       "39768    8.0\n",
       "12548    8.0\n",
       "34869    8.0\n",
       "29198    8.0\n",
       "44788    8.0\n",
       "Name: bathroomcnt, dtype: float64"
      ]
     },
     "execution_count": 29,
     "metadata": {},
     "output_type": "execute_result"
    }
   ],
   "source": [
    "df.bathroomcnt.sort_values(ascending=False).head(15)"
   ]
  },
  {
   "cell_type": "markdown",
   "id": "d58e06ed",
   "metadata": {},
   "source": [
    "ok. Maybe let's see how much data is left with 6 or less baths?"
   ]
  },
  {
   "cell_type": "code",
   "execution_count": 30,
   "id": "12c23a0f",
   "metadata": {},
   "outputs": [
    {
     "data": {
      "text/plain": [
       "0.9970256941646038"
      ]
     },
     "execution_count": 30,
     "metadata": {},
     "output_type": "execute_result"
    }
   ],
   "source": [
    "df[df.bathroomcnt <= 6].shape[0] / df.shape[0]"
   ]
  },
  {
   "cell_type": "code",
   "execution_count": 31,
   "id": "d95c327a",
   "metadata": {},
   "outputs": [],
   "source": [
    "#cool, let's narrow it here too:\n",
    "df = df[df.bathroomcnt <= 6]"
   ]
  },
  {
   "cell_type": "code",
   "execution_count": 32,
   "id": "f5ee2c51",
   "metadata": {},
   "outputs": [],
   "source": [
    "#also getting rid of properties with no baths\n",
    "df=df[df.bathroomcnt != 0]"
   ]
  },
  {
   "cell_type": "code",
   "execution_count": 33,
   "id": "8dd844a6",
   "metadata": {},
   "outputs": [
    {
     "name": "stdout",
     "output_type": "stream",
     "text": [
      "<class 'pandas.core.frame.DataFrame'>\n",
      "Int64Index: 51942 entries, 0 to 52440\n",
      "Data columns (total 6 columns):\n",
      " #   Column                        Non-Null Count  Dtype  \n",
      "---  ------                        --------------  -----  \n",
      " 0   bedroomcnt                    51942 non-null  int64  \n",
      " 1   bathroomcnt                   51942 non-null  float64\n",
      " 2   calculatedfinishedsquarefeet  51942 non-null  int64  \n",
      " 3   taxvaluedollarcnt             51942 non-null  int64  \n",
      " 4   transactiondate               51942 non-null  object \n",
      " 5   fips                          51942 non-null  int64  \n",
      "dtypes: float64(1), int64(4), object(1)\n",
      "memory usage: 2.8+ MB\n"
     ]
    }
   ],
   "source": [
    "#Let's see how much data we have still....\n",
    "df.info()"
   ]
  },
  {
   "cell_type": "code",
   "execution_count": 34,
   "id": "f4491bd1",
   "metadata": {},
   "outputs": [
    {
     "name": "stdout",
     "output_type": "stream",
     "text": [
      "bedroomcnt\n",
      "3    23351\n",
      "4    15218\n",
      "2     8334\n",
      "5     3891\n",
      "1      605\n",
      "6      543\n",
      "Name: bedroomcnt, dtype: int64\n",
      "-------------------------------\n",
      "bathroomcnt\n",
      "2.0    21879\n",
      "3.0    10644\n",
      "1.0     9544\n",
      "2.5     3932\n",
      "4.0     2203\n",
      "3.5      915\n",
      "1.5      840\n",
      "5.0      786\n",
      "4.5      679\n",
      "6.0      297\n",
      "5.5      223\n",
      "Name: bathroomcnt, dtype: int64\n",
      "-------------------------------\n",
      "calculatedfinishedsquarefeet\n",
      "1120    127\n",
      "1200    118\n",
      "1080    102\n",
      "1040     86\n",
      "936      86\n",
      "       ... \n",
      "4128      1\n",
      "4482      1\n",
      "6571      1\n",
      "5322      1\n",
      "5124      1\n",
      "Name: calculatedfinishedsquarefeet, Length: 4489, dtype: int64\n",
      "-------------------------------\n",
      "taxvaluedollarcnt\n",
      "455000    34\n",
      "600000    30\n",
      "500000    24\n",
      "450000    24\n",
      "550000    24\n",
      "          ..\n",
      "159489     1\n",
      "161962     1\n",
      "317075     1\n",
      "635345     1\n",
      "33325      1\n",
      "Name: taxvaluedollarcnt, Length: 38507, dtype: int64\n",
      "-------------------------------\n",
      "transactiondate\n",
      "2017-06-30    802\n",
      "2017-04-28    610\n",
      "2017-05-31    559\n",
      "2017-07-28    540\n",
      "2017-08-31    522\n",
      "             ... \n",
      "2017-08-13      1\n",
      "2017-03-25      1\n",
      "2017-03-12      1\n",
      "2017-06-03      1\n",
      "2017-09-02      1\n",
      "Name: transactiondate, Length: 256, dtype: int64\n",
      "-------------------------------\n",
      "fips\n",
      "6037    33611\n",
      "6059    13988\n",
      "6111     4343\n",
      "Name: fips, dtype: int64\n",
      "-------------------------------\n"
     ]
    }
   ],
   "source": [
    "#looking at the counts for each column\n",
    "for column in df.columns:\n",
    "    print(column)\n",
    "    print(df[column].value_counts())\n",
    "    print(\"-------------------------------\")"
   ]
  },
  {
   "cell_type": "markdown",
   "id": "6cfe9a39",
   "metadata": {},
   "source": [
    "#### Assessed Value of Home:\n",
    "Let's see what outliers are here..."
   ]
  },
  {
   "cell_type": "code",
   "execution_count": 35,
   "id": "400429a0",
   "metadata": {},
   "outputs": [
    {
     "data": {
      "text/plain": [
       "50749    20203475\n",
       "39015    15618488\n",
       "48383    13600098\n",
       "8195     13198250\n",
       "31892    13128583\n",
       "34899    11317682\n",
       "36239    11020600\n",
       "43578    11000000\n",
       "38704    10873908\n",
       "3771     10610405\n",
       "50762    10355345\n",
       "24259    10130485\n",
       "50475    10050974\n",
       "41562     9935000\n",
       "37553     9870514\n",
       "Name: taxvaluedollarcnt, dtype: int64"
      ]
     },
     "execution_count": 35,
     "metadata": {},
     "output_type": "execute_result"
    }
   ],
   "source": [
    "df.taxvaluedollarcnt.sort_values(ascending=False).head(15)"
   ]
  },
  {
   "cell_type": "markdown",
   "id": "7498ce59",
   "metadata": {},
   "source": [
    "Wow. Maybe I'll see what it looks like for 2M homes or less..."
   ]
  },
  {
   "cell_type": "code",
   "execution_count": 36,
   "id": "8a4e7c16",
   "metadata": {},
   "outputs": [
    {
     "data": {
      "text/plain": [
       "0.9771475876939664"
      ]
     },
     "execution_count": 36,
     "metadata": {},
     "output_type": "execute_result"
    }
   ],
   "source": [
    "df[df.taxvaluedollarcnt <= 2_000_000].shape[0] / df.shape[0]"
   ]
  },
  {
   "cell_type": "code",
   "execution_count": 37,
   "id": "cc97b9e0",
   "metadata": {},
   "outputs": [
    {
     "data": {
      "text/plain": [
       "0.9861961418505256"
      ]
     },
     "execution_count": 37,
     "metadata": {},
     "output_type": "execute_result"
    }
   ],
   "source": [
    "#I'll try a little bit more, to get to 98 or 99% still left\n",
    "df[df.taxvaluedollarcnt <= 2_500_000].shape[0] / df.shape[0]"
   ]
  },
  {
   "cell_type": "markdown",
   "id": "c6508c5e",
   "metadata": {},
   "source": [
    "Yep. Let's take these outliers out too"
   ]
  },
  {
   "cell_type": "code",
   "execution_count": 38,
   "id": "2d1ad9bb",
   "metadata": {},
   "outputs": [],
   "source": [
    "df = df[df.taxvaluedollarcnt <= 2_500_000]"
   ]
  },
  {
   "cell_type": "code",
   "execution_count": 39,
   "id": "35dae60a",
   "metadata": {},
   "outputs": [
    {
     "data": {
      "text/plain": [
       "0.9808882381649585"
      ]
     },
     "execution_count": 39,
     "metadata": {},
     "output_type": "execute_result"
    }
   ],
   "source": [
    "#other end:\n",
    "df[df.taxvaluedollarcnt >= 45_000].shape[0] / df.shape[0]"
   ]
  },
  {
   "cell_type": "markdown",
   "id": "1e1608f2",
   "metadata": {},
   "source": [
    "I don't know who is buying these homes at 45,000, but good for them...and I'm taking out the lower end ones"
   ]
  },
  {
   "cell_type": "code",
   "execution_count": 40,
   "id": "241d0fa1",
   "metadata": {},
   "outputs": [],
   "source": [
    "df = df[df.taxvaluedollarcnt >= 45_000]"
   ]
  },
  {
   "cell_type": "code",
   "execution_count": 41,
   "id": "7a386434",
   "metadata": {},
   "outputs": [
    {
     "name": "stdout",
     "output_type": "stream",
     "text": [
      "<class 'pandas.core.frame.DataFrame'>\n",
      "Int64Index: 50246 entries, 0 to 52440\n",
      "Data columns (total 6 columns):\n",
      " #   Column                        Non-Null Count  Dtype  \n",
      "---  ------                        --------------  -----  \n",
      " 0   bedroomcnt                    50246 non-null  int64  \n",
      " 1   bathroomcnt                   50246 non-null  float64\n",
      " 2   calculatedfinishedsquarefeet  50246 non-null  int64  \n",
      " 3   taxvaluedollarcnt             50246 non-null  int64  \n",
      " 4   transactiondate               50246 non-null  object \n",
      " 5   fips                          50246 non-null  int64  \n",
      "dtypes: float64(1), int64(4), object(1)\n",
      "memory usage: 2.7+ MB\n"
     ]
    }
   ],
   "source": [
    "df.info()"
   ]
  },
  {
   "cell_type": "markdown",
   "id": "4893ea12",
   "metadata": {},
   "source": [
    "____________________________________________________________________________________________________________"
   ]
  },
  {
   "cell_type": "markdown",
   "id": "d2040513",
   "metadata": {},
   "source": [
    "### Missing county/fips codes in:\n",
    "Thanks Zach for losing those fip codes! ;) \n",
    "Here is a function to add those back in."
   ]
  },
  {
   "cell_type": "code",
   "execution_count": 42,
   "id": "696367bf",
   "metadata": {},
   "outputs": [],
   "source": [
    "def clearing_fips(df):\n",
    "    '''This function takes in a DataFrame of unprepared Zillow information and generates a new\n",
    "    'county' column, with the county name based on the FIPS code. \n",
    "    '''\n",
    "    # create a list of our conditions\n",
    "    fips = [\n",
    "        (df['fips'] == 6037),\n",
    "        (df['fips'] == 6059),\n",
    "        (df['fips'] == 6111)\n",
    "        ]\n",
    "    # create a list of the values we want to assign for each condition\n",
    "    counties = ['Los Angeles County', 'Orange County', 'Ventura County']\n",
    "    # create a new column and use np.select to assign values to it using our lists as arguments\n",
    "    df['county'] = np.select(fips, counties)\n",
    "    return df"
   ]
  },
  {
   "cell_type": "code",
   "execution_count": 43,
   "id": "2db8554e",
   "metadata": {},
   "outputs": [
    {
     "data": {
      "text/html": [
       "<div>\n",
       "<style scoped>\n",
       "    .dataframe tbody tr th:only-of-type {\n",
       "        vertical-align: middle;\n",
       "    }\n",
       "\n",
       "    .dataframe tbody tr th {\n",
       "        vertical-align: top;\n",
       "    }\n",
       "\n",
       "    .dataframe thead th {\n",
       "        text-align: right;\n",
       "    }\n",
       "</style>\n",
       "<table border=\"1\" class=\"dataframe\">\n",
       "  <thead>\n",
       "    <tr style=\"text-align: right;\">\n",
       "      <th></th>\n",
       "      <th>bedroomcnt</th>\n",
       "      <th>bathroomcnt</th>\n",
       "      <th>calculatedfinishedsquarefeet</th>\n",
       "      <th>taxvaluedollarcnt</th>\n",
       "      <th>transactiondate</th>\n",
       "      <th>fips</th>\n",
       "      <th>county</th>\n",
       "    </tr>\n",
       "  </thead>\n",
       "  <tbody>\n",
       "    <tr>\n",
       "      <th>0</th>\n",
       "      <td>3</td>\n",
       "      <td>1.0</td>\n",
       "      <td>1012</td>\n",
       "      <td>79904</td>\n",
       "      <td>2017-01-13</td>\n",
       "      <td>6037</td>\n",
       "      <td>Los Angeles County</td>\n",
       "    </tr>\n",
       "    <tr>\n",
       "      <th>1</th>\n",
       "      <td>4</td>\n",
       "      <td>2.0</td>\n",
       "      <td>1242</td>\n",
       "      <td>590000</td>\n",
       "      <td>2017-01-13</td>\n",
       "      <td>6037</td>\n",
       "      <td>Los Angeles County</td>\n",
       "    </tr>\n",
       "    <tr>\n",
       "      <th>2</th>\n",
       "      <td>2</td>\n",
       "      <td>1.0</td>\n",
       "      <td>864</td>\n",
       "      <td>355000</td>\n",
       "      <td>2017-01-13</td>\n",
       "      <td>6037</td>\n",
       "      <td>Los Angeles County</td>\n",
       "    </tr>\n",
       "    <tr>\n",
       "      <th>3</th>\n",
       "      <td>3</td>\n",
       "      <td>2.0</td>\n",
       "      <td>1550</td>\n",
       "      <td>2200000</td>\n",
       "      <td>2017-01-13</td>\n",
       "      <td>6037</td>\n",
       "      <td>Los Angeles County</td>\n",
       "    </tr>\n",
       "    <tr>\n",
       "      <th>4</th>\n",
       "      <td>3</td>\n",
       "      <td>2.0</td>\n",
       "      <td>1149</td>\n",
       "      <td>185716</td>\n",
       "      <td>2017-01-13</td>\n",
       "      <td>6037</td>\n",
       "      <td>Los Angeles County</td>\n",
       "    </tr>\n",
       "    <tr>\n",
       "      <th>...</th>\n",
       "      <td>...</td>\n",
       "      <td>...</td>\n",
       "      <td>...</td>\n",
       "      <td>...</td>\n",
       "      <td>...</td>\n",
       "      <td>...</td>\n",
       "      <td>...</td>\n",
       "    </tr>\n",
       "    <tr>\n",
       "      <th>52435</th>\n",
       "      <td>4</td>\n",
       "      <td>2.0</td>\n",
       "      <td>1440</td>\n",
       "      <td>585000</td>\n",
       "      <td>2017-09-06</td>\n",
       "      <td>6059</td>\n",
       "      <td>Orange County</td>\n",
       "    </tr>\n",
       "    <tr>\n",
       "      <th>52436</th>\n",
       "      <td>4</td>\n",
       "      <td>2.0</td>\n",
       "      <td>1669</td>\n",
       "      <td>569544</td>\n",
       "      <td>2017-09-06</td>\n",
       "      <td>6059</td>\n",
       "      <td>Orange County</td>\n",
       "    </tr>\n",
       "    <tr>\n",
       "      <th>52437</th>\n",
       "      <td>3</td>\n",
       "      <td>2.0</td>\n",
       "      <td>1821</td>\n",
       "      <td>402132</td>\n",
       "      <td>2017-09-06</td>\n",
       "      <td>6037</td>\n",
       "      <td>Los Angeles County</td>\n",
       "    </tr>\n",
       "    <tr>\n",
       "      <th>52438</th>\n",
       "      <td>2</td>\n",
       "      <td>1.0</td>\n",
       "      <td>1246</td>\n",
       "      <td>468691</td>\n",
       "      <td>2017-09-06</td>\n",
       "      <td>6037</td>\n",
       "      <td>Los Angeles County</td>\n",
       "    </tr>\n",
       "    <tr>\n",
       "      <th>52440</th>\n",
       "      <td>3</td>\n",
       "      <td>2.0</td>\n",
       "      <td>1180</td>\n",
       "      <td>71426</td>\n",
       "      <td>2017-09-06</td>\n",
       "      <td>6037</td>\n",
       "      <td>Los Angeles County</td>\n",
       "    </tr>\n",
       "  </tbody>\n",
       "</table>\n",
       "<p>50246 rows × 7 columns</p>\n",
       "</div>"
      ],
      "text/plain": [
       "       bedroomcnt  bathroomcnt  calculatedfinishedsquarefeet  \\\n",
       "0               3          1.0                          1012   \n",
       "1               4          2.0                          1242   \n",
       "2               2          1.0                           864   \n",
       "3               3          2.0                          1550   \n",
       "4               3          2.0                          1149   \n",
       "...           ...          ...                           ...   \n",
       "52435           4          2.0                          1440   \n",
       "52436           4          2.0                          1669   \n",
       "52437           3          2.0                          1821   \n",
       "52438           2          1.0                          1246   \n",
       "52440           3          2.0                          1180   \n",
       "\n",
       "       taxvaluedollarcnt transactiondate  fips              county  \n",
       "0                  79904      2017-01-13  6037  Los Angeles County  \n",
       "1                 590000      2017-01-13  6037  Los Angeles County  \n",
       "2                 355000      2017-01-13  6037  Los Angeles County  \n",
       "3                2200000      2017-01-13  6037  Los Angeles County  \n",
       "4                 185716      2017-01-13  6037  Los Angeles County  \n",
       "...                  ...             ...   ...                 ...  \n",
       "52435             585000      2017-09-06  6059       Orange County  \n",
       "52436             569544      2017-09-06  6059       Orange County  \n",
       "52437             402132      2017-09-06  6037  Los Angeles County  \n",
       "52438             468691      2017-09-06  6037  Los Angeles County  \n",
       "52440              71426      2017-09-06  6037  Los Angeles County  \n",
       "\n",
       "[50246 rows x 7 columns]"
      ]
     },
     "execution_count": 43,
     "metadata": {},
     "output_type": "execute_result"
    }
   ],
   "source": [
    "clearing_fips(df)"
   ]
  },
  {
   "cell_type": "markdown",
   "id": "9cf7035e",
   "metadata": {},
   "source": [
    "### >>ALL THE ABOVE IS NOW ADDED INTO THE ACQUIRE .py file<<"
   ]
  },
  {
   "cell_type": "markdown",
   "id": "30d7216b",
   "metadata": {},
   "source": [
    "_____________________________________________________________________________________________________________________"
   ]
  },
  {
   "cell_type": "code",
   "execution_count": 44,
   "id": "4f6d56cb",
   "metadata": {},
   "outputs": [],
   "source": [
    "#LET's check out that acquire.py file!\n"
   ]
  },
  {
   "cell_type": "code",
   "execution_count": null,
   "id": "65526963",
   "metadata": {},
   "outputs": [],
   "source": []
  },
  {
   "cell_type": "code",
   "execution_count": null,
   "id": "18eef442",
   "metadata": {},
   "outputs": [],
   "source": []
  },
  {
   "cell_type": "markdown",
   "id": "7d362648",
   "metadata": {},
   "source": [
    "### Exploration and Test:"
   ]
  },
  {
   "cell_type": "code",
   "execution_count": 45,
   "id": "73e2d410",
   "metadata": {},
   "outputs": [
    {
     "ename": "ValueError",
     "evalue": "Could not interpret value `Bedroom_Count` for parameter `x`",
     "output_type": "error",
     "traceback": [
      "\u001b[0;31m---------------------------------------------------------------------------\u001b[0m",
      "\u001b[0;31mValueError\u001b[0m                                Traceback (most recent call last)",
      "\u001b[0;32m/var/folders/d3/11nygz6126ndxvtrp12687680000gn/T/ipykernel_9572/3961363216.py\u001b[0m in \u001b[0;36m<module>\u001b[0;34m\u001b[0m\n\u001b[1;32m      1\u001b[0m \u001b[0mplt\u001b[0m\u001b[0;34m.\u001b[0m\u001b[0mfigure\u001b[0m\u001b[0;34m(\u001b[0m\u001b[0mfigsize\u001b[0m\u001b[0;34m=\u001b[0m\u001b[0;34m(\u001b[0m\u001b[0;36m10\u001b[0m\u001b[0;34m,\u001b[0m\u001b[0;36m8\u001b[0m\u001b[0;34m)\u001b[0m\u001b[0;34m)\u001b[0m\u001b[0;34m\u001b[0m\u001b[0;34m\u001b[0m\u001b[0m\n\u001b[0;32m----> 2\u001b[0;31m \u001b[0msns\u001b[0m\u001b[0;34m.\u001b[0m\u001b[0mscatterplot\u001b[0m\u001b[0;34m(\u001b[0m\u001b[0mdata\u001b[0m\u001b[0;34m=\u001b[0m\u001b[0mdf\u001b[0m\u001b[0;34m,\u001b[0m \u001b[0mx\u001b[0m\u001b[0;34m=\u001b[0m\u001b[0;34m\"Bedroom_Count\"\u001b[0m\u001b[0;34m,\u001b[0m \u001b[0my\u001b[0m\u001b[0;34m=\u001b[0m\u001b[0;34m\"square_feet\"\u001b[0m\u001b[0;34m)\u001b[0m\u001b[0;34m\u001b[0m\u001b[0;34m\u001b[0m\u001b[0m\n\u001b[0m",
      "\u001b[0;32m/usr/local/anaconda3/lib/python3.9/site-packages/seaborn/_decorators.py\u001b[0m in \u001b[0;36minner_f\u001b[0;34m(*args, **kwargs)\u001b[0m\n\u001b[1;32m     44\u001b[0m             )\n\u001b[1;32m     45\u001b[0m         \u001b[0mkwargs\u001b[0m\u001b[0;34m.\u001b[0m\u001b[0mupdate\u001b[0m\u001b[0;34m(\u001b[0m\u001b[0;34m{\u001b[0m\u001b[0mk\u001b[0m\u001b[0;34m:\u001b[0m \u001b[0marg\u001b[0m \u001b[0;32mfor\u001b[0m \u001b[0mk\u001b[0m\u001b[0;34m,\u001b[0m \u001b[0marg\u001b[0m \u001b[0;32min\u001b[0m \u001b[0mzip\u001b[0m\u001b[0;34m(\u001b[0m\u001b[0msig\u001b[0m\u001b[0;34m.\u001b[0m\u001b[0mparameters\u001b[0m\u001b[0;34m,\u001b[0m \u001b[0margs\u001b[0m\u001b[0;34m)\u001b[0m\u001b[0;34m}\u001b[0m\u001b[0;34m)\u001b[0m\u001b[0;34m\u001b[0m\u001b[0;34m\u001b[0m\u001b[0m\n\u001b[0;32m---> 46\u001b[0;31m         \u001b[0;32mreturn\u001b[0m \u001b[0mf\u001b[0m\u001b[0;34m(\u001b[0m\u001b[0;34m**\u001b[0m\u001b[0mkwargs\u001b[0m\u001b[0;34m)\u001b[0m\u001b[0;34m\u001b[0m\u001b[0;34m\u001b[0m\u001b[0m\n\u001b[0m\u001b[1;32m     47\u001b[0m     \u001b[0;32mreturn\u001b[0m \u001b[0minner_f\u001b[0m\u001b[0;34m\u001b[0m\u001b[0;34m\u001b[0m\u001b[0m\n\u001b[1;32m     48\u001b[0m \u001b[0;34m\u001b[0m\u001b[0m\n",
      "\u001b[0;32m/usr/local/anaconda3/lib/python3.9/site-packages/seaborn/relational.py\u001b[0m in \u001b[0;36mscatterplot\u001b[0;34m(x, y, hue, style, size, data, palette, hue_order, hue_norm, sizes, size_order, size_norm, markers, style_order, x_bins, y_bins, units, estimator, ci, n_boot, alpha, x_jitter, y_jitter, legend, ax, **kwargs)\u001b[0m\n\u001b[1;32m    806\u001b[0m \u001b[0;34m\u001b[0m\u001b[0m\n\u001b[1;32m    807\u001b[0m     \u001b[0mvariables\u001b[0m \u001b[0;34m=\u001b[0m \u001b[0m_ScatterPlotter\u001b[0m\u001b[0;34m.\u001b[0m\u001b[0mget_semantics\u001b[0m\u001b[0;34m(\u001b[0m\u001b[0mlocals\u001b[0m\u001b[0;34m(\u001b[0m\u001b[0;34m)\u001b[0m\u001b[0;34m)\u001b[0m\u001b[0;34m\u001b[0m\u001b[0;34m\u001b[0m\u001b[0m\n\u001b[0;32m--> 808\u001b[0;31m     p = _ScatterPlotter(\n\u001b[0m\u001b[1;32m    809\u001b[0m         \u001b[0mdata\u001b[0m\u001b[0;34m=\u001b[0m\u001b[0mdata\u001b[0m\u001b[0;34m,\u001b[0m \u001b[0mvariables\u001b[0m\u001b[0;34m=\u001b[0m\u001b[0mvariables\u001b[0m\u001b[0;34m,\u001b[0m\u001b[0;34m\u001b[0m\u001b[0;34m\u001b[0m\u001b[0m\n\u001b[1;32m    810\u001b[0m         \u001b[0mx_bins\u001b[0m\u001b[0;34m=\u001b[0m\u001b[0mx_bins\u001b[0m\u001b[0;34m,\u001b[0m \u001b[0my_bins\u001b[0m\u001b[0;34m=\u001b[0m\u001b[0my_bins\u001b[0m\u001b[0;34m,\u001b[0m\u001b[0;34m\u001b[0m\u001b[0;34m\u001b[0m\u001b[0m\n",
      "\u001b[0;32m/usr/local/anaconda3/lib/python3.9/site-packages/seaborn/relational.py\u001b[0m in \u001b[0;36m__init__\u001b[0;34m(self, data, variables, x_bins, y_bins, estimator, ci, n_boot, alpha, x_jitter, y_jitter, legend)\u001b[0m\n\u001b[1;32m    585\u001b[0m         )\n\u001b[1;32m    586\u001b[0m \u001b[0;34m\u001b[0m\u001b[0m\n\u001b[0;32m--> 587\u001b[0;31m         \u001b[0msuper\u001b[0m\u001b[0;34m(\u001b[0m\u001b[0;34m)\u001b[0m\u001b[0;34m.\u001b[0m\u001b[0m__init__\u001b[0m\u001b[0;34m(\u001b[0m\u001b[0mdata\u001b[0m\u001b[0;34m=\u001b[0m\u001b[0mdata\u001b[0m\u001b[0;34m,\u001b[0m \u001b[0mvariables\u001b[0m\u001b[0;34m=\u001b[0m\u001b[0mvariables\u001b[0m\u001b[0;34m)\u001b[0m\u001b[0;34m\u001b[0m\u001b[0;34m\u001b[0m\u001b[0m\n\u001b[0m\u001b[1;32m    588\u001b[0m \u001b[0;34m\u001b[0m\u001b[0m\n\u001b[1;32m    589\u001b[0m         \u001b[0mself\u001b[0m\u001b[0;34m.\u001b[0m\u001b[0malpha\u001b[0m \u001b[0;34m=\u001b[0m \u001b[0malpha\u001b[0m\u001b[0;34m\u001b[0m\u001b[0;34m\u001b[0m\u001b[0m\n",
      "\u001b[0;32m/usr/local/anaconda3/lib/python3.9/site-packages/seaborn/_core.py\u001b[0m in \u001b[0;36m__init__\u001b[0;34m(self, data, variables)\u001b[0m\n\u001b[1;32m    603\u001b[0m     \u001b[0;32mdef\u001b[0m \u001b[0m__init__\u001b[0m\u001b[0;34m(\u001b[0m\u001b[0mself\u001b[0m\u001b[0;34m,\u001b[0m \u001b[0mdata\u001b[0m\u001b[0;34m=\u001b[0m\u001b[0;32mNone\u001b[0m\u001b[0;34m,\u001b[0m \u001b[0mvariables\u001b[0m\u001b[0;34m=\u001b[0m\u001b[0;34m{\u001b[0m\u001b[0;34m}\u001b[0m\u001b[0;34m)\u001b[0m\u001b[0;34m:\u001b[0m\u001b[0;34m\u001b[0m\u001b[0;34m\u001b[0m\u001b[0m\n\u001b[1;32m    604\u001b[0m \u001b[0;34m\u001b[0m\u001b[0m\n\u001b[0;32m--> 605\u001b[0;31m         \u001b[0mself\u001b[0m\u001b[0;34m.\u001b[0m\u001b[0massign_variables\u001b[0m\u001b[0;34m(\u001b[0m\u001b[0mdata\u001b[0m\u001b[0;34m,\u001b[0m \u001b[0mvariables\u001b[0m\u001b[0;34m)\u001b[0m\u001b[0;34m\u001b[0m\u001b[0;34m\u001b[0m\u001b[0m\n\u001b[0m\u001b[1;32m    606\u001b[0m \u001b[0;34m\u001b[0m\u001b[0m\n\u001b[1;32m    607\u001b[0m         \u001b[0;32mfor\u001b[0m \u001b[0mvar\u001b[0m\u001b[0;34m,\u001b[0m \u001b[0mcls\u001b[0m \u001b[0;32min\u001b[0m \u001b[0mself\u001b[0m\u001b[0;34m.\u001b[0m\u001b[0m_semantic_mappings\u001b[0m\u001b[0;34m.\u001b[0m\u001b[0mitems\u001b[0m\u001b[0;34m(\u001b[0m\u001b[0;34m)\u001b[0m\u001b[0;34m:\u001b[0m\u001b[0;34m\u001b[0m\u001b[0;34m\u001b[0m\u001b[0m\n",
      "\u001b[0;32m/usr/local/anaconda3/lib/python3.9/site-packages/seaborn/_core.py\u001b[0m in \u001b[0;36massign_variables\u001b[0;34m(self, data, variables)\u001b[0m\n\u001b[1;32m    666\u001b[0m         \u001b[0;32melse\u001b[0m\u001b[0;34m:\u001b[0m\u001b[0;34m\u001b[0m\u001b[0;34m\u001b[0m\u001b[0m\n\u001b[1;32m    667\u001b[0m             \u001b[0mself\u001b[0m\u001b[0;34m.\u001b[0m\u001b[0minput_format\u001b[0m \u001b[0;34m=\u001b[0m \u001b[0;34m\"long\"\u001b[0m\u001b[0;34m\u001b[0m\u001b[0;34m\u001b[0m\u001b[0m\n\u001b[0;32m--> 668\u001b[0;31m             plot_data, variables = self._assign_variables_longform(\n\u001b[0m\u001b[1;32m    669\u001b[0m                 \u001b[0mdata\u001b[0m\u001b[0;34m,\u001b[0m \u001b[0;34m**\u001b[0m\u001b[0mvariables\u001b[0m\u001b[0;34m,\u001b[0m\u001b[0;34m\u001b[0m\u001b[0;34m\u001b[0m\u001b[0m\n\u001b[1;32m    670\u001b[0m             )\n",
      "\u001b[0;32m/usr/local/anaconda3/lib/python3.9/site-packages/seaborn/_core.py\u001b[0m in \u001b[0;36m_assign_variables_longform\u001b[0;34m(self, data, **kwargs)\u001b[0m\n\u001b[1;32m    901\u001b[0m \u001b[0;34m\u001b[0m\u001b[0m\n\u001b[1;32m    902\u001b[0m                 \u001b[0merr\u001b[0m \u001b[0;34m=\u001b[0m \u001b[0;34mf\"Could not interpret value `{val}` for parameter `{key}`\"\u001b[0m\u001b[0;34m\u001b[0m\u001b[0;34m\u001b[0m\u001b[0m\n\u001b[0;32m--> 903\u001b[0;31m                 \u001b[0;32mraise\u001b[0m \u001b[0mValueError\u001b[0m\u001b[0;34m(\u001b[0m\u001b[0merr\u001b[0m\u001b[0;34m)\u001b[0m\u001b[0;34m\u001b[0m\u001b[0;34m\u001b[0m\u001b[0m\n\u001b[0m\u001b[1;32m    904\u001b[0m \u001b[0;34m\u001b[0m\u001b[0m\n\u001b[1;32m    905\u001b[0m             \u001b[0;32melse\u001b[0m\u001b[0;34m:\u001b[0m\u001b[0;34m\u001b[0m\u001b[0;34m\u001b[0m\u001b[0m\n",
      "\u001b[0;31mValueError\u001b[0m: Could not interpret value `Bedroom_Count` for parameter `x`"
     ]
    },
    {
     "data": {
      "text/plain": [
       "<Figure size 720x576 with 0 Axes>"
      ]
     },
     "metadata": {},
     "output_type": "display_data"
    }
   ],
   "source": [
    "plt.figure(figsize=(10,8))\n",
    "sns.scatterplot(data=df, x=\"Bedroom_Count\", y=\"square_feet\")"
   ]
  },
  {
   "cell_type": "code",
   "execution_count": null,
   "id": "446a08bc",
   "metadata": {},
   "outputs": [],
   "source": []
  }
 ],
 "metadata": {
  "kernelspec": {
   "display_name": "Python 3 (ipykernel)",
   "language": "python",
   "name": "python3"
  },
  "language_info": {
   "codemirror_mode": {
    "name": "ipython",
    "version": 3
   },
   "file_extension": ".py",
   "mimetype": "text/x-python",
   "name": "python",
   "nbconvert_exporter": "python",
   "pygments_lexer": "ipython3",
   "version": "3.9.7"
  }
 },
 "nbformat": 4,
 "nbformat_minor": 5
}
