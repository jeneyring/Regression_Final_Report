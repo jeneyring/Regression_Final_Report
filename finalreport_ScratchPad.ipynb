{
 "cells": [
  {
   "cell_type": "code",
   "execution_count": 13,
   "id": "a9961d98",
   "metadata": {},
   "outputs": [],
   "source": [
    "import warnings\n",
    "warnings.filterwarnings(\"ignore\")\n",
    "\n",
    "import pandas as pd\n",
    "import matplotlib.pyplot as plt\n",
    "import seaborn as sns\n",
    "import numpy as np\n",
    "from env import get_db_url\n",
    "import acquire"
   ]
  },
  {
   "cell_type": "markdown",
   "id": "e2356917",
   "metadata": {},
   "source": [
    "### Acquistion: \n",
    "INITIAL ACQUISITION (only with assessed value, bathroom count, bedroom count, square feet"
   ]
  },
  {
   "cell_type": "code",
   "execution_count": 15,
   "id": "f35eff55",
   "metadata": {},
   "outputs": [
    {
     "ename": "TypeError",
     "evalue": "read_sql() missing 1 required positional argument: 'con'",
     "output_type": "error",
     "traceback": [
      "\u001b[0;31m---------------------------------------------------------------------------\u001b[0m",
      "\u001b[0;31mTypeError\u001b[0m                                 Traceback (most recent call last)",
      "\u001b[0;32m/var/folders/d3/11nygz6126ndxvtrp12687680000gn/T/ipykernel_6198/3740231515.py\u001b[0m in \u001b[0;36m<module>\u001b[0;34m\u001b[0m\n\u001b[0;32m----> 1\u001b[0;31m \u001b[0mdf\u001b[0m \u001b[0;34m=\u001b[0m \u001b[0mpd\u001b[0m\u001b[0;34m.\u001b[0m\u001b[0mread_sql\u001b[0m\u001b[0;34m(\u001b[0m\u001b[0;34m\"SELECT bedroomcnt, bathroomcnt,  calculatedfinishedsquarefeet, axvaluedollarcnt, transactiondate,fips FROM properties_2017 JOIN predictions_2017 AS pe USING (parcelid) JOIN propertylandusetype USING (propertylandusetypeid) WHERE propertylandusetype.propertylandusedesc = 'Single Family Residential' AND pe.transactiondate LIKE '2017%'\"\u001b[0m\u001b[0;34m)\u001b[0m\u001b[0;34m,\u001b[0m\u001b[0menv\u001b[0m\u001b[0;34m.\u001b[0m\u001b[0mget_db_url\u001b[0m\u001b[0;34m(\u001b[0m\u001b[0;34m'zillow'\u001b[0m\u001b[0;34m)\u001b[0m\u001b[0;34m\u001b[0m\u001b[0;34m\u001b[0m\u001b[0m\n\u001b[0m",
      "\u001b[0;31mTypeError\u001b[0m: read_sql() missing 1 required positional argument: 'con'"
     ]
    }
   ],
   "source": [
    "df = pd.read_sql(\"SELECT bedroomcnt, bathroomcnt,  calculatedfinishedsquarefeet, axvaluedollarcnt, transactiondate,fips FROM properties_2017 JOIN predictions_2017 AS pe USING (parcelid) JOIN propertylandusetype USING (propertylandusetypeid) WHERE propertylandusetype.propertylandusedesc = 'Single Family Residential' AND pe.transactiondate LIKE '2017%'\"),env.get_db_url('zillow')"
   ]
  },
  {
   "cell_type": "markdown",
   "id": "15eabf70",
   "metadata": {},
   "source": [
    "### Acquistion Summary: \n",
    "Getting to know the data in dtypes, and any missed nulls from prep\n"
   ]
  },
  {
   "cell_type": "code",
   "execution_count": null,
   "id": "4421f354",
   "metadata": {},
   "outputs": [],
   "source": [
    "#noting that transactiondate is the only non-numeric column. Do not think I will need to change that.\n",
    "df.info()"
   ]
  },
  {
   "cell_type": "code",
   "execution_count": null,
   "id": "48e148d5",
   "metadata": {},
   "outputs": [],
   "source": [
    "#No more nulls\n",
    "df.isnull().sum()"
   ]
  },
  {
   "cell_type": "code",
   "execution_count": null,
   "id": "c085afc5",
   "metadata": {},
   "outputs": [],
   "source": []
  },
  {
   "cell_type": "markdown",
   "id": "1f8c0b31",
   "metadata": {},
   "source": [
    "### Prep-Scale:"
   ]
  },
  {
   "cell_type": "code",
   "execution_count": null,
   "id": "b9ac0768",
   "metadata": {},
   "outputs": [],
   "source": []
  },
  {
   "cell_type": "code",
   "execution_count": null,
   "id": "33afedb3",
   "metadata": {},
   "outputs": [],
   "source": []
  },
  {
   "cell_type": "markdown",
   "id": "d2912fb6",
   "metadata": {},
   "source": [
    "### Exploration and Visualization:"
   ]
  },
  {
   "cell_type": "code",
   "execution_count": null,
   "id": "3dc13aad",
   "metadata": {},
   "outputs": [],
   "source": [
    "plt.figure(figsize=(10,8))\n",
    "sns.scatterplot(data=df, x=\"Bedroom_Count\", y=\"Assessed_Value\")"
   ]
  },
  {
   "cell_type": "markdown",
   "id": "7d362648",
   "metadata": {},
   "source": [
    "### Exploration and Test:"
   ]
  },
  {
   "cell_type": "code",
   "execution_count": null,
   "id": "73e2d410",
   "metadata": {},
   "outputs": [],
   "source": [
    "plt.figure(figsize=(10,8))\n",
    "sns.scatterplot(data=df, x=\"Bedroom_Count\", y=\"square_feet\")"
   ]
  },
  {
   "cell_type": "code",
   "execution_count": null,
   "id": "446a08bc",
   "metadata": {},
   "outputs": [],
   "source": []
  }
 ],
 "metadata": {
  "kernelspec": {
   "display_name": "Python 3 (ipykernel)",
   "language": "python",
   "name": "python3"
  },
  "language_info": {
   "codemirror_mode": {
    "name": "ipython",
    "version": 3
   },
   "file_extension": ".py",
   "mimetype": "text/x-python",
   "name": "python",
   "nbconvert_exporter": "python",
   "pygments_lexer": "ipython3",
   "version": "3.9.7"
  }
 },
 "nbformat": 4,
 "nbformat_minor": 5
}
