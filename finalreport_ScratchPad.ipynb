{
 "cells": [
  {
   "cell_type": "markdown",
   "id": "1aa386f5",
   "metadata": {},
   "source": [
    "## Zillow 2017 predictions report:\n",
    "\n",
    "Got an email from the Zillow DS Team:\n",
    "\n",
    "<i>\"We want to be able to predict the property tax assessed values ('taxvaluedollarcnt') of Single Family Properties that had a transaction during 2017.\n",
    "\n",
    "We have a model already, but we are hoping your insights can help us improve it. I need recommendations on a way to make a better model. <b>Maybe you will create a new feature out of existing ones</b> that works better, try a non-linear regression algorithm, or <b>try to create a different model for each county</b>. Whatever you find that works (or doesn't work) will be useful. Given you have just joined our team, we are excited to see your outside perspective.\n",
    "\n",
    "One last thing, Zach lost the email that told us where these properties were located. Ugh, Zach :-/. Because property taxes are assessed at the county level, we would like to know what states and counties these are located in.\"</i>\n",
    "\n",
    "-- The Zillow Data Science Team"
   ]
  },
  {
   "cell_type": "markdown",
   "id": "0f80b78d",
   "metadata": {},
   "source": [
    "___________________________________________________________________________________________________________________"
   ]
  },
  {
   "cell_type": "markdown",
   "id": "983bc8c2",
   "metadata": {},
   "source": [
    "## My Goal: to predict the values of single unit properties using the zillow database obervations from 2017.\n",
    "\n",
    "\n",
    "\n",
    "\n",
    "### My Deliverables:\n",
    "\n",
    "- Constructed ML Regression model that predicts propery tax assessed values (and can be used for our marketing and tech departments).\n",
    "\n",
    "- Finding the key drivers of property value for single family properties. \n",
    "\n",
    "\n",
    "### My Questions: \n",
    " \n",
    "\n",
    "- Do count of bath/bedrooms drive the property value? And if so, is there one more weighted against the other?\n",
    "\n",
    "- Is there a difference of the average of property values by county? And if so, what is the difference?\n",
    "\n",
    "\n",
    "### Follow up Questions:\n",
    "\n",
    "- Can we get data on the population income average per county?\n",
    "\n",
    "- Can we get the data on school ratings (greatschools.com) and see if this might be a main driver as well?\n",
    "\n",
    "- Can we gather predictions and data based on other location factors (ie parks, hiking, waterfronts, nearby churches, grocery stores, malls, etc)\n",
    "\n",
    "\n",
    "\n"
   ]
  },
  {
   "cell_type": "code",
   "execution_count": 1,
   "id": "795175c3",
   "metadata": {},
   "outputs": [],
   "source": [
    "#will insert and collect needed imports to repo along the workflow, down below:"
   ]
  },
  {
   "cell_type": "code",
   "execution_count": 100,
   "id": "a9961d98",
   "metadata": {},
   "outputs": [],
   "source": [
    "import warnings\n",
    "warnings.filterwarnings(\"ignore\")\n",
    "\n",
    "#imports for calling in data, cleaning\n",
    "import pandas as pd\n",
    "import os\n",
    "from env import get_db_url\n",
    "import prepare\n",
    "\n",
    "#imports for exploration phase\n",
    "import matplotlib.pyplot as plt\n",
    "import seaborn as sns\n",
    "import numpy as np\n",
    "from sklearn.model_selection import train_test_split\n",
    "\n",
    "#imports for stats, modeling and evaluation\n",
    "from sklearn.preprocessing import MinMaxScaler, StandardScaler, RobustScaler, QuantileTransformer\n",
    "from acquire import wrangle_zillow\n",
    "\n",
    "import datetime\n",
    "from math import sqrt\n",
    "plt.rc(\"axes.spines\", top=False, right=False)\n",
    "from sklearn.linear_model import LinearRegression\n",
    "from sklearn.feature_selection import f_regression\n",
    "from sklearn.metrics import explained_variance_score\n",
    "import statsmodels.api as sm\n",
    "\n",
    "from sklearn.linear_model import LinearRegression\n",
    "from sklearn.feature_selection import RFE"
   ]
  },
  {
   "cell_type": "markdown",
   "id": "e2356917",
   "metadata": {},
   "source": [
    "### Acquistion: \n",
    "INITIAL ACQUISITION:\n",
    "We will be calling in the zillow dataset from the MySQL database.\n",
    "This dataset will only with include taxvaluedollarcnt, bathroom count, bedroom count, calculatedfinishedsquarefeet, transactiondate and fips.\n",
    "\n",
    "This dataset will also only take in transaction accounts from year 2017. "
   ]
  },
  {
   "cell_type": "code",
   "execution_count": 3,
   "id": "24304602",
   "metadata": {},
   "outputs": [
    {
     "data": {
      "text/html": [
       "<div>\n",
       "<style scoped>\n",
       "    .dataframe tbody tr th:only-of-type {\n",
       "        vertical-align: middle;\n",
       "    }\n",
       "\n",
       "    .dataframe tbody tr th {\n",
       "        vertical-align: top;\n",
       "    }\n",
       "\n",
       "    .dataframe thead th {\n",
       "        text-align: right;\n",
       "    }\n",
       "</style>\n",
       "<table border=\"1\" class=\"dataframe\">\n",
       "  <thead>\n",
       "    <tr style=\"text-align: right;\">\n",
       "      <th></th>\n",
       "      <th>bedroomcnt</th>\n",
       "      <th>bathroomcnt</th>\n",
       "      <th>calculatedfinishedsquarefeet</th>\n",
       "      <th>taxvaluedollarcnt</th>\n",
       "      <th>transactiondate</th>\n",
       "      <th>fips</th>\n",
       "    </tr>\n",
       "  </thead>\n",
       "  <tbody>\n",
       "    <tr>\n",
       "      <th>0</th>\n",
       "      <td>4.0</td>\n",
       "      <td>2.0</td>\n",
       "      <td>1242.0</td>\n",
       "      <td>590000.0</td>\n",
       "      <td>2017-01-13</td>\n",
       "      <td>6037.0</td>\n",
       "    </tr>\n",
       "    <tr>\n",
       "      <th>1</th>\n",
       "      <td>2.0</td>\n",
       "      <td>1.0</td>\n",
       "      <td>864.0</td>\n",
       "      <td>355000.0</td>\n",
       "      <td>2017-01-13</td>\n",
       "      <td>6037.0</td>\n",
       "    </tr>\n",
       "    <tr>\n",
       "      <th>2</th>\n",
       "      <td>3.0</td>\n",
       "      <td>2.0</td>\n",
       "      <td>1550.0</td>\n",
       "      <td>2200000.0</td>\n",
       "      <td>2017-01-13</td>\n",
       "      <td>6037.0</td>\n",
       "    </tr>\n",
       "    <tr>\n",
       "      <th>3</th>\n",
       "      <td>3.0</td>\n",
       "      <td>2.0</td>\n",
       "      <td>1149.0</td>\n",
       "      <td>185716.0</td>\n",
       "      <td>2017-01-13</td>\n",
       "      <td>6037.0</td>\n",
       "    </tr>\n",
       "    <tr>\n",
       "      <th>4</th>\n",
       "      <td>3.0</td>\n",
       "      <td>2.0</td>\n",
       "      <td>1508.0</td>\n",
       "      <td>419389.0</td>\n",
       "      <td>2017-01-13</td>\n",
       "      <td>6037.0</td>\n",
       "    </tr>\n",
       "  </tbody>\n",
       "</table>\n",
       "</div>"
      ],
      "text/plain": [
       "   bedroomcnt  bathroomcnt  calculatedfinishedsquarefeet  taxvaluedollarcnt  \\\n",
       "0         4.0          2.0                        1242.0           590000.0   \n",
       "1         2.0          1.0                         864.0           355000.0   \n",
       "2         3.0          2.0                        1550.0          2200000.0   \n",
       "3         3.0          2.0                        1149.0           185716.0   \n",
       "4         3.0          2.0                        1508.0           419389.0   \n",
       "\n",
       "  transactiondate    fips  \n",
       "0      2017-01-13  6037.0  \n",
       "1      2017-01-13  6037.0  \n",
       "2      2017-01-13  6037.0  \n",
       "3      2017-01-13  6037.0  \n",
       "4      2017-01-13  6037.0  "
      ]
     },
     "execution_count": 3,
     "metadata": {},
     "output_type": "execute_result"
    }
   ],
   "source": [
    "# Using MySQL, we will Find all of the \"Single Family Residential\" properties and transactions from 2017:\n",
    "df = pd.read_sql(\"SELECT bedroomcnt, bathroomcnt, calculatedfinishedsquarefeet, taxvaluedollarcnt, transactiondate, fips FROM properties_2017 JOIN predictions_2017 AS pe USING (parcelid) JOIN propertylandusetype USING (propertylandusetypeid) WHERE propertylandusetype.propertylandusedesc = 'Single Family Residential' AND pe.transactiondate LIKE '2017%%';\", get_db_url(\"zillow\"))\n",
    "df.head()"
   ]
  },
  {
   "cell_type": "markdown",
   "id": "15eabf70",
   "metadata": {},
   "source": [
    "### Acquistion Summary: \n",
    "Getting to know the data in dtypes, and any missed nulls from prep\n"
   ]
  },
  {
   "cell_type": "code",
   "execution_count": 4,
   "id": "4421f354",
   "metadata": {},
   "outputs": [
    {
     "name": "stdout",
     "output_type": "stream",
     "text": [
      "<class 'pandas.core.frame.DataFrame'>\n",
      "RangeIndex: 52441 entries, 0 to 52440\n",
      "Data columns (total 6 columns):\n",
      " #   Column                        Non-Null Count  Dtype  \n",
      "---  ------                        --------------  -----  \n",
      " 0   bedroomcnt                    52441 non-null  float64\n",
      " 1   bathroomcnt                   52441 non-null  float64\n",
      " 2   calculatedfinishedsquarefeet  52359 non-null  float64\n",
      " 3   taxvaluedollarcnt             52440 non-null  float64\n",
      " 4   transactiondate               52441 non-null  object \n",
      " 5   fips                          52441 non-null  float64\n",
      "dtypes: float64(5), object(1)\n",
      "memory usage: 2.4+ MB\n"
     ]
    }
   ],
   "source": [
    "#noting that transactiondate is the only non-numeric column. \n",
    "df.info()"
   ]
  },
  {
   "cell_type": "code",
   "execution_count": 5,
   "id": "5091cc50",
   "metadata": {},
   "outputs": [
    {
     "name": "stdout",
     "output_type": "stream",
     "text": [
      "bedroomcnt\n",
      "3.0     23359\n",
      "4.0     15240\n",
      "2.0      8340\n",
      "5.0      3973\n",
      "6.0       635\n",
      "1.0       612\n",
      "0.0       137\n",
      "7.0       106\n",
      "8.0        24\n",
      "9.0         8\n",
      "12.0        3\n",
      "10.0        2\n",
      "14.0        1\n",
      "11.0        1\n",
      "Name: bedroomcnt, dtype: int64\n",
      "-------------------------------\n",
      "bathroomcnt\n",
      "2.0     21893\n",
      "3.0     10673\n",
      "1.0      9568\n",
      "2.5      3934\n",
      "4.0      2227\n",
      "3.5       918\n",
      "1.5       841\n",
      "5.0       803\n",
      "4.5       687\n",
      "6.0       322\n",
      "5.5       224\n",
      "0.0       121\n",
      "7.0        88\n",
      "8.0        53\n",
      "6.5        47\n",
      "7.5        16\n",
      "9.0        13\n",
      "10.0        5\n",
      "11.0        3\n",
      "8.5         3\n",
      "18.0        1\n",
      "13.0        1\n",
      "Name: bathroomcnt, dtype: int64\n",
      "-------------------------------\n",
      "calculatedfinishedsquarefeet\n",
      "1120.0    128\n",
      "1200.0    119\n",
      "1080.0    102\n",
      "936.0      86\n",
      "1040.0     86\n",
      "         ... \n",
      "6405.0      1\n",
      "8531.0      1\n",
      "4533.0      1\n",
      "5139.0      1\n",
      "5124.0      1\n",
      "Name: calculatedfinishedsquarefeet, Length: 4723, dtype: int64\n",
      "-------------------------------\n",
      "taxvaluedollarcnt\n",
      "455000.0    34\n",
      "600000.0    30\n",
      "550000.0    24\n",
      "500000.0    24\n",
      "450000.0    24\n",
      "            ..\n",
      "68506.0      1\n",
      "41984.0      1\n",
      "372942.0     1\n",
      "379950.0     1\n",
      "33325.0      1\n",
      "Name: taxvaluedollarcnt, Length: 38942, dtype: int64\n",
      "-------------------------------\n",
      "transactiondate\n",
      "2017-06-30    810\n",
      "2017-04-28    617\n",
      "2017-05-31    566\n",
      "2017-07-28    546\n",
      "2017-08-31    528\n",
      "             ... \n",
      "2017-08-13      1\n",
      "2017-06-11      1\n",
      "2017-04-08      1\n",
      "2017-06-03      1\n",
      "2017-05-20      1\n",
      "Name: transactiondate, Length: 257, dtype: int64\n",
      "-------------------------------\n",
      "fips\n",
      "6037.0    33910\n",
      "6059.0    14136\n",
      "6111.0     4395\n",
      "Name: fips, dtype: int64\n",
      "-------------------------------\n"
     ]
    }
   ],
   "source": [
    "#looking at the counts for each column\n",
    "for column in df.columns:\n",
    "    print(column)\n",
    "    print(df[column].value_counts())\n",
    "    print(\"-------------------------------\")"
   ]
  },
  {
   "cell_type": "code",
   "execution_count": 6,
   "id": "48e148d5",
   "metadata": {},
   "outputs": [
    {
     "data": {
      "text/plain": [
       "bedroomcnt                       0\n",
       "bathroomcnt                      0\n",
       "calculatedfinishedsquarefeet    82\n",
       "taxvaluedollarcnt                1\n",
       "transactiondate                  0\n",
       "fips                             0\n",
       "dtype: int64"
      ]
     },
     "execution_count": 6,
     "metadata": {},
     "output_type": "execute_result"
    }
   ],
   "source": [
    "#Let's check for any nulls\n",
    "df.isnull().sum()"
   ]
  },
  {
   "cell_type": "code",
   "execution_count": 7,
   "id": "c085afc5",
   "metadata": {},
   "outputs": [
    {
     "data": {
      "text/plain": [
       "0.9984"
      ]
     },
     "execution_count": 7,
     "metadata": {},
     "output_type": "execute_result"
    }
   ],
   "source": [
    "#If these nulls are dropped, will it effect the dataset?\n",
    "round(df.dropna().shape[0] / df.shape[0], 4)"
   ]
  },
  {
   "cell_type": "markdown",
   "id": "1f8c0b31",
   "metadata": {},
   "source": [
    "### Prep-Clean:"
   ]
  },
  {
   "cell_type": "code",
   "execution_count": 8,
   "id": "ae1f3002",
   "metadata": {},
   "outputs": [
    {
     "data": {
      "text/plain": [
       "bedroomcnt                      0\n",
       "bathroomcnt                     0\n",
       "calculatedfinishedsquarefeet    0\n",
       "taxvaluedollarcnt               0\n",
       "transactiondate                 0\n",
       "fips                            0\n",
       "dtype: int64"
      ]
     },
     "execution_count": 8,
     "metadata": {},
     "output_type": "execute_result"
    }
   ],
   "source": [
    "#99% of our data still left? Great! Let's drop them!\n",
    "df = df.dropna()\n",
    "df.isnull().sum()"
   ]
  },
  {
   "cell_type": "markdown",
   "id": "40a3ff7e",
   "metadata": {},
   "source": [
    "#### Convert Datatyes\n",
    "\n",
    "- I'll be changing bedroomcnt, finishedsquareft, taxvaluedollar, and fips into integers so as to utilize in continuous testing. \n",
    "\n",
    "- I will not change bathroomcnt due to some objects showing 1/2 baths.\n",
    "\n",
    "- I will not change transaction date as it already is in the format I want. "
   ]
  },
  {
   "cell_type": "code",
   "execution_count": 9,
   "id": "69492558",
   "metadata": {},
   "outputs": [],
   "source": [
    "##Changing dtype of Fips code so only 4 digits (no decimals)\n",
    "df['fips'] = df['fips'].astype('int')"
   ]
  },
  {
   "cell_type": "code",
   "execution_count": 10,
   "id": "b9ac0768",
   "metadata": {},
   "outputs": [],
   "source": [
    "#Changing dtype of squarefeet so no decimals\n",
    "df['calculatedfinishedsquarefeet'] = df['calculatedfinishedsquarefeet'].astype('int')"
   ]
  },
  {
   "cell_type": "code",
   "execution_count": 11,
   "id": "0288b16e",
   "metadata": {},
   "outputs": [],
   "source": [
    "#Changing dtype of taxvaluedollarcnt as integer\n",
    "df['taxvaluedollarcnt'] = df['taxvaluedollarcnt'].astype('int')"
   ]
  },
  {
   "cell_type": "code",
   "execution_count": 12,
   "id": "e1c6df74",
   "metadata": {},
   "outputs": [],
   "source": [
    "#changing bedroom count to int\n",
    "df['bedroomcnt']= df['bedroomcnt'].astype('int')"
   ]
  },
  {
   "cell_type": "code",
   "execution_count": 13,
   "id": "33afedb3",
   "metadata": {},
   "outputs": [
    {
     "data": {
      "text/html": [
       "<div>\n",
       "<style scoped>\n",
       "    .dataframe tbody tr th:only-of-type {\n",
       "        vertical-align: middle;\n",
       "    }\n",
       "\n",
       "    .dataframe tbody tr th {\n",
       "        vertical-align: top;\n",
       "    }\n",
       "\n",
       "    .dataframe thead th {\n",
       "        text-align: right;\n",
       "    }\n",
       "</style>\n",
       "<table border=\"1\" class=\"dataframe\">\n",
       "  <thead>\n",
       "    <tr style=\"text-align: right;\">\n",
       "      <th></th>\n",
       "      <th>bedroomcnt</th>\n",
       "      <th>bathroomcnt</th>\n",
       "      <th>calculatedfinishedsquarefeet</th>\n",
       "      <th>taxvaluedollarcnt</th>\n",
       "      <th>transactiondate</th>\n",
       "      <th>fips</th>\n",
       "    </tr>\n",
       "  </thead>\n",
       "  <tbody>\n",
       "    <tr>\n",
       "      <th>0</th>\n",
       "      <td>4</td>\n",
       "      <td>2.0</td>\n",
       "      <td>1242</td>\n",
       "      <td>590000</td>\n",
       "      <td>2017-01-13</td>\n",
       "      <td>6037</td>\n",
       "    </tr>\n",
       "    <tr>\n",
       "      <th>1</th>\n",
       "      <td>2</td>\n",
       "      <td>1.0</td>\n",
       "      <td>864</td>\n",
       "      <td>355000</td>\n",
       "      <td>2017-01-13</td>\n",
       "      <td>6037</td>\n",
       "    </tr>\n",
       "    <tr>\n",
       "      <th>2</th>\n",
       "      <td>3</td>\n",
       "      <td>2.0</td>\n",
       "      <td>1550</td>\n",
       "      <td>2200000</td>\n",
       "      <td>2017-01-13</td>\n",
       "      <td>6037</td>\n",
       "    </tr>\n",
       "    <tr>\n",
       "      <th>3</th>\n",
       "      <td>3</td>\n",
       "      <td>2.0</td>\n",
       "      <td>1149</td>\n",
       "      <td>185716</td>\n",
       "      <td>2017-01-13</td>\n",
       "      <td>6037</td>\n",
       "    </tr>\n",
       "    <tr>\n",
       "      <th>4</th>\n",
       "      <td>3</td>\n",
       "      <td>2.0</td>\n",
       "      <td>1508</td>\n",
       "      <td>419389</td>\n",
       "      <td>2017-01-13</td>\n",
       "      <td>6037</td>\n",
       "    </tr>\n",
       "  </tbody>\n",
       "</table>\n",
       "</div>"
      ],
      "text/plain": [
       "   bedroomcnt  bathroomcnt  calculatedfinishedsquarefeet  taxvaluedollarcnt  \\\n",
       "0           4          2.0                          1242             590000   \n",
       "1           2          1.0                           864             355000   \n",
       "2           3          2.0                          1550            2200000   \n",
       "3           3          2.0                          1149             185716   \n",
       "4           3          2.0                          1508             419389   \n",
       "\n",
       "  transactiondate  fips  \n",
       "0      2017-01-13  6037  \n",
       "1      2017-01-13  6037  \n",
       "2      2017-01-13  6037  \n",
       "3      2017-01-13  6037  \n",
       "4      2017-01-13  6037  "
      ]
     },
     "execution_count": 13,
     "metadata": {},
     "output_type": "execute_result"
    }
   ],
   "source": [
    "df.head()"
   ]
  },
  {
   "cell_type": "markdown",
   "id": "74b2abf5",
   "metadata": {},
   "source": [
    "### Exploration and Visualization (looking at the data):"
   ]
  },
  {
   "cell_type": "code",
   "execution_count": 14,
   "id": "c7cea8da",
   "metadata": {},
   "outputs": [
    {
     "data": {
      "text/html": [
       "<div>\n",
       "<style scoped>\n",
       "    .dataframe tbody tr th:only-of-type {\n",
       "        vertical-align: middle;\n",
       "    }\n",
       "\n",
       "    .dataframe tbody tr th {\n",
       "        vertical-align: top;\n",
       "    }\n",
       "\n",
       "    .dataframe thead th {\n",
       "        text-align: right;\n",
       "    }\n",
       "</style>\n",
       "<table border=\"1\" class=\"dataframe\">\n",
       "  <thead>\n",
       "    <tr style=\"text-align: right;\">\n",
       "      <th></th>\n",
       "      <th>count</th>\n",
       "      <th>mean</th>\n",
       "      <th>std</th>\n",
       "      <th>min</th>\n",
       "      <th>25%</th>\n",
       "      <th>50%</th>\n",
       "      <th>75%</th>\n",
       "      <th>max</th>\n",
       "    </tr>\n",
       "  </thead>\n",
       "  <tbody>\n",
       "    <tr>\n",
       "      <th>bedroomcnt</th>\n",
       "      <td>52358.0</td>\n",
       "      <td>3.305531</td>\n",
       "      <td>0.941429</td>\n",
       "      <td>0.0</td>\n",
       "      <td>3.00</td>\n",
       "      <td>3.0</td>\n",
       "      <td>4.00</td>\n",
       "      <td>14.0</td>\n",
       "    </tr>\n",
       "    <tr>\n",
       "      <th>bathroomcnt</th>\n",
       "      <td>52358.0</td>\n",
       "      <td>2.302781</td>\n",
       "      <td>1.019773</td>\n",
       "      <td>0.0</td>\n",
       "      <td>2.00</td>\n",
       "      <td>2.0</td>\n",
       "      <td>3.00</td>\n",
       "      <td>18.0</td>\n",
       "    </tr>\n",
       "    <tr>\n",
       "      <th>calculatedfinishedsquarefeet</th>\n",
       "      <td>52358.0</td>\n",
       "      <td>1922.904618</td>\n",
       "      <td>1004.370420</td>\n",
       "      <td>128.0</td>\n",
       "      <td>1268.00</td>\n",
       "      <td>1659.0</td>\n",
       "      <td>2306.00</td>\n",
       "      <td>21929.0</td>\n",
       "    </tr>\n",
       "    <tr>\n",
       "      <th>taxvaluedollarcnt</th>\n",
       "      <td>52358.0</td>\n",
       "      <td>528025.819569</td>\n",
       "      <td>748329.465813</td>\n",
       "      <td>1000.0</td>\n",
       "      <td>193644.25</td>\n",
       "      <td>373376.5</td>\n",
       "      <td>618533.25</td>\n",
       "      <td>49061236.0</td>\n",
       "    </tr>\n",
       "    <tr>\n",
       "      <th>fips</th>\n",
       "      <td>52358.0</td>\n",
       "      <td>6049.111158</td>\n",
       "      <td>21.019623</td>\n",
       "      <td>6037.0</td>\n",
       "      <td>6037.00</td>\n",
       "      <td>6037.0</td>\n",
       "      <td>6059.00</td>\n",
       "      <td>6111.0</td>\n",
       "    </tr>\n",
       "  </tbody>\n",
       "</table>\n",
       "</div>"
      ],
      "text/plain": [
       "                                count           mean            std     min  \\\n",
       "bedroomcnt                    52358.0       3.305531       0.941429     0.0   \n",
       "bathroomcnt                   52358.0       2.302781       1.019773     0.0   \n",
       "calculatedfinishedsquarefeet  52358.0    1922.904618    1004.370420   128.0   \n",
       "taxvaluedollarcnt             52358.0  528025.819569  748329.465813  1000.0   \n",
       "fips                          52358.0    6049.111158      21.019623  6037.0   \n",
       "\n",
       "                                    25%       50%        75%         max  \n",
       "bedroomcnt                         3.00       3.0       4.00        14.0  \n",
       "bathroomcnt                        2.00       2.0       3.00        18.0  \n",
       "calculatedfinishedsquarefeet    1268.00    1659.0    2306.00     21929.0  \n",
       "taxvaluedollarcnt             193644.25  373376.5  618533.25  49061236.0  \n",
       "fips                            6037.00    6037.0    6059.00      6111.0  "
      ]
     },
     "execution_count": 14,
     "metadata": {},
     "output_type": "execute_result"
    }
   ],
   "source": [
    "#taking a look at the mean and other data stats\n",
    "df.describe().T"
   ]
  },
  {
   "cell_type": "code",
   "execution_count": 15,
   "id": "4455cdeb",
   "metadata": {},
   "outputs": [
    {
     "data": {
      "text/plain": [
       "<AxesSubplot:>"
      ]
     },
     "execution_count": 15,
     "metadata": {},
     "output_type": "execute_result"
    },
    {
     "data": {
      "image/png": "[encoded data removed]",
      "text/plain": [
       "<Figure size 432x288 with 1 Axes>"
      ]
     },
     "metadata": {
      "needs_background": "light"
     },
     "output_type": "display_data"
    }
   ],
   "source": [
    "#looking at 100 properties where bathroom count is higher than average\n",
    "df[df.bathroomcnt > 2.3].taxvaluedollarcnt.hist(bins=100)"
   ]
  },
  {
   "cell_type": "code",
   "execution_count": 16,
   "id": "b2a4be69",
   "metadata": {},
   "outputs": [
    {
     "data": {
      "text/plain": [
       "<AxesSubplot:>"
      ]
     },
     "execution_count": 16,
     "metadata": {},
     "output_type": "execute_result"
    },
    {
     "data": {
      "image/png": "[encoded data removed]",
      "text/plain": [
       "<Figure size 432x288 with 1 Axes>"
      ]
     },
     "metadata": {
      "needs_background": "light"
     },
     "output_type": "display_data"
    }
   ],
   "source": [
    "#looking at 100 properties where bedroom count is higher than average\n",
    "\n",
    "df[df.bedroomcnt > 3.3 ].taxvaluedollarcnt.hist(bins=100)"
   ]
  },
  {
   "cell_type": "markdown",
   "id": "d75cfdb2",
   "metadata": {},
   "source": [
    "#### More Visualizations"
   ]
  },
  {
   "cell_type": "code",
   "execution_count": 17,
   "id": "cb1c934d",
   "metadata": {},
   "outputs": [
    {
     "data": {
      "image/png": "[encoded data removed]",
      "text/plain": [
       "<Figure size 360x360 with 1 Axes>"
      ]
     },
     "metadata": {
      "needs_background": "light"
     },
     "output_type": "display_data"
    }
   ],
   "source": [
    "#using sns displot to see values of homes and the years built \n",
    "sns.displot(x='calculatedfinishedsquarefeet', data=df)\n",
    "\n",
    "plt.title('Finished squarefeet of 2017 homes')\n",
    "plt.show()"
   ]
  },
  {
   "cell_type": "code",
   "execution_count": 18,
   "id": "4f110586",
   "metadata": {},
   "outputs": [
    {
     "data": {
      "image/png": "[encoded data removed]",
      "text/plain": [
       "<Figure size 1152x216 with 6 Axes>"
      ]
     },
     "metadata": {
      "needs_background": "light"
     },
     "output_type": "display_data"
    }
   ],
   "source": [
    "#creating histograms for all the variables\n",
    "\n",
    "plt.figure(figsize=(16, 3))\n",
    "\n",
    "# Creates a List of columns:\n",
    "for i, col in enumerate(df.columns):\n",
    "\n",
    "    # i starts at 0, but plot numbers should start at 1\n",
    "    plot_number = i + 1 \n",
    "\n",
    "    # Create subplot.\n",
    "    plt.subplot(1,8, plot_number)\n",
    "\n",
    "    # Title with column name.\n",
    "    plt.title(col)\n",
    "\n",
    "    # Display histogram for column.\n",
    "    df[col].hist(bins=5)\n",
    "\n",
    "    # Hide gridlines.\n",
    "    plt.grid(False)"
   ]
  },
  {
   "cell_type": "markdown",
   "id": "7abd5952",
   "metadata": {},
   "source": [
    "#### Takeaways:\n",
    "Just these few visuals show me there are some outliers that need to be dropped"
   ]
  },
  {
   "cell_type": "markdown",
   "id": "8dfd1097",
   "metadata": {},
   "source": [
    "### Handling Outliers:\n",
    "Seeing the size and count of the variables to locate any outliers"
   ]
  },
  {
   "cell_type": "markdown",
   "id": "dee6da2d",
   "metadata": {},
   "source": [
    "#### Squarefootage:"
   ]
  },
  {
   "cell_type": "code",
   "execution_count": 19,
   "id": "5b2ba272",
   "metadata": {},
   "outputs": [
    {
     "data": {
      "text/plain": [
       "2172     21929\n",
       "14537    20612\n",
       "7314     18654\n",
       "48811    17245\n",
       "27075    15450\n",
       "41546    14829\n",
       "28163    13598\n",
       "16550    12616\n",
       "48261    12056\n",
       "4247     12039\n",
       "5645     11880\n",
       "46704    11722\n",
       "22188    11704\n",
       "3752     11703\n",
       "11639    11649\n",
       "Name: calculatedfinishedsquarefeet, dtype: int64"
      ]
     },
     "execution_count": 19,
     "metadata": {},
     "output_type": "execute_result"
    }
   ],
   "source": [
    "df.calculatedfinishedsquarefeet.sort_values(ascending=False).head(15)"
   ]
  },
  {
   "cell_type": "markdown",
   "id": "35d2ecc9",
   "metadata": {},
   "source": [
    "I'm thinking of narrowing down to only a range of below 9,000sqft homes"
   ]
  },
  {
   "cell_type": "code",
   "execution_count": 20,
   "id": "e5d5f0b4",
   "metadata": {},
   "outputs": [
    {
     "data": {
      "text/plain": [
       "0.9989304404293518"
      ]
     },
     "execution_count": 20,
     "metadata": {},
     "output_type": "execute_result"
    }
   ],
   "source": [
    "#let's see the percentage if we narrowed it down from there\n",
    "df[df.calculatedfinishedsquarefeet <= 9_000].shape[0] / df.shape[0]\n"
   ]
  },
  {
   "cell_type": "markdown",
   "id": "0175ad19",
   "metadata": {},
   "source": [
    "I still would have 99.8% of my data. I feel comfortable narrowing things down to this.\n"
   ]
  },
  {
   "cell_type": "code",
   "execution_count": 21,
   "id": "38836017",
   "metadata": {},
   "outputs": [],
   "source": [
    " df = df[df.calculatedfinishedsquarefeet <= 9_000]"
   ]
  },
  {
   "cell_type": "markdown",
   "id": "70c2517b",
   "metadata": {},
   "source": [
    "Let's look at the lower sqft end:"
   ]
  },
  {
   "cell_type": "code",
   "execution_count": 22,
   "id": "f06de096",
   "metadata": {},
   "outputs": [
    {
     "data": {
      "text/plain": [
       "0.9999617605445299"
      ]
     },
     "execution_count": 22,
     "metadata": {},
     "output_type": "execute_result"
    }
   ],
   "source": [
    "df[df.calculatedfinishedsquarefeet >= 200].shape[0] / df.shape[0]"
   ]
  },
  {
   "cell_type": "markdown",
   "id": "0d05d2c0",
   "metadata": {},
   "source": [
    "Again, I feel comfortable narrowing from this end too:"
   ]
  },
  {
   "cell_type": "code",
   "execution_count": 23,
   "id": "485adc04",
   "metadata": {},
   "outputs": [],
   "source": [
    "df = df[df.calculatedfinishedsquarefeet >= 200]"
   ]
  },
  {
   "cell_type": "markdown",
   "id": "919a7c1c",
   "metadata": {},
   "source": [
    "#### Bedroom Count:"
   ]
  },
  {
   "cell_type": "code",
   "execution_count": 24,
   "id": "a39b5378",
   "metadata": {},
   "outputs": [
    {
     "data": {
      "text/plain": [
       "31641    12\n",
       "31640    12\n",
       "31639    12\n",
       "21163    11\n",
       "33905    10\n",
       "49353     9\n",
       "44250     9\n",
       "6423      9\n",
       "11414     9\n",
       "5289      9\n",
       "28207     9\n",
       "36664     8\n",
       "47879     8\n",
       "49950     8\n",
       "47434     8\n",
       "Name: bedroomcnt, dtype: int64"
      ]
     },
     "execution_count": 24,
     "metadata": {},
     "output_type": "execute_result"
    }
   ],
   "source": [
    "df.bedroomcnt.sort_values(ascending=False).head(15)"
   ]
  },
  {
   "cell_type": "markdown",
   "id": "319622d0",
   "metadata": {},
   "source": [
    "Hmm...what if I get rid of homes with more than 6 bedrooms?"
   ]
  },
  {
   "cell_type": "code",
   "execution_count": 25,
   "id": "564e6c03",
   "metadata": {},
   "outputs": [
    {
     "data": {
      "text/plain": [
       "0.9976099426386233"
      ]
     },
     "execution_count": 25,
     "metadata": {},
     "output_type": "execute_result"
    }
   ],
   "source": [
    "df[df.bedroomcnt <= 6].shape[0] / df.shape[0]"
   ]
  },
  {
   "cell_type": "code",
   "execution_count": 26,
   "id": "48ec5d4b",
   "metadata": {},
   "outputs": [],
   "source": [
    "#that looks good:\n",
    "df = df[df.bedroomcnt <= 6]"
   ]
  },
  {
   "cell_type": "markdown",
   "id": "3764d385",
   "metadata": {},
   "source": [
    "I also will get rid of zero bedrooms as my industry source says these are similar to nulls:"
   ]
  },
  {
   "cell_type": "code",
   "execution_count": 27,
   "id": "593be376",
   "metadata": {},
   "outputs": [
    {
     "data": {
      "text/plain": [
       "0.9988116914230953"
      ]
     },
     "execution_count": 27,
     "metadata": {},
     "output_type": "execute_result"
    }
   ],
   "source": [
    "df[df.bedroomcnt != 0].shape[0] / df.shape[0]"
   ]
  },
  {
   "cell_type": "code",
   "execution_count": 28,
   "id": "d547815a",
   "metadata": {},
   "outputs": [],
   "source": [
    "#yep, still leaves us with 99.8%\n",
    "df=df[df.bedroomcnt != 0]"
   ]
  },
  {
   "cell_type": "markdown",
   "id": "ef343f1f",
   "metadata": {},
   "source": [
    "#### Bathroom Count"
   ]
  },
  {
   "cell_type": "code",
   "execution_count": 29,
   "id": "804af256",
   "metadata": {},
   "outputs": [
    {
     "data": {
      "text/plain": [
       "17244    9.0\n",
       "12617    9.0\n",
       "38174    9.0\n",
       "19959    8.5\n",
       "12546    8.0\n",
       "27206    8.0\n",
       "44032    8.0\n",
       "11187    8.0\n",
       "15660    8.0\n",
       "29196    8.0\n",
       "34867    8.0\n",
       "36578    8.0\n",
       "24293    8.0\n",
       "35553    8.0\n",
       "7732     8.0\n",
       "Name: bathroomcnt, dtype: float64"
      ]
     },
     "execution_count": 29,
     "metadata": {},
     "output_type": "execute_result"
    }
   ],
   "source": [
    "df.bathroomcnt.sort_values(ascending=False).head(15)"
   ]
  },
  {
   "cell_type": "markdown",
   "id": "d58e06ed",
   "metadata": {},
   "source": [
    "ok. Maybe let's see how much data is left with 6 or less baths?"
   ]
  },
  {
   "cell_type": "code",
   "execution_count": 30,
   "id": "12c23a0f",
   "metadata": {},
   "outputs": [
    {
     "data": {
      "text/plain": [
       "0.9970256941646038"
      ]
     },
     "execution_count": 30,
     "metadata": {},
     "output_type": "execute_result"
    }
   ],
   "source": [
    "df[df.bathroomcnt <= 6].shape[0] / df.shape[0]"
   ]
  },
  {
   "cell_type": "code",
   "execution_count": 31,
   "id": "d95c327a",
   "metadata": {},
   "outputs": [],
   "source": [
    "#cool, let's narrow it here too:\n",
    "df = df[df.bathroomcnt <= 6]"
   ]
  },
  {
   "cell_type": "code",
   "execution_count": 32,
   "id": "f5ee2c51",
   "metadata": {},
   "outputs": [],
   "source": [
    "#also getting rid of properties with no baths\n",
    "df=df[df.bathroomcnt != 0]"
   ]
  },
  {
   "cell_type": "code",
   "execution_count": 33,
   "id": "8dd844a6",
   "metadata": {},
   "outputs": [
    {
     "name": "stdout",
     "output_type": "stream",
     "text": [
      "<class 'pandas.core.frame.DataFrame'>\n",
      "Int64Index: 51942 entries, 0 to 52440\n",
      "Data columns (total 6 columns):\n",
      " #   Column                        Non-Null Count  Dtype  \n",
      "---  ------                        --------------  -----  \n",
      " 0   bedroomcnt                    51942 non-null  int64  \n",
      " 1   bathroomcnt                   51942 non-null  float64\n",
      " 2   calculatedfinishedsquarefeet  51942 non-null  int64  \n",
      " 3   taxvaluedollarcnt             51942 non-null  int64  \n",
      " 4   transactiondate               51942 non-null  object \n",
      " 5   fips                          51942 non-null  int64  \n",
      "dtypes: float64(1), int64(4), object(1)\n",
      "memory usage: 2.8+ MB\n"
     ]
    }
   ],
   "source": [
    "#Let's see how much data we have still....\n",
    "df.info()"
   ]
  },
  {
   "cell_type": "code",
   "execution_count": 34,
   "id": "f4491bd1",
   "metadata": {},
   "outputs": [
    {
     "name": "stdout",
     "output_type": "stream",
     "text": [
      "bedroomcnt\n",
      "3    23351\n",
      "4    15218\n",
      "2     8334\n",
      "5     3891\n",
      "1      605\n",
      "6      543\n",
      "Name: bedroomcnt, dtype: int64\n",
      "-------------------------------\n",
      "bathroomcnt\n",
      "2.0    21879\n",
      "3.0    10644\n",
      "1.0     9544\n",
      "2.5     3932\n",
      "4.0     2203\n",
      "3.5      915\n",
      "1.5      840\n",
      "5.0      786\n",
      "4.5      679\n",
      "6.0      297\n",
      "5.5      223\n",
      "Name: bathroomcnt, dtype: int64\n",
      "-------------------------------\n",
      "calculatedfinishedsquarefeet\n",
      "1120    127\n",
      "1200    118\n",
      "1080    102\n",
      "936      86\n",
      "1040     86\n",
      "       ... \n",
      "4377      1\n",
      "5092      1\n",
      "519       1\n",
      "4861      1\n",
      "5124      1\n",
      "Name: calculatedfinishedsquarefeet, Length: 4489, dtype: int64\n",
      "-------------------------------\n",
      "taxvaluedollarcnt\n",
      "455000    34\n",
      "600000    30\n",
      "450000    24\n",
      "500000    24\n",
      "550000    24\n",
      "          ..\n",
      "159489     1\n",
      "161962     1\n",
      "317075     1\n",
      "635345     1\n",
      "33325      1\n",
      "Name: taxvaluedollarcnt, Length: 38507, dtype: int64\n",
      "-------------------------------\n",
      "transactiondate\n",
      "2017-06-30    802\n",
      "2017-04-28    610\n",
      "2017-05-31    559\n",
      "2017-07-28    540\n",
      "2017-08-31    522\n",
      "             ... \n",
      "2017-08-13      1\n",
      "2017-03-25      1\n",
      "2017-03-12      1\n",
      "2017-06-03      1\n",
      "2017-09-02      1\n",
      "Name: transactiondate, Length: 256, dtype: int64\n",
      "-------------------------------\n",
      "fips\n",
      "6037    33611\n",
      "6059    13988\n",
      "6111     4343\n",
      "Name: fips, dtype: int64\n",
      "-------------------------------\n"
     ]
    }
   ],
   "source": [
    "#looking at the counts for each column\n",
    "for column in df.columns:\n",
    "    print(column)\n",
    "    print(df[column].value_counts())\n",
    "    print(\"-------------------------------\")"
   ]
  },
  {
   "cell_type": "markdown",
   "id": "6cfe9a39",
   "metadata": {},
   "source": [
    "#### Assessed Value of Home:\n",
    "Let's see what outliers are here..."
   ]
  },
  {
   "cell_type": "code",
   "execution_count": 35,
   "id": "400429a0",
   "metadata": {},
   "outputs": [
    {
     "data": {
      "text/plain": [
       "50748    20203475\n",
       "39013    15618488\n",
       "48381    13600098\n",
       "8193     13198250\n",
       "31890    13128583\n",
       "34897    11317682\n",
       "36237    11020600\n",
       "43576    11000000\n",
       "38702    10873908\n",
       "3769     10610405\n",
       "50761    10355345\n",
       "24257    10130485\n",
       "50474    10050974\n",
       "41560     9935000\n",
       "37551     9870514\n",
       "Name: taxvaluedollarcnt, dtype: int64"
      ]
     },
     "execution_count": 35,
     "metadata": {},
     "output_type": "execute_result"
    }
   ],
   "source": [
    "df.taxvaluedollarcnt.sort_values(ascending=False).head(15)"
   ]
  },
  {
   "cell_type": "markdown",
   "id": "7498ce59",
   "metadata": {},
   "source": [
    "Wow. Maybe I'll see what it looks like for 2M homes or less..."
   ]
  },
  {
   "cell_type": "code",
   "execution_count": 36,
   "id": "8a4e7c16",
   "metadata": {},
   "outputs": [
    {
     "data": {
      "text/plain": [
       "0.9771475876939664"
      ]
     },
     "execution_count": 36,
     "metadata": {},
     "output_type": "execute_result"
    }
   ],
   "source": [
    "df[df.taxvaluedollarcnt <= 2_000_000].shape[0] / df.shape[0]"
   ]
  },
  {
   "cell_type": "code",
   "execution_count": 37,
   "id": "cc97b9e0",
   "metadata": {},
   "outputs": [
    {
     "data": {
      "text/plain": [
       "0.9861961418505256"
      ]
     },
     "execution_count": 37,
     "metadata": {},
     "output_type": "execute_result"
    }
   ],
   "source": [
    "#I'll try a little bit more, to get to 98 or 99% still left\n",
    "df[df.taxvaluedollarcnt <= 2_500_000].shape[0] / df.shape[0]"
   ]
  },
  {
   "cell_type": "markdown",
   "id": "c6508c5e",
   "metadata": {},
   "source": [
    "Yep. Let's take these outliers out too"
   ]
  },
  {
   "cell_type": "code",
   "execution_count": 38,
   "id": "2d1ad9bb",
   "metadata": {},
   "outputs": [],
   "source": [
    "df = df[df.taxvaluedollarcnt <= 2_500_000]"
   ]
  },
  {
   "cell_type": "code",
   "execution_count": 39,
   "id": "35dae60a",
   "metadata": {},
   "outputs": [
    {
     "data": {
      "text/plain": [
       "0.9808882381649585"
      ]
     },
     "execution_count": 39,
     "metadata": {},
     "output_type": "execute_result"
    }
   ],
   "source": [
    "#other end:\n",
    "df[df.taxvaluedollarcnt >= 45_000].shape[0] / df.shape[0]"
   ]
  },
  {
   "cell_type": "markdown",
   "id": "1e1608f2",
   "metadata": {},
   "source": [
    "I don't know who is buying these homes at 45,000, but good for them...and I'm taking out the lower end ones"
   ]
  },
  {
   "cell_type": "code",
   "execution_count": 40,
   "id": "241d0fa1",
   "metadata": {},
   "outputs": [],
   "source": [
    "df = df[df.taxvaluedollarcnt >= 45_000]"
   ]
  },
  {
   "cell_type": "code",
   "execution_count": 41,
   "id": "7a386434",
   "metadata": {},
   "outputs": [
    {
     "name": "stdout",
     "output_type": "stream",
     "text": [
      "<class 'pandas.core.frame.DataFrame'>\n",
      "Int64Index: 50246 entries, 0 to 52440\n",
      "Data columns (total 6 columns):\n",
      " #   Column                        Non-Null Count  Dtype  \n",
      "---  ------                        --------------  -----  \n",
      " 0   bedroomcnt                    50246 non-null  int64  \n",
      " 1   bathroomcnt                   50246 non-null  float64\n",
      " 2   calculatedfinishedsquarefeet  50246 non-null  int64  \n",
      " 3   taxvaluedollarcnt             50246 non-null  int64  \n",
      " 4   transactiondate               50246 non-null  object \n",
      " 5   fips                          50246 non-null  int64  \n",
      "dtypes: float64(1), int64(4), object(1)\n",
      "memory usage: 2.7+ MB\n"
     ]
    }
   ],
   "source": [
    "df.info()"
   ]
  },
  {
   "cell_type": "markdown",
   "id": "4893ea12",
   "metadata": {},
   "source": [
    "____________________________________________________________________________________________________________"
   ]
  },
  {
   "cell_type": "markdown",
   "id": "d2040513",
   "metadata": {},
   "source": [
    "### Missing county/fips codes in:\n",
    "Thanks Zach for losing those fip codes! ;) \n",
    "Here is a function to add those back in."
   ]
  },
  {
   "cell_type": "code",
   "execution_count": 42,
   "id": "696367bf",
   "metadata": {},
   "outputs": [],
   "source": [
    "def clearing_fips(df):\n",
    "    '''This function takes in a DataFrame of unprepared Zillow information and generates a new\n",
    "    'county' column, with the county name based on the FIPS code. \n",
    "    '''\n",
    "    # create a list of our conditions\n",
    "    fips = [\n",
    "        (df['fips'] == 6037),\n",
    "        (df['fips'] == 6059),\n",
    "        (df['fips'] == 6111)\n",
    "        ]\n",
    "    # create a list of the values we want to assign for each condition\n",
    "    counties = ['Los Angeles County', 'Orange County', 'Ventura County']\n",
    "    # create a new column and use np.select to assign values to it using our lists as arguments\n",
    "    df['county'] = np.select(fips, counties)\n",
    "    return df"
   ]
  },
  {
   "cell_type": "code",
   "execution_count": 43,
   "id": "2db8554e",
   "metadata": {},
   "outputs": [
    {
     "data": {
      "text/html": [
       "<div>\n",
       "<style scoped>\n",
       "    .dataframe tbody tr th:only-of-type {\n",
       "        vertical-align: middle;\n",
       "    }\n",
       "\n",
       "    .dataframe tbody tr th {\n",
       "        vertical-align: top;\n",
       "    }\n",
       "\n",
       "    .dataframe thead th {\n",
       "        text-align: right;\n",
       "    }\n",
       "</style>\n",
       "<table border=\"1\" class=\"dataframe\">\n",
       "  <thead>\n",
       "    <tr style=\"text-align: right;\">\n",
       "      <th></th>\n",
       "      <th>bedroomcnt</th>\n",
       "      <th>bathroomcnt</th>\n",
       "      <th>calculatedfinishedsquarefeet</th>\n",
       "      <th>taxvaluedollarcnt</th>\n",
       "      <th>transactiondate</th>\n",
       "      <th>fips</th>\n",
       "      <th>county</th>\n",
       "    </tr>\n",
       "  </thead>\n",
       "  <tbody>\n",
       "    <tr>\n",
       "      <th>0</th>\n",
       "      <td>4</td>\n",
       "      <td>2.0</td>\n",
       "      <td>1242</td>\n",
       "      <td>590000</td>\n",
       "      <td>2017-01-13</td>\n",
       "      <td>6037</td>\n",
       "      <td>Los Angeles County</td>\n",
       "    </tr>\n",
       "    <tr>\n",
       "      <th>1</th>\n",
       "      <td>2</td>\n",
       "      <td>1.0</td>\n",
       "      <td>864</td>\n",
       "      <td>355000</td>\n",
       "      <td>2017-01-13</td>\n",
       "      <td>6037</td>\n",
       "      <td>Los Angeles County</td>\n",
       "    </tr>\n",
       "    <tr>\n",
       "      <th>2</th>\n",
       "      <td>3</td>\n",
       "      <td>2.0</td>\n",
       "      <td>1550</td>\n",
       "      <td>2200000</td>\n",
       "      <td>2017-01-13</td>\n",
       "      <td>6037</td>\n",
       "      <td>Los Angeles County</td>\n",
       "    </tr>\n",
       "    <tr>\n",
       "      <th>3</th>\n",
       "      <td>3</td>\n",
       "      <td>2.0</td>\n",
       "      <td>1149</td>\n",
       "      <td>185716</td>\n",
       "      <td>2017-01-13</td>\n",
       "      <td>6037</td>\n",
       "      <td>Los Angeles County</td>\n",
       "    </tr>\n",
       "    <tr>\n",
       "      <th>4</th>\n",
       "      <td>3</td>\n",
       "      <td>2.0</td>\n",
       "      <td>1508</td>\n",
       "      <td>419389</td>\n",
       "      <td>2017-01-13</td>\n",
       "      <td>6037</td>\n",
       "      <td>Los Angeles County</td>\n",
       "    </tr>\n",
       "    <tr>\n",
       "      <th>...</th>\n",
       "      <td>...</td>\n",
       "      <td>...</td>\n",
       "      <td>...</td>\n",
       "      <td>...</td>\n",
       "      <td>...</td>\n",
       "      <td>...</td>\n",
       "      <td>...</td>\n",
       "    </tr>\n",
       "    <tr>\n",
       "      <th>52435</th>\n",
       "      <td>4</td>\n",
       "      <td>2.0</td>\n",
       "      <td>1669</td>\n",
       "      <td>569544</td>\n",
       "      <td>2017-09-06</td>\n",
       "      <td>6059</td>\n",
       "      <td>Orange County</td>\n",
       "    </tr>\n",
       "    <tr>\n",
       "      <th>52436</th>\n",
       "      <td>3</td>\n",
       "      <td>2.0</td>\n",
       "      <td>1821</td>\n",
       "      <td>402132</td>\n",
       "      <td>2017-09-06</td>\n",
       "      <td>6037</td>\n",
       "      <td>Los Angeles County</td>\n",
       "    </tr>\n",
       "    <tr>\n",
       "      <th>52437</th>\n",
       "      <td>2</td>\n",
       "      <td>1.0</td>\n",
       "      <td>1246</td>\n",
       "      <td>468691</td>\n",
       "      <td>2017-09-06</td>\n",
       "      <td>6037</td>\n",
       "      <td>Los Angeles County</td>\n",
       "    </tr>\n",
       "    <tr>\n",
       "      <th>52439</th>\n",
       "      <td>3</td>\n",
       "      <td>2.0</td>\n",
       "      <td>1180</td>\n",
       "      <td>71426</td>\n",
       "      <td>2017-09-06</td>\n",
       "      <td>6037</td>\n",
       "      <td>Los Angeles County</td>\n",
       "    </tr>\n",
       "    <tr>\n",
       "      <th>52440</th>\n",
       "      <td>4</td>\n",
       "      <td>4.0</td>\n",
       "      <td>3436</td>\n",
       "      <td>710674</td>\n",
       "      <td>2017-09-06</td>\n",
       "      <td>6037</td>\n",
       "      <td>Los Angeles County</td>\n",
       "    </tr>\n",
       "  </tbody>\n",
       "</table>\n",
       "<p>50246 rows × 7 columns</p>\n",
       "</div>"
      ],
      "text/plain": [
       "       bedroomcnt  bathroomcnt  calculatedfinishedsquarefeet  \\\n",
       "0               4          2.0                          1242   \n",
       "1               2          1.0                           864   \n",
       "2               3          2.0                          1550   \n",
       "3               3          2.0                          1149   \n",
       "4               3          2.0                          1508   \n",
       "...           ...          ...                           ...   \n",
       "52435           4          2.0                          1669   \n",
       "52436           3          2.0                          1821   \n",
       "52437           2          1.0                          1246   \n",
       "52439           3          2.0                          1180   \n",
       "52440           4          4.0                          3436   \n",
       "\n",
       "       taxvaluedollarcnt transactiondate  fips              county  \n",
       "0                 590000      2017-01-13  6037  Los Angeles County  \n",
       "1                 355000      2017-01-13  6037  Los Angeles County  \n",
       "2                2200000      2017-01-13  6037  Los Angeles County  \n",
       "3                 185716      2017-01-13  6037  Los Angeles County  \n",
       "4                 419389      2017-01-13  6037  Los Angeles County  \n",
       "...                  ...             ...   ...                 ...  \n",
       "52435             569544      2017-09-06  6059       Orange County  \n",
       "52436             402132      2017-09-06  6037  Los Angeles County  \n",
       "52437             468691      2017-09-06  6037  Los Angeles County  \n",
       "52439              71426      2017-09-06  6037  Los Angeles County  \n",
       "52440             710674      2017-09-06  6037  Los Angeles County  \n",
       "\n",
       "[50246 rows x 7 columns]"
      ]
     },
     "execution_count": 43,
     "metadata": {},
     "output_type": "execute_result"
    }
   ],
   "source": [
    "clearing_fips(df)"
   ]
  },
  {
   "cell_type": "markdown",
   "id": "ab8914b5",
   "metadata": {},
   "source": [
    "___________________________________________________________________________________________________________"
   ]
  },
  {
   "cell_type": "markdown",
   "id": "44713a60",
   "metadata": {},
   "source": [
    "### Creating a new feature to compare value weight to property value:\n",
    "Time of year for Transactions\n",
    "\n",
    "I added this as I know (from buying my own homes) that there are high buying and high selling seasons in real estate."
   ]
  },
  {
   "cell_type": "code",
   "execution_count": 44,
   "id": "12413aa1",
   "metadata": {},
   "outputs": [],
   "source": [
    "#creating a function to added a column that holds the month number for later testing\n",
    "def month_sales(df):\n",
    "    df['month'] = pd.DatetimeIndex(df['transactiondate']).month\n",
    "    return df"
   ]
  },
  {
   "cell_type": "code",
   "execution_count": 45,
   "id": "2141710b",
   "metadata": {},
   "outputs": [
    {
     "data": {
      "text/html": [
       "<div>\n",
       "<style scoped>\n",
       "    .dataframe tbody tr th:only-of-type {\n",
       "        vertical-align: middle;\n",
       "    }\n",
       "\n",
       "    .dataframe tbody tr th {\n",
       "        vertical-align: top;\n",
       "    }\n",
       "\n",
       "    .dataframe thead th {\n",
       "        text-align: right;\n",
       "    }\n",
       "</style>\n",
       "<table border=\"1\" class=\"dataframe\">\n",
       "  <thead>\n",
       "    <tr style=\"text-align: right;\">\n",
       "      <th></th>\n",
       "      <th>bedroomcnt</th>\n",
       "      <th>bathroomcnt</th>\n",
       "      <th>calculatedfinishedsquarefeet</th>\n",
       "      <th>taxvaluedollarcnt</th>\n",
       "      <th>transactiondate</th>\n",
       "      <th>fips</th>\n",
       "      <th>county</th>\n",
       "      <th>month</th>\n",
       "    </tr>\n",
       "  </thead>\n",
       "  <tbody>\n",
       "    <tr>\n",
       "      <th>0</th>\n",
       "      <td>4</td>\n",
       "      <td>2.0</td>\n",
       "      <td>1242</td>\n",
       "      <td>590000</td>\n",
       "      <td>2017-01-13</td>\n",
       "      <td>6037</td>\n",
       "      <td>Los Angeles County</td>\n",
       "      <td>1</td>\n",
       "    </tr>\n",
       "    <tr>\n",
       "      <th>1</th>\n",
       "      <td>2</td>\n",
       "      <td>1.0</td>\n",
       "      <td>864</td>\n",
       "      <td>355000</td>\n",
       "      <td>2017-01-13</td>\n",
       "      <td>6037</td>\n",
       "      <td>Los Angeles County</td>\n",
       "      <td>1</td>\n",
       "    </tr>\n",
       "    <tr>\n",
       "      <th>2</th>\n",
       "      <td>3</td>\n",
       "      <td>2.0</td>\n",
       "      <td>1550</td>\n",
       "      <td>2200000</td>\n",
       "      <td>2017-01-13</td>\n",
       "      <td>6037</td>\n",
       "      <td>Los Angeles County</td>\n",
       "      <td>1</td>\n",
       "    </tr>\n",
       "    <tr>\n",
       "      <th>3</th>\n",
       "      <td>3</td>\n",
       "      <td>2.0</td>\n",
       "      <td>1149</td>\n",
       "      <td>185716</td>\n",
       "      <td>2017-01-13</td>\n",
       "      <td>6037</td>\n",
       "      <td>Los Angeles County</td>\n",
       "      <td>1</td>\n",
       "    </tr>\n",
       "    <tr>\n",
       "      <th>4</th>\n",
       "      <td>3</td>\n",
       "      <td>2.0</td>\n",
       "      <td>1508</td>\n",
       "      <td>419389</td>\n",
       "      <td>2017-01-13</td>\n",
       "      <td>6037</td>\n",
       "      <td>Los Angeles County</td>\n",
       "      <td>1</td>\n",
       "    </tr>\n",
       "    <tr>\n",
       "      <th>...</th>\n",
       "      <td>...</td>\n",
       "      <td>...</td>\n",
       "      <td>...</td>\n",
       "      <td>...</td>\n",
       "      <td>...</td>\n",
       "      <td>...</td>\n",
       "      <td>...</td>\n",
       "      <td>...</td>\n",
       "    </tr>\n",
       "    <tr>\n",
       "      <th>52435</th>\n",
       "      <td>4</td>\n",
       "      <td>2.0</td>\n",
       "      <td>1669</td>\n",
       "      <td>569544</td>\n",
       "      <td>2017-09-06</td>\n",
       "      <td>6059</td>\n",
       "      <td>Orange County</td>\n",
       "      <td>9</td>\n",
       "    </tr>\n",
       "    <tr>\n",
       "      <th>52436</th>\n",
       "      <td>3</td>\n",
       "      <td>2.0</td>\n",
       "      <td>1821</td>\n",
       "      <td>402132</td>\n",
       "      <td>2017-09-06</td>\n",
       "      <td>6037</td>\n",
       "      <td>Los Angeles County</td>\n",
       "      <td>9</td>\n",
       "    </tr>\n",
       "    <tr>\n",
       "      <th>52437</th>\n",
       "      <td>2</td>\n",
       "      <td>1.0</td>\n",
       "      <td>1246</td>\n",
       "      <td>468691</td>\n",
       "      <td>2017-09-06</td>\n",
       "      <td>6037</td>\n",
       "      <td>Los Angeles County</td>\n",
       "      <td>9</td>\n",
       "    </tr>\n",
       "    <tr>\n",
       "      <th>52439</th>\n",
       "      <td>3</td>\n",
       "      <td>2.0</td>\n",
       "      <td>1180</td>\n",
       "      <td>71426</td>\n",
       "      <td>2017-09-06</td>\n",
       "      <td>6037</td>\n",
       "      <td>Los Angeles County</td>\n",
       "      <td>9</td>\n",
       "    </tr>\n",
       "    <tr>\n",
       "      <th>52440</th>\n",
       "      <td>4</td>\n",
       "      <td>4.0</td>\n",
       "      <td>3436</td>\n",
       "      <td>710674</td>\n",
       "      <td>2017-09-06</td>\n",
       "      <td>6037</td>\n",
       "      <td>Los Angeles County</td>\n",
       "      <td>9</td>\n",
       "    </tr>\n",
       "  </tbody>\n",
       "</table>\n",
       "<p>50246 rows × 8 columns</p>\n",
       "</div>"
      ],
      "text/plain": [
       "       bedroomcnt  bathroomcnt  calculatedfinishedsquarefeet  \\\n",
       "0               4          2.0                          1242   \n",
       "1               2          1.0                           864   \n",
       "2               3          2.0                          1550   \n",
       "3               3          2.0                          1149   \n",
       "4               3          2.0                          1508   \n",
       "...           ...          ...                           ...   \n",
       "52435           4          2.0                          1669   \n",
       "52436           3          2.0                          1821   \n",
       "52437           2          1.0                          1246   \n",
       "52439           3          2.0                          1180   \n",
       "52440           4          4.0                          3436   \n",
       "\n",
       "       taxvaluedollarcnt transactiondate  fips              county  month  \n",
       "0                 590000      2017-01-13  6037  Los Angeles County      1  \n",
       "1                 355000      2017-01-13  6037  Los Angeles County      1  \n",
       "2                2200000      2017-01-13  6037  Los Angeles County      1  \n",
       "3                 185716      2017-01-13  6037  Los Angeles County      1  \n",
       "4                 419389      2017-01-13  6037  Los Angeles County      1  \n",
       "...                  ...             ...   ...                 ...    ...  \n",
       "52435             569544      2017-09-06  6059       Orange County      9  \n",
       "52436             402132      2017-09-06  6037  Los Angeles County      9  \n",
       "52437             468691      2017-09-06  6037  Los Angeles County      9  \n",
       "52439              71426      2017-09-06  6037  Los Angeles County      9  \n",
       "52440             710674      2017-09-06  6037  Los Angeles County      9  \n",
       "\n",
       "[50246 rows x 8 columns]"
      ]
     },
     "execution_count": 45,
     "metadata": {},
     "output_type": "execute_result"
    }
   ],
   "source": [
    "month_sales(df)"
   ]
  },
  {
   "cell_type": "markdown",
   "id": "9cf7035e",
   "metadata": {},
   "source": [
    "### >>ALL THE ABOVE IS NOW ADDED INTO THE ACQUIRE .py file<<"
   ]
  },
  {
   "cell_type": "markdown",
   "id": "30d7216b",
   "metadata": {},
   "source": [
    "_____________________________________________________________________________________________________________________"
   ]
  },
  {
   "cell_type": "code",
   "execution_count": null,
   "id": "18eef442",
   "metadata": {},
   "outputs": [],
   "source": []
  },
  {
   "cell_type": "markdown",
   "id": "7d362648",
   "metadata": {},
   "source": [
    "## Splitting the Data:\n",
    "\n",
    "- Let's split the data to begin the train, validate, and test process and do some Hypothesis testing:\n",
    "**<b>Note: this function will be added to the prepare.py file"
   ]
  },
  {
   "cell_type": "code",
   "execution_count": 46,
   "id": "37f71bb8",
   "metadata": {},
   "outputs": [
    {
     "name": "stdout",
     "output_type": "stream",
     "text": [
      "(28137, 8) (12059, 8) (10050, 8)\n"
     ]
    }
   ],
   "source": [
    "#Splitting the data into a train/test split of 80/20\n",
    "#Further splits for train/validate of 70/30\n",
    "train_validate, test = train_test_split(df, test_size=.2, random_state=123)\n",
    "train, validate = train_test_split(train_validate, test_size=.3, random_state=123)\n",
    "print(train.shape, validate.shape, test.shape)"
   ]
  },
  {
   "cell_type": "markdown",
   "id": "95d1a631",
   "metadata": {},
   "source": [
    "### Questions 1: Does Bathroom and Bedroom count determine a property's value?\n",
    "\n",
    "a = 0.05\n",
    "\n",
    "- H0: Bathroom count does not correlate to property value.\n",
    "- Ha: Bathroom count does correlate to property value."
   ]
  },
  {
   "cell_type": "code",
   "execution_count": 47,
   "id": "21a8adbd",
   "metadata": {},
   "outputs": [
    {
     "name": "stdout",
     "output_type": "stream",
     "text": [
      "The correlation coefficient is: 0.5044283300693065\n"
     ]
    }
   ],
   "source": [
    "#We will try a correlation hypothesis test for bathroom count and taxvaluedollarcnt (property value)\n",
    "from math import sqrt\n",
    "from scipy import stats\n",
    "\n",
    "n = train.shape[0]     # number of observations\n",
    "degf = n - 2        # degrees of freedom: the # of values in the final calculation of a statistic that are free to vary.\n",
    "conf_interval = .95 # desired confidence interval\n",
    "α = 1 - conf_interval\n",
    "\n",
    "x = train.bathroomcnt\n",
    "y = train.taxvaluedollarcnt\n",
    "\n",
    "def stdev(x):\n",
    "    variance = ((x - x.mean()) ** 2).sum() / n\n",
    "    return sqrt(variance)\n",
    "\n",
    "r_xy = (((x - x.mean()) * (y - y.mean())).sum() / n) / (stdev(x) * stdev(y))\n",
    "print('The correlation coefficient is:', r_xy)\n"
   ]
  },
  {
   "cell_type": "code",
   "execution_count": 48,
   "id": "98ebda5c",
   "metadata": {},
   "outputs": [
    {
     "data": {
      "text/plain": [
       "97.99049291629026"
      ]
     },
     "execution_count": 48,
     "metadata": {},
     "output_type": "execute_result"
    }
   ],
   "source": [
    "#calculating corresponding p-value:\n",
    "# 1 step: t-statistic\n",
    "t = (r_xy * sqrt(n - 2)) / sqrt(1 - r_xy**2)\n",
    "t"
   ]
  },
  {
   "cell_type": "code",
   "execution_count": 49,
   "id": "c7f8717b",
   "metadata": {},
   "outputs": [
    {
     "data": {
      "text/plain": [
       "0.0"
      ]
     },
     "execution_count": 49,
     "metadata": {},
     "output_type": "execute_result"
    }
   ],
   "source": [
    "# 2 step: find p value:\n",
    "p = stats.t.sf(t, df=degf) * 2 # *2 for a two-tailed test\n",
    "p"
   ]
  },
  {
   "cell_type": "code",
   "execution_count": 50,
   "id": "efd28bf3",
   "metadata": {},
   "outputs": [
    {
     "data": {
      "text/plain": [
       "True"
      ]
     },
     "execution_count": 50,
     "metadata": {},
     "output_type": "execute_result"
    }
   ],
   "source": [
    "# 3 step: compare p value to our alpha: if our p value is less, then we reject Null Hypothesis\n",
    "\n",
    "p < α\n"
   ]
  },
  {
   "cell_type": "markdown",
   "id": "dd880d19",
   "metadata": {},
   "source": [
    "#### We reject the null hypothesis that bathroom count does not correlate to a property's value. "
   ]
  },
  {
   "cell_type": "code",
   "execution_count": 51,
   "id": "37f87d8b",
   "metadata": {},
   "outputs": [
    {
     "data": {
      "text/html": [
       "<div>\n",
       "<style scoped>\n",
       "    .dataframe tbody tr th:only-of-type {\n",
       "        vertical-align: middle;\n",
       "    }\n",
       "\n",
       "    .dataframe tbody tr th {\n",
       "        vertical-align: top;\n",
       "    }\n",
       "\n",
       "    .dataframe thead th {\n",
       "        text-align: right;\n",
       "    }\n",
       "</style>\n",
       "<table border=\"1\" class=\"dataframe\">\n",
       "  <thead>\n",
       "    <tr style=\"text-align: right;\">\n",
       "      <th></th>\n",
       "      <th>bedroomcnt</th>\n",
       "      <th>calculatedfinishedsquarefeet</th>\n",
       "      <th>taxvaluedollarcnt</th>\n",
       "      <th>fips</th>\n",
       "      <th>month</th>\n",
       "    </tr>\n",
       "  </thead>\n",
       "  <tbody>\n",
       "    <tr>\n",
       "      <th>bedroomcnt</th>\n",
       "      <td>1.000000</td>\n",
       "      <td>0.629158</td>\n",
       "      <td>0.265650</td>\n",
       "      <td>0.145237</td>\n",
       "      <td>0.017503</td>\n",
       "    </tr>\n",
       "    <tr>\n",
       "      <th>calculatedfinishedsquarefeet</th>\n",
       "      <td>0.629158</td>\n",
       "      <td>1.000000</td>\n",
       "      <td>0.579966</td>\n",
       "      <td>0.139080</td>\n",
       "      <td>0.018962</td>\n",
       "    </tr>\n",
       "    <tr>\n",
       "      <th>taxvaluedollarcnt</th>\n",
       "      <td>0.265650</td>\n",
       "      <td>0.579966</td>\n",
       "      <td>1.000000</td>\n",
       "      <td>0.079339</td>\n",
       "      <td>0.020980</td>\n",
       "    </tr>\n",
       "    <tr>\n",
       "      <th>fips</th>\n",
       "      <td>0.145237</td>\n",
       "      <td>0.139080</td>\n",
       "      <td>0.079339</td>\n",
       "      <td>1.000000</td>\n",
       "      <td>0.001091</td>\n",
       "    </tr>\n",
       "    <tr>\n",
       "      <th>month</th>\n",
       "      <td>0.017503</td>\n",
       "      <td>0.018962</td>\n",
       "      <td>0.020980</td>\n",
       "      <td>0.001091</td>\n",
       "      <td>1.000000</td>\n",
       "    </tr>\n",
       "  </tbody>\n",
       "</table>\n",
       "</div>"
      ],
      "text/plain": [
       "                              bedroomcnt  calculatedfinishedsquarefeet  \\\n",
       "bedroomcnt                      1.000000                      0.629158   \n",
       "calculatedfinishedsquarefeet    0.629158                      1.000000   \n",
       "taxvaluedollarcnt               0.265650                      0.579966   \n",
       "fips                            0.145237                      0.139080   \n",
       "month                           0.017503                      0.018962   \n",
       "\n",
       "                              taxvaluedollarcnt      fips     month  \n",
       "bedroomcnt                             0.265650  0.145237  0.017503  \n",
       "calculatedfinishedsquarefeet           0.579966  0.139080  0.018962  \n",
       "taxvaluedollarcnt                      1.000000  0.079339  0.020980  \n",
       "fips                                   0.079339  1.000000  0.001091  \n",
       "month                                  0.020980  0.001091  1.000000  "
      ]
     },
     "execution_count": 51,
     "metadata": {},
     "output_type": "execute_result"
    }
   ],
   "source": [
    "# Let's visualize these coefficient correlations with a heatmap!\n",
    "#Creating the correlation matrix for bathroom counts.\n",
    "\n",
    "bathroom_corr = train.drop(columns=['bathroomcnt']).corr()\n",
    "bathroom_corr\n"
   ]
  },
  {
   "cell_type": "code",
   "execution_count": 52,
   "id": "9a9ea63c",
   "metadata": {},
   "outputs": [
    {
     "data": {
      "image/png": "[encoded data removed]",
      "text/plain": [
       "<Figure size 576x432 with 2 Axes>"
      ]
     },
     "metadata": {
      "needs_background": "light"
     },
     "output_type": "display_data"
    }
   ],
   "source": [
    "# Pass my correlation matrix to Seaborn's heatmap.\n",
    "\n",
    "kwargs = {'alpha':.9,'linewidth':3, 'linestyle':'-', \n",
    "          'linecolor':'k','rasterized':False, 'edgecolor':'w', \n",
    "          'capstyle':'projecting',}\n",
    "\n",
    "plt.figure(figsize=(8,6))\n",
    "sns.heatmap(bathroom_corr, cmap='Purples', annot=True, mask= np.triu(bathroom_corr), **kwargs)\n",
    "plt.ylim(0, 4)\n",
    "\n",
    "plt.show()\n"
   ]
  },
  {
   "cell_type": "markdown",
   "id": "16246fe3",
   "metadata": {},
   "source": [
    "#### TAKEAWAY: Bathroom count looks to definitely correlate with property's value, and it looks like the finished squarefeet may relate to bathroom count too"
   ]
  },
  {
   "cell_type": "markdown",
   "id": "6bc78a07",
   "metadata": {},
   "source": [
    "___________________________________________________________________________________________________________________"
   ]
  },
  {
   "cell_type": "markdown",
   "id": "2c2af84b",
   "metadata": {},
   "source": [
    "Part two of the first question::\n",
    "a = 0.05\n",
    "\n",
    "- H0: Bedroom count does not correlate to property value.\n",
    "- Ha: Bedroom count does correlate to property value."
   ]
  },
  {
   "cell_type": "code",
   "execution_count": 53,
   "id": "480713fe",
   "metadata": {},
   "outputs": [
    {
     "name": "stdout",
     "output_type": "stream",
     "text": [
      "The correlation coefficient is: 0.2656498353705466\n"
     ]
    }
   ],
   "source": [
    "#We will try a correlation hypothesis test for bathroom count and taxvaluedollarcnt (property value)\n",
    "from math import sqrt\n",
    "from scipy import stats\n",
    "\n",
    "n = train.shape[0]     # number of observations\n",
    "degf = n - 2        # degrees of freedom: the # of values in the final calculation of a statistic that are free to vary.\n",
    "conf_interval = .95 # desired confidence interval\n",
    "α = 1 - conf_interval\n",
    "\n",
    "x = train.bedroomcnt\n",
    "y = train.taxvaluedollarcnt\n",
    "\n",
    "def stdev(x):\n",
    "    variance = ((x - x.mean()) ** 2).sum() / n\n",
    "    return sqrt(variance)\n",
    "\n",
    "r_xy = (((x - x.mean()) * (y - y.mean())).sum() / n) / (stdev(x) * stdev(y))\n",
    "print('The correlation coefficient is:', r_xy)"
   ]
  },
  {
   "cell_type": "code",
   "execution_count": 54,
   "id": "91aab69f",
   "metadata": {},
   "outputs": [
    {
     "data": {
      "text/plain": [
       "46.21943466415567"
      ]
     },
     "execution_count": 54,
     "metadata": {},
     "output_type": "execute_result"
    }
   ],
   "source": [
    "#calculating corresponding p-value:\n",
    "# 1 step: t-statistic\n",
    "t = (r_xy * sqrt(n - 2)) / sqrt(1 - r_xy**2)\n",
    "t"
   ]
  },
  {
   "cell_type": "code",
   "execution_count": 55,
   "id": "06525fad",
   "metadata": {},
   "outputs": [
    {
     "data": {
      "text/plain": [
       "0.0"
      ]
     },
     "execution_count": 55,
     "metadata": {},
     "output_type": "execute_result"
    }
   ],
   "source": [
    "# 2 step: find p value:\n",
    "p = stats.t.sf(t, df=degf) * 2 # *2 for a two-tailed test\n",
    "p"
   ]
  },
  {
   "cell_type": "code",
   "execution_count": 56,
   "id": "e162a41c",
   "metadata": {},
   "outputs": [
    {
     "data": {
      "text/plain": [
       "True"
      ]
     },
     "execution_count": 56,
     "metadata": {},
     "output_type": "execute_result"
    }
   ],
   "source": [
    "# 3 step: compare p value to our alpha: if our p value is less, then we reject Null Hypothesis\n",
    "\n",
    "p < α\n"
   ]
  },
  {
   "cell_type": "markdown",
   "id": "eacdc5a5",
   "metadata": {},
   "source": [
    "#### We reject the null hypothesis that bedroom count does not correlate to a property's value. \n"
   ]
  },
  {
   "cell_type": "code",
   "execution_count": 57,
   "id": "a3102865",
   "metadata": {},
   "outputs": [
    {
     "data": {
      "text/html": [
       "<div>\n",
       "<style scoped>\n",
       "    .dataframe tbody tr th:only-of-type {\n",
       "        vertical-align: middle;\n",
       "    }\n",
       "\n",
       "    .dataframe tbody tr th {\n",
       "        vertical-align: top;\n",
       "    }\n",
       "\n",
       "    .dataframe thead th {\n",
       "        text-align: right;\n",
       "    }\n",
       "</style>\n",
       "<table border=\"1\" class=\"dataframe\">\n",
       "  <thead>\n",
       "    <tr style=\"text-align: right;\">\n",
       "      <th></th>\n",
       "      <th>bathroomcnt</th>\n",
       "      <th>calculatedfinishedsquarefeet</th>\n",
       "      <th>taxvaluedollarcnt</th>\n",
       "      <th>fips</th>\n",
       "      <th>month</th>\n",
       "    </tr>\n",
       "  </thead>\n",
       "  <tbody>\n",
       "    <tr>\n",
       "      <th>bathroomcnt</th>\n",
       "      <td>1.000000</td>\n",
       "      <td>0.833644</td>\n",
       "      <td>0.504428</td>\n",
       "      <td>0.127767</td>\n",
       "      <td>0.023038</td>\n",
       "    </tr>\n",
       "    <tr>\n",
       "      <th>calculatedfinishedsquarefeet</th>\n",
       "      <td>0.833644</td>\n",
       "      <td>1.000000</td>\n",
       "      <td>0.579966</td>\n",
       "      <td>0.139080</td>\n",
       "      <td>0.018962</td>\n",
       "    </tr>\n",
       "    <tr>\n",
       "      <th>taxvaluedollarcnt</th>\n",
       "      <td>0.504428</td>\n",
       "      <td>0.579966</td>\n",
       "      <td>1.000000</td>\n",
       "      <td>0.079339</td>\n",
       "      <td>0.020980</td>\n",
       "    </tr>\n",
       "    <tr>\n",
       "      <th>fips</th>\n",
       "      <td>0.127767</td>\n",
       "      <td>0.139080</td>\n",
       "      <td>0.079339</td>\n",
       "      <td>1.000000</td>\n",
       "      <td>0.001091</td>\n",
       "    </tr>\n",
       "    <tr>\n",
       "      <th>month</th>\n",
       "      <td>0.023038</td>\n",
       "      <td>0.018962</td>\n",
       "      <td>0.020980</td>\n",
       "      <td>0.001091</td>\n",
       "      <td>1.000000</td>\n",
       "    </tr>\n",
       "  </tbody>\n",
       "</table>\n",
       "</div>"
      ],
      "text/plain": [
       "                              bathroomcnt  calculatedfinishedsquarefeet  \\\n",
       "bathroomcnt                      1.000000                      0.833644   \n",
       "calculatedfinishedsquarefeet     0.833644                      1.000000   \n",
       "taxvaluedollarcnt                0.504428                      0.579966   \n",
       "fips                             0.127767                      0.139080   \n",
       "month                            0.023038                      0.018962   \n",
       "\n",
       "                              taxvaluedollarcnt      fips     month  \n",
       "bathroomcnt                            0.504428  0.127767  0.023038  \n",
       "calculatedfinishedsquarefeet           0.579966  0.139080  0.018962  \n",
       "taxvaluedollarcnt                      1.000000  0.079339  0.020980  \n",
       "fips                                   0.079339  1.000000  0.001091  \n",
       "month                                  0.020980  0.001091  1.000000  "
      ]
     },
     "execution_count": 57,
     "metadata": {},
     "output_type": "execute_result"
    }
   ],
   "source": [
    "# Let's visualize these coefficient correlations with a heatmap!\n",
    "#Creating the correlation matrix for bedroom counts.\n",
    "\n",
    "bedroom_corr = train.drop(columns=['bedroomcnt']).corr()\n",
    "bedroom_corr\n"
   ]
  },
  {
   "cell_type": "code",
   "execution_count": 58,
   "id": "80630a48",
   "metadata": {},
   "outputs": [
    {
     "data": {
      "image/png": "[encoded data removed]",
      "text/plain": [
       "<Figure size 576x432 with 2 Axes>"
      ]
     },
     "metadata": {
      "needs_background": "light"
     },
     "output_type": "display_data"
    }
   ],
   "source": [
    "# Pass my correlation matrix to Seaborn's heatmap.\n",
    "\n",
    "kwargs = {'alpha':.9,'linewidth':3, 'linestyle':'-', \n",
    "          'linecolor':'k','rasterized':False, 'edgecolor':'w', \n",
    "          'capstyle':'projecting',}\n",
    "\n",
    "plt.figure(figsize=(8,6))\n",
    "sns.heatmap(bedroom_corr, cmap='Purples', annot=True, mask= np.triu(bedroom_corr), **kwargs)\n",
    "plt.ylim(0, 4)\n",
    "\n",
    "plt.show()"
   ]
  },
  {
   "cell_type": "markdown",
   "id": "e1ad111f",
   "metadata": {},
   "source": [
    "#### TAKEAWAY: Bedroom count looks to definitely correlate with property's value, and it looks like the finished squarefeet With correlation to bathroom count....makes sense though. The more rooms the more bathrooms may be needed!"
   ]
  },
  {
   "cell_type": "markdown",
   "id": "d24ae3f6",
   "metadata": {},
   "source": [
    "___________________________________________________________________________________________________________________"
   ]
  },
  {
   "cell_type": "markdown",
   "id": "caf1a96b",
   "metadata": {},
   "source": [
    "### Questions 2: - Is there a difference of the average of property values by county? And if so, what is the difference?\n",
    "\n",
    "a = 0.05\n",
    "\n",
    "- H0: County does not correlate to property value.\n",
    "- Ha: County does correlate to property value."
   ]
  },
  {
   "cell_type": "code",
   "execution_count": 59,
   "id": "cb3199b0",
   "metadata": {},
   "outputs": [
    {
     "name": "stdout",
     "output_type": "stream",
     "text": [
      "The correlation coefficient is: 0.07933891055268384\n"
     ]
    }
   ],
   "source": [
    "#We will try a correlation hypothesis test for county (fips as it needs to be numeric)\n",
    "from math import sqrt\n",
    "from scipy import stats\n",
    "\n",
    "n = train.shape[0]     # number of observations\n",
    "degf = n - 2        # degrees of freedom: the # of values in the final calculation of a statistic that are free to vary.\n",
    "conf_interval = .95 # desired confidence interval\n",
    "α = 1 - conf_interval\n",
    "\n",
    "x = train.fips\n",
    "y = train.taxvaluedollarcnt\n",
    "\n",
    "def stdev(x):\n",
    "    variance = ((x - x.mean()) ** 2).sum() / n\n",
    "    return sqrt(variance)\n",
    "\n",
    "r_xy = (((x - x.mean()) * (y - y.mean())).sum() / n) / (stdev(x) * stdev(y))\n",
    "print('The correlation coefficient is:', r_xy)"
   ]
  },
  {
   "cell_type": "code",
   "execution_count": 60,
   "id": "b6d7cd28",
   "metadata": {},
   "outputs": [
    {
     "data": {
      "text/plain": [
       "13.349988179199293"
      ]
     },
     "execution_count": 60,
     "metadata": {},
     "output_type": "execute_result"
    }
   ],
   "source": [
    "#calculating corresponding p-value:\n",
    "# 1 step: t-statistic\n",
    "t = (r_xy * sqrt(n - 2)) / sqrt(1 - r_xy**2)\n",
    "t"
   ]
  },
  {
   "cell_type": "code",
   "execution_count": 61,
   "id": "25f0f9ba",
   "metadata": {},
   "outputs": [
    {
     "data": {
      "text/plain": [
       "1.5740809129248938e-40"
      ]
     },
     "execution_count": 61,
     "metadata": {},
     "output_type": "execute_result"
    }
   ],
   "source": [
    "# 2 step: find p value:\n",
    "p = stats.t.sf(t, df=degf) * 2 # *2 for a two-tailed test\n",
    "p"
   ]
  },
  {
   "cell_type": "code",
   "execution_count": 62,
   "id": "d48c435f",
   "metadata": {},
   "outputs": [
    {
     "data": {
      "text/plain": [
       "True"
      ]
     },
     "execution_count": 62,
     "metadata": {},
     "output_type": "execute_result"
    }
   ],
   "source": [
    "# 3 step: compare p value to our alpha: if our p value is less, then we reject Null Hypothesis\n",
    "\n",
    "p < α\n"
   ]
  },
  {
   "cell_type": "markdown",
   "id": "6f4c4d6a",
   "metadata": {},
   "source": [
    "#### We reject the null hypothesis that county does not correlate to a property's value. \n"
   ]
  },
  {
   "cell_type": "markdown",
   "id": "23a0e3a6",
   "metadata": {},
   "source": [
    "__________________________________________________________________________________________________________________"
   ]
  },
  {
   "cell_type": "markdown",
   "id": "4103f4b7",
   "metadata": {},
   "source": [
    "### Let's begin looking at our data a bit more by county:"
   ]
  },
  {
   "cell_type": "code",
   "execution_count": 63,
   "id": "ee391e8e",
   "metadata": {},
   "outputs": [
    {
     "data": {
      "text/plain": [
       "Los Angeles County    18046\n",
       "Orange County          7712\n",
       "Ventura County         2379\n",
       "Name: county, dtype: int64"
      ]
     },
     "execution_count": 63,
     "metadata": {},
     "output_type": "execute_result"
    }
   ],
   "source": [
    "#getting a value_count() by each county\n",
    "train.county.value_counts()"
   ]
  },
  {
   "cell_type": "markdown",
   "id": "3fc6f401",
   "metadata": {},
   "source": [
    "Now, Let's create some visuals to see the correlation/relationship \n",
    "between county and property value AND we can also add in the bathroom/bedroom counts too here per county\n",
    "\n",
    "**<b>Note: this function has been added to the viz.py file"
   ]
  },
  {
   "cell_type": "code",
   "execution_count": 64,
   "id": "9212d30d",
   "metadata": {},
   "outputs": [
    {
     "data": {
      "image/png": "[encoded data removed]",
      "text/plain": [
       "<Figure size 432x288 with 4 Axes>"
      ]
     },
     "metadata": {},
     "output_type": "display_data"
    },
    {
     "data": {
      "image/png": "[encoded data removed]",
      "text/plain": [
       "<Figure size 432x288 with 4 Axes>"
      ]
     },
     "metadata": {},
     "output_type": "display_data"
    }
   ],
   "source": [
    "#creating a function that will show 3 different types of plots of the relation between property value/county/features\n",
    "#all divided into county \n",
    "def plot_categorical_and_continuous_vars():\n",
    "    columns = ['bathroomcnt','bedroomcnt']\n",
    "    for x in columns:\n",
    "        sns.set()\n",
    "        fig, axes = plt.subplots(2,2)\n",
    "        sns.boxplot(x= x, y=\"taxvaluedollarcnt\", data=train, hue = 'county', ax = axes[0,0])\n",
    "        sns.barplot(x= x, y=\"taxvaluedollarcnt\", data=train, hue = 'county', ax = axes[0,1])\n",
    "        sns.violinplot(x= x, y=\"taxvaluedollarcnt\", data=train, hue = 'county', ax = axes[1,0])\n",
    "        sns.scatterplot(x= x, y=\"taxvaluedollarcnt\", data=train, hue = 'county', ax = axes[1,1])\n",
    "plot_categorical_and_continuous_vars()\n",
    "    "
   ]
  },
  {
   "cell_type": "markdown",
   "id": "592a3f50",
   "metadata": {},
   "source": [
    "#### TAKEAWAY: The charts definitely highlight the rise of property value based on bathroom count, bedroom count and county."
   ]
  },
  {
   "cell_type": "markdown",
   "id": "dd10c53f",
   "metadata": {},
   "source": [
    "___________________________________________________________________________________________________________________"
   ]
  },
  {
   "cell_type": "markdown",
   "id": "7dd82211",
   "metadata": {},
   "source": [
    "Last chart per county.\n",
    "- I found this one to be interesting in adding the regression line within the correlation between county and finished squarefeet\n",
    "- I used 1/4 of the training data here so that a closer view of what the data errors look like, and also the confidence intervals"
   ]
  },
  {
   "cell_type": "code",
   "execution_count": 65,
   "id": "c095a92c",
   "metadata": {},
   "outputs": [
    {
     "data": {
      "image/png": "[encoded data removed]",
      "text/plain": [
       "<Figure size 1080x360 with 3 Axes>"
      ]
     },
     "metadata": {},
     "output_type": "display_data"
    }
   ],
   "source": [
    "#looking at calculated finished squarefeet and if we can visually gauge any relation here\n",
    "def plot_variable_pairs():\n",
    "    columns = ['calculatedfinishedsquarefeet']\n",
    "    for col in columns:\n",
    "        sns.lmplot(x= col, y=\"taxvaluedollarcnt\", data=train.sample(3500), col = 'county', hue = 'county', line_kws={'color': 'red'})\n",
    "        \n",
    "plot_variable_pairs()"
   ]
  },
  {
   "cell_type": "code",
   "execution_count": 66,
   "id": "837168aa",
   "metadata": {},
   "outputs": [],
   "source": [
    "#TODO: \n",
    "#add prepare functions/test and split to prepare.py\n",
    "#add chart functions to viz.py\n"
   ]
  },
  {
   "cell_type": "markdown",
   "id": "f780c978",
   "metadata": {},
   "source": [
    "### Scale the Data:\n",
    "I want to look at the distribution of my data one more time so I can decide if I want to use a linear or non-linear scale."
   ]
  },
  {
   "cell_type": "code",
   "execution_count": 67,
   "id": "ce71b3c4",
   "metadata": {},
   "outputs": [
    {
     "data": {
      "image/png": "[encoded data removed]",
      "text/plain": [
       "<Figure size 1152x216 with 8 Axes>"
      ]
     },
     "metadata": {},
     "output_type": "display_data"
    }
   ],
   "source": [
    "#creating histograms for all the variables\n",
    "\n",
    "plt.figure(figsize=(16, 3))\n",
    "\n",
    "# Creates a List of columns:\n",
    "for i, col in enumerate(train.columns):\n",
    "\n",
    "    # i starts at 0, but plot numbers should start at 1\n",
    "    plot_number = i + 1 \n",
    "\n",
    "    # Create subplot.\n",
    "    plt.subplot(1,8, plot_number)\n",
    "\n",
    "    # Title with column name.\n",
    "    plt.title(col)\n",
    "\n",
    "    # Display histogram for column.\n",
    "    df[col].hist(bins=5)\n",
    "\n",
    "    # Hide gridlines.\n",
    "    plt.grid(False)"
   ]
  },
  {
   "cell_type": "markdown",
   "id": "ab6c73db",
   "metadata": {},
   "source": [
    "#### For the main features: Bedroom count, Bathroom count and finished squarefeet of properities, we already have a normal distribution, so I will use a Linear Scaler. (but later, I may try again a nonlinear scaler to look at the transaction date and months)"
   ]
  },
  {
   "cell_type": "markdown",
   "id": "7191921a",
   "metadata": {},
   "source": [
    "- I will create another split (to keep the unscaled data for possible futher exploring later):"
   ]
  },
  {
   "cell_type": "code",
   "execution_count": 68,
   "id": "642439ca",
   "metadata": {},
   "outputs": [],
   "source": [
    "#using a modified copy of the list, I will use Min-Max scaling\n",
    "#MUST fit scaling to the train columns I am wanting to scale (ie columns_to_scale)\n",
    "train_scaled = train.copy()\n",
    "scaler = MinMaxScaler()\n",
    "columns_to_scale = ['calculatedfinishedsquarefeet']\n",
    "\n",
    "#A copy of train.                 #adding sklearn scaler.fit_transform to scale wanted columns\n",
    "train_scaled[columns_to_scale] = scaler.fit_transform(train[columns_to_scale])"
   ]
  },
  {
   "cell_type": "code",
   "execution_count": 69,
   "id": "aa18564d",
   "metadata": {},
   "outputs": [
    {
     "data": {
      "text/html": [
       "<div>\n",
       "<style scoped>\n",
       "    .dataframe tbody tr th:only-of-type {\n",
       "        vertical-align: middle;\n",
       "    }\n",
       "\n",
       "    .dataframe tbody tr th {\n",
       "        vertical-align: top;\n",
       "    }\n",
       "\n",
       "    .dataframe thead th {\n",
       "        text-align: right;\n",
       "    }\n",
       "</style>\n",
       "<table border=\"1\" class=\"dataframe\">\n",
       "  <thead>\n",
       "    <tr style=\"text-align: right;\">\n",
       "      <th></th>\n",
       "      <th>bedroomcnt</th>\n",
       "      <th>bathroomcnt</th>\n",
       "      <th>calculatedfinishedsquarefeet</th>\n",
       "      <th>taxvaluedollarcnt</th>\n",
       "      <th>transactiondate</th>\n",
       "      <th>fips</th>\n",
       "      <th>county</th>\n",
       "      <th>month</th>\n",
       "    </tr>\n",
       "  </thead>\n",
       "  <tbody>\n",
       "    <tr>\n",
       "      <th>49714</th>\n",
       "      <td>2</td>\n",
       "      <td>1.0</td>\n",
       "      <td>0.076543</td>\n",
       "      <td>200164</td>\n",
       "      <td>2017-08-25</td>\n",
       "      <td>6037</td>\n",
       "      <td>Los Angeles County</td>\n",
       "      <td>8</td>\n",
       "    </tr>\n",
       "    <tr>\n",
       "      <th>48758</th>\n",
       "      <td>2</td>\n",
       "      <td>1.0</td>\n",
       "      <td>0.047142</td>\n",
       "      <td>241199</td>\n",
       "      <td>2017-08-30</td>\n",
       "      <td>6037</td>\n",
       "      <td>Los Angeles County</td>\n",
       "      <td>8</td>\n",
       "    </tr>\n",
       "    <tr>\n",
       "      <th>20886</th>\n",
       "      <td>3</td>\n",
       "      <td>2.0</td>\n",
       "      <td>0.185274</td>\n",
       "      <td>53596</td>\n",
       "      <td>2017-05-04</td>\n",
       "      <td>6037</td>\n",
       "      <td>Los Angeles County</td>\n",
       "      <td>5</td>\n",
       "    </tr>\n",
       "    <tr>\n",
       "      <th>42450</th>\n",
       "      <td>3</td>\n",
       "      <td>2.0</td>\n",
       "      <td>0.303130</td>\n",
       "      <td>818939</td>\n",
       "      <td>2017-08-02</td>\n",
       "      <td>6037</td>\n",
       "      <td>Los Angeles County</td>\n",
       "      <td>8</td>\n",
       "    </tr>\n",
       "    <tr>\n",
       "      <th>19447</th>\n",
       "      <td>2</td>\n",
       "      <td>3.0</td>\n",
       "      <td>0.166646</td>\n",
       "      <td>134320</td>\n",
       "      <td>2017-04-14</td>\n",
       "      <td>6037</td>\n",
       "      <td>Los Angeles County</td>\n",
       "      <td>4</td>\n",
       "    </tr>\n",
       "    <tr>\n",
       "      <th>...</th>\n",
       "      <td>...</td>\n",
       "      <td>...</td>\n",
       "      <td>...</td>\n",
       "      <td>...</td>\n",
       "      <td>...</td>\n",
       "      <td>...</td>\n",
       "      <td>...</td>\n",
       "      <td>...</td>\n",
       "    </tr>\n",
       "    <tr>\n",
       "      <th>7754</th>\n",
       "      <td>3</td>\n",
       "      <td>3.0</td>\n",
       "      <td>0.250919</td>\n",
       "      <td>404651</td>\n",
       "      <td>2017-02-03</td>\n",
       "      <td>6059</td>\n",
       "      <td>Orange County</td>\n",
       "      <td>2</td>\n",
       "    </tr>\n",
       "    <tr>\n",
       "      <th>47482</th>\n",
       "      <td>6</td>\n",
       "      <td>4.0</td>\n",
       "      <td>0.367634</td>\n",
       "      <td>1043534</td>\n",
       "      <td>2017-09-05</td>\n",
       "      <td>6059</td>\n",
       "      <td>Orange County</td>\n",
       "      <td>9</td>\n",
       "    </tr>\n",
       "    <tr>\n",
       "      <th>4334</th>\n",
       "      <td>4</td>\n",
       "      <td>2.0</td>\n",
       "      <td>0.277531</td>\n",
       "      <td>477004</td>\n",
       "      <td>2017-01-19</td>\n",
       "      <td>6037</td>\n",
       "      <td>Los Angeles County</td>\n",
       "      <td>1</td>\n",
       "    </tr>\n",
       "    <tr>\n",
       "      <th>14980</th>\n",
       "      <td>4</td>\n",
       "      <td>2.0</td>\n",
       "      <td>0.104930</td>\n",
       "      <td>270562</td>\n",
       "      <td>2017-04-06</td>\n",
       "      <td>6037</td>\n",
       "      <td>Los Angeles County</td>\n",
       "      <td>4</td>\n",
       "    </tr>\n",
       "    <tr>\n",
       "      <th>41872</th>\n",
       "      <td>4</td>\n",
       "      <td>2.5</td>\n",
       "      <td>0.196806</td>\n",
       "      <td>262407</td>\n",
       "      <td>2017-08-07</td>\n",
       "      <td>6111</td>\n",
       "      <td>Ventura County</td>\n",
       "      <td>8</td>\n",
       "    </tr>\n",
       "  </tbody>\n",
       "</table>\n",
       "<p>28137 rows × 8 columns</p>\n",
       "</div>"
      ],
      "text/plain": [
       "       bedroomcnt  bathroomcnt  calculatedfinishedsquarefeet  \\\n",
       "49714           2          1.0                      0.076543   \n",
       "48758           2          1.0                      0.047142   \n",
       "20886           3          2.0                      0.185274   \n",
       "42450           3          2.0                      0.303130   \n",
       "19447           2          3.0                      0.166646   \n",
       "...           ...          ...                           ...   \n",
       "7754            3          3.0                      0.250919   \n",
       "47482           6          4.0                      0.367634   \n",
       "4334            4          2.0                      0.277531   \n",
       "14980           4          2.0                      0.104930   \n",
       "41872           4          2.5                      0.196806   \n",
       "\n",
       "       taxvaluedollarcnt transactiondate  fips              county  month  \n",
       "49714             200164      2017-08-25  6037  Los Angeles County      8  \n",
       "48758             241199      2017-08-30  6037  Los Angeles County      8  \n",
       "20886              53596      2017-05-04  6037  Los Angeles County      5  \n",
       "42450             818939      2017-08-02  6037  Los Angeles County      8  \n",
       "19447             134320      2017-04-14  6037  Los Angeles County      4  \n",
       "...                  ...             ...   ...                 ...    ...  \n",
       "7754              404651      2017-02-03  6059       Orange County      2  \n",
       "47482            1043534      2017-09-05  6059       Orange County      9  \n",
       "4334              477004      2017-01-19  6037  Los Angeles County      1  \n",
       "14980             270562      2017-04-06  6037  Los Angeles County      4  \n",
       "41872             262407      2017-08-07  6111      Ventura County      8  \n",
       "\n",
       "[28137 rows x 8 columns]"
      ]
     },
     "execution_count": 69,
     "metadata": {},
     "output_type": "execute_result"
    }
   ],
   "source": [
    "#Let's look at the data now scaled\n",
    "train_scaled"
   ]
  },
  {
   "cell_type": "code",
   "execution_count": 70,
   "id": "197e8144",
   "metadata": {},
   "outputs": [
    {
     "data": {
      "image/png": "[encoded data removed]",
      "text/plain": [
       "<Figure size 1152x216 with 8 Axes>"
      ]
     },
     "metadata": {},
     "output_type": "display_data"
    }
   ],
   "source": [
    "#creating histograms for all the train_scaled variables\n",
    "columns = ['bedroomcnt','bathroomcnt','calculatedfinishedsquarefeet','taxvaluedollarcnt']\n",
    "plt.figure(figsize=(16, 3))\n",
    "\n",
    "# Creates a List of columns:\n",
    "for i, col in enumerate(train_scaled.columns):\n",
    "\n",
    "    # i starts at 0, but plot numbers should start at 1\n",
    "    plot_number = i + 1 \n",
    "\n",
    "    # Create subplot.\n",
    "    plt.subplot(1,8, plot_number)\n",
    "\n",
    "    # Title with column name.\n",
    "    plt.title(col)\n",
    "\n",
    "    # Display histogram for column.\n",
    "    df[col].hist(bins=5)\n",
    "\n",
    "    # Hide gridlines.\n",
    "    plt.grid(False)\n"
   ]
  },
  {
   "cell_type": "code",
   "execution_count": 71,
   "id": "058dfa05",
   "metadata": {},
   "outputs": [
    {
     "data": {
      "image/png": "[encoded data removed]",
      "text/plain": [
       "<Figure size 1152x216 with 8 Axes>"
      ]
     },
     "metadata": {},
     "output_type": "display_data"
    }
   ],
   "source": [
    "#compared to unscaled data\n",
    "columns = ['bedroomcnt','bathroomcnt','calculatedfinishedsquarefeet','taxvaluedollarcnt']\n",
    "plt.figure(figsize=(16, 3))\n",
    "\n",
    "# Creates a List of columns:\n",
    "for i, col in enumerate(train.columns):\n",
    "\n",
    "    # i starts at 0, but plot numbers should start at 1\n",
    "    plot_number = i + 1 \n",
    "\n",
    "    # Create subplot.\n",
    "    plt.subplot(1,8, plot_number)\n",
    "\n",
    "    # Title with column name.\n",
    "    plt.title(col)\n",
    "\n",
    "    # Display histogram for column.\n",
    "    df[col].hist(bins=5)\n",
    "\n",
    "    # Hide gridlines.\n",
    "    plt.grid(False)\n"
   ]
  },
  {
   "cell_type": "code",
   "execution_count": 72,
   "id": "1fc1dfd5",
   "metadata": {},
   "outputs": [],
   "source": [
    "#here is my data pipeline function for scaling:\n",
    "def scale_data(train,\n",
    "              validate,\n",
    "              test,\n",
    "              columns_to_scale=['calculatedfinishedsquarefeet'],\n",
    "              return_scaler=False):\n",
    "    \"\"\"\n",
    "    Scales the 3 data splits.\n",
    "    Takes in train, validate and test data splits and then returns their scaled counterparts.\n",
    "    If return_scaler is True, the scaler object will be returned as well\n",
    "    \"\"\"\n",
    "    train_scaled = train.copy()\n",
    "    validate_scaled = validate.copy()\n",
    "    test_scaled = test.copy()\n",
    "    \n",
    "    #using MinMaxScaler (best showing distribution once scaled)\n",
    "    scaler = MinMaxScaler()\n",
    "    scaler.fit(train[columns_to_scale])\n",
    "    \n",
    "    #creating a df that puts MinMaxScaler to work on the wanted columns and returns the split datasets and counterparts\n",
    "    train_scaled[columns_to_scale] = pd.DataFrame(scaler.transform(train[columns_to_scale]),\n",
    "                                                 columns=train[columns_to_scale].columns.values).set_index([train.index.values])\n",
    "    \n",
    "    validate_scaled[columns_to_scale] = pd.DataFrame(scaler.transform(validate[columns_to_scale]),\n",
    "                                                 columns=validate[columns_to_scale].columns.values).set_index([validate.index.values])\n",
    "    \n",
    "    test_scaled[columns_to_scale] = pd.DataFrame(scaler.transform(test[columns_to_scale]),\n",
    "                                                 columns=test[columns_to_scale].columns.values).set_index([test.index.values])\n",
    "    \n",
    "    if return_scaler:\n",
    "        return scaler, train_scaled, validate_scaled, test_scaled\n",
    "    else:\n",
    "        return train_scaled, validate_scaled, test_scaled"
   ]
  },
  {
   "cell_type": "code",
   "execution_count": 73,
   "id": "58ad66e6",
   "metadata": {},
   "outputs": [],
   "source": [
    "scaler, train_scaled, validate_scaled, test_scaled = scale_data(train, validate, test, return_scaler=True)"
   ]
  },
  {
   "cell_type": "code",
   "execution_count": 74,
   "id": "78585763",
   "metadata": {},
   "outputs": [
    {
     "data": {
      "text/html": [
       "<div>\n",
       "<style scoped>\n",
       "    .dataframe tbody tr th:only-of-type {\n",
       "        vertical-align: middle;\n",
       "    }\n",
       "\n",
       "    .dataframe tbody tr th {\n",
       "        vertical-align: top;\n",
       "    }\n",
       "\n",
       "    .dataframe thead th {\n",
       "        text-align: right;\n",
       "    }\n",
       "</style>\n",
       "<table border=\"1\" class=\"dataframe\">\n",
       "  <thead>\n",
       "    <tr style=\"text-align: right;\">\n",
       "      <th></th>\n",
       "      <th>bedroomcnt</th>\n",
       "      <th>bathroomcnt</th>\n",
       "      <th>calculatedfinishedsquarefeet</th>\n",
       "      <th>taxvaluedollarcnt</th>\n",
       "      <th>transactiondate</th>\n",
       "      <th>fips</th>\n",
       "      <th>county</th>\n",
       "      <th>month</th>\n",
       "    </tr>\n",
       "  </thead>\n",
       "  <tbody>\n",
       "    <tr>\n",
       "      <th>49714</th>\n",
       "      <td>2</td>\n",
       "      <td>1.0</td>\n",
       "      <td>0.076543</td>\n",
       "      <td>200164</td>\n",
       "      <td>2017-08-25</td>\n",
       "      <td>6037</td>\n",
       "      <td>Los Angeles County</td>\n",
       "      <td>8</td>\n",
       "    </tr>\n",
       "    <tr>\n",
       "      <th>48758</th>\n",
       "      <td>2</td>\n",
       "      <td>1.0</td>\n",
       "      <td>0.047142</td>\n",
       "      <td>241199</td>\n",
       "      <td>2017-08-30</td>\n",
       "      <td>6037</td>\n",
       "      <td>Los Angeles County</td>\n",
       "      <td>8</td>\n",
       "    </tr>\n",
       "    <tr>\n",
       "      <th>20886</th>\n",
       "      <td>3</td>\n",
       "      <td>2.0</td>\n",
       "      <td>0.185274</td>\n",
       "      <td>53596</td>\n",
       "      <td>2017-05-04</td>\n",
       "      <td>6037</td>\n",
       "      <td>Los Angeles County</td>\n",
       "      <td>5</td>\n",
       "    </tr>\n",
       "    <tr>\n",
       "      <th>42450</th>\n",
       "      <td>3</td>\n",
       "      <td>2.0</td>\n",
       "      <td>0.303130</td>\n",
       "      <td>818939</td>\n",
       "      <td>2017-08-02</td>\n",
       "      <td>6037</td>\n",
       "      <td>Los Angeles County</td>\n",
       "      <td>8</td>\n",
       "    </tr>\n",
       "    <tr>\n",
       "      <th>19447</th>\n",
       "      <td>2</td>\n",
       "      <td>3.0</td>\n",
       "      <td>0.166646</td>\n",
       "      <td>134320</td>\n",
       "      <td>2017-04-14</td>\n",
       "      <td>6037</td>\n",
       "      <td>Los Angeles County</td>\n",
       "      <td>4</td>\n",
       "    </tr>\n",
       "    <tr>\n",
       "      <th>...</th>\n",
       "      <td>...</td>\n",
       "      <td>...</td>\n",
       "      <td>...</td>\n",
       "      <td>...</td>\n",
       "      <td>...</td>\n",
       "      <td>...</td>\n",
       "      <td>...</td>\n",
       "      <td>...</td>\n",
       "    </tr>\n",
       "    <tr>\n",
       "      <th>7754</th>\n",
       "      <td>3</td>\n",
       "      <td>3.0</td>\n",
       "      <td>0.250919</td>\n",
       "      <td>404651</td>\n",
       "      <td>2017-02-03</td>\n",
       "      <td>6059</td>\n",
       "      <td>Orange County</td>\n",
       "      <td>2</td>\n",
       "    </tr>\n",
       "    <tr>\n",
       "      <th>47482</th>\n",
       "      <td>6</td>\n",
       "      <td>4.0</td>\n",
       "      <td>0.367634</td>\n",
       "      <td>1043534</td>\n",
       "      <td>2017-09-05</td>\n",
       "      <td>6059</td>\n",
       "      <td>Orange County</td>\n",
       "      <td>9</td>\n",
       "    </tr>\n",
       "    <tr>\n",
       "      <th>4334</th>\n",
       "      <td>4</td>\n",
       "      <td>2.0</td>\n",
       "      <td>0.277531</td>\n",
       "      <td>477004</td>\n",
       "      <td>2017-01-19</td>\n",
       "      <td>6037</td>\n",
       "      <td>Los Angeles County</td>\n",
       "      <td>1</td>\n",
       "    </tr>\n",
       "    <tr>\n",
       "      <th>14980</th>\n",
       "      <td>4</td>\n",
       "      <td>2.0</td>\n",
       "      <td>0.104930</td>\n",
       "      <td>270562</td>\n",
       "      <td>2017-04-06</td>\n",
       "      <td>6037</td>\n",
       "      <td>Los Angeles County</td>\n",
       "      <td>4</td>\n",
       "    </tr>\n",
       "    <tr>\n",
       "      <th>41872</th>\n",
       "      <td>4</td>\n",
       "      <td>2.5</td>\n",
       "      <td>0.196806</td>\n",
       "      <td>262407</td>\n",
       "      <td>2017-08-07</td>\n",
       "      <td>6111</td>\n",
       "      <td>Ventura County</td>\n",
       "      <td>8</td>\n",
       "    </tr>\n",
       "  </tbody>\n",
       "</table>\n",
       "<p>28137 rows × 8 columns</p>\n",
       "</div>"
      ],
      "text/plain": [
       "       bedroomcnt  bathroomcnt  calculatedfinishedsquarefeet  \\\n",
       "49714           2          1.0                      0.076543   \n",
       "48758           2          1.0                      0.047142   \n",
       "20886           3          2.0                      0.185274   \n",
       "42450           3          2.0                      0.303130   \n",
       "19447           2          3.0                      0.166646   \n",
       "...           ...          ...                           ...   \n",
       "7754            3          3.0                      0.250919   \n",
       "47482           6          4.0                      0.367634   \n",
       "4334            4          2.0                      0.277531   \n",
       "14980           4          2.0                      0.104930   \n",
       "41872           4          2.5                      0.196806   \n",
       "\n",
       "       taxvaluedollarcnt transactiondate  fips              county  month  \n",
       "49714             200164      2017-08-25  6037  Los Angeles County      8  \n",
       "48758             241199      2017-08-30  6037  Los Angeles County      8  \n",
       "20886              53596      2017-05-04  6037  Los Angeles County      5  \n",
       "42450             818939      2017-08-02  6037  Los Angeles County      8  \n",
       "19447             134320      2017-04-14  6037  Los Angeles County      4  \n",
       "...                  ...             ...   ...                 ...    ...  \n",
       "7754              404651      2017-02-03  6059       Orange County      2  \n",
       "47482            1043534      2017-09-05  6059       Orange County      9  \n",
       "4334              477004      2017-01-19  6037  Los Angeles County      1  \n",
       "14980             270562      2017-04-06  6037  Los Angeles County      4  \n",
       "41872             262407      2017-08-07  6111      Ventura County      8  \n",
       "\n",
       "[28137 rows x 8 columns]"
      ]
     },
     "execution_count": 74,
     "metadata": {},
     "output_type": "execute_result"
    }
   ],
   "source": [
    "train_scaled"
   ]
  },
  {
   "cell_type": "markdown",
   "id": "646a634c",
   "metadata": {},
   "source": [
    "### >>Above has been added to prepare.py file! <<"
   ]
  },
  {
   "cell_type": "markdown",
   "id": "0d89a87d",
   "metadata": {},
   "source": [
    "___________________________________________________________________________________________________________________"
   ]
  },
  {
   "cell_type": "markdown",
   "id": "44dda078",
   "metadata": {},
   "source": [
    "## Evaluating Regression Models:\n",
    "\n",
    "Now I will be evaluating different Regression models performances (or in other terms, measuring how well a model can predict property value based on the dataset features. \n",
    "\n",
    "In this section I will evaluate how well each model performs by firt establishing a baseline (Zillow's current property value predictor), I will then computing metrics and compare those metrics across multiple models (including the baseline)."
   ]
  },
  {
   "cell_type": "code",
   "execution_count": 75,
   "id": "a937a808",
   "metadata": {},
   "outputs": [],
   "source": [
    "#first I will drop the columns not needed (or scaled) to fit the calculatedfinishedsquarefeet onto a Linear regression model\n",
    "train_scaled.drop(columns = ['bedroomcnt', 'bathroomcnt', 'fips','month'], inplace=True)"
   ]
  },
  {
   "cell_type": "code",
   "execution_count": 76,
   "id": "64020712",
   "metadata": {},
   "outputs": [],
   "source": [
    "#creating a new df for evaluating models specifically:\n",
    "X_train = train_scaled[['calculatedfinishedsquarefeet']]\n",
    "y_train = train_scaled['taxvaluedollarcnt']\n",
    "\n",
    "X_validate = validate_scaled[['calculatedfinishedsquarefeet']]\n",
    "y_validate = validate_scaled['taxvaluedollarcnt']\n",
    "\n",
    "X_test = test_scaled[['calculatedfinishedsquarefeet']]\n",
    "y_test = test_scaled['taxvaluedollarcnt']"
   ]
  },
  {
   "cell_type": "code",
   "execution_count": 77,
   "id": "7a16230c",
   "metadata": {},
   "outputs": [
    {
     "data": {
      "text/html": [
       "<div>\n",
       "<style scoped>\n",
       "    .dataframe tbody tr th:only-of-type {\n",
       "        vertical-align: middle;\n",
       "    }\n",
       "\n",
       "    .dataframe tbody tr th {\n",
       "        vertical-align: top;\n",
       "    }\n",
       "\n",
       "    .dataframe thead th {\n",
       "        text-align: right;\n",
       "    }\n",
       "</style>\n",
       "<table border=\"1\" class=\"dataframe\">\n",
       "  <thead>\n",
       "    <tr style=\"text-align: right;\">\n",
       "      <th></th>\n",
       "      <th>calculatedfinishedsquarefeet</th>\n",
       "    </tr>\n",
       "  </thead>\n",
       "  <tbody>\n",
       "    <tr>\n",
       "      <th>49714</th>\n",
       "      <td>0.076543</td>\n",
       "    </tr>\n",
       "    <tr>\n",
       "      <th>48758</th>\n",
       "      <td>0.047142</td>\n",
       "    </tr>\n",
       "    <tr>\n",
       "      <th>20886</th>\n",
       "      <td>0.185274</td>\n",
       "    </tr>\n",
       "    <tr>\n",
       "      <th>42450</th>\n",
       "      <td>0.303130</td>\n",
       "    </tr>\n",
       "    <tr>\n",
       "      <th>19447</th>\n",
       "      <td>0.166646</td>\n",
       "    </tr>\n",
       "    <tr>\n",
       "      <th>...</th>\n",
       "      <td>...</td>\n",
       "    </tr>\n",
       "    <tr>\n",
       "      <th>7754</th>\n",
       "      <td>0.250919</td>\n",
       "    </tr>\n",
       "    <tr>\n",
       "      <th>47482</th>\n",
       "      <td>0.367634</td>\n",
       "    </tr>\n",
       "    <tr>\n",
       "      <th>4334</th>\n",
       "      <td>0.277531</td>\n",
       "    </tr>\n",
       "    <tr>\n",
       "      <th>14980</th>\n",
       "      <td>0.104930</td>\n",
       "    </tr>\n",
       "    <tr>\n",
       "      <th>41872</th>\n",
       "      <td>0.196806</td>\n",
       "    </tr>\n",
       "  </tbody>\n",
       "</table>\n",
       "<p>28137 rows × 1 columns</p>\n",
       "</div>"
      ],
      "text/plain": [
       "       calculatedfinishedsquarefeet\n",
       "49714                      0.076543\n",
       "48758                      0.047142\n",
       "20886                      0.185274\n",
       "42450                      0.303130\n",
       "19447                      0.166646\n",
       "...                             ...\n",
       "7754                       0.250919\n",
       "47482                      0.367634\n",
       "4334                       0.277531\n",
       "14980                      0.104930\n",
       "41872                      0.196806\n",
       "\n",
       "[28137 rows x 1 columns]"
      ]
     },
     "execution_count": 77,
     "metadata": {},
     "output_type": "execute_result"
    }
   ],
   "source": [
    "#taking a look at what we have here...\n",
    "X_train"
   ]
  },
  {
   "cell_type": "markdown",
   "id": "dd2d67d7",
   "metadata": {},
   "source": [
    "#### First model evaluation: Ordinary Least Squares:"
   ]
  },
  {
   "cell_type": "code",
   "execution_count": 78,
   "id": "819bb9cb",
   "metadata": {},
   "outputs": [],
   "source": [
    "# create the model object and fit the model to train_scaled data\n",
    "model = LinearRegression().fit(X_train, y_train)\n",
    "predictions = model.predict(X_train)"
   ]
  },
  {
   "cell_type": "code",
   "execution_count": 79,
   "id": "e3ccd325",
   "metadata": {},
   "outputs": [
    {
     "data": {
      "text/plain": [
       "466402.11003305257"
      ]
     },
     "execution_count": 79,
     "metadata": {},
     "output_type": "execute_result"
    }
   ],
   "source": [
    "#creating the zillow predictor baseline aka mean, of taxvaluedollarcnt(y)\n",
    "baseline = train_scaled.taxvaluedollarcnt.mean()\n",
    "baseline"
   ]
  },
  {
   "cell_type": "code",
   "execution_count": 80,
   "id": "3f0318e1",
   "metadata": {},
   "outputs": [],
   "source": [
    "train_scaled['yhat'] = predictions"
   ]
  },
  {
   "cell_type": "code",
   "execution_count": 81,
   "id": "5cdfe1fb",
   "metadata": {},
   "outputs": [
    {
     "data": {
      "text/html": [
       "<div>\n",
       "<style scoped>\n",
       "    .dataframe tbody tr th:only-of-type {\n",
       "        vertical-align: middle;\n",
       "    }\n",
       "\n",
       "    .dataframe tbody tr th {\n",
       "        vertical-align: top;\n",
       "    }\n",
       "\n",
       "    .dataframe thead th {\n",
       "        text-align: right;\n",
       "    }\n",
       "</style>\n",
       "<table border=\"1\" class=\"dataframe\">\n",
       "  <thead>\n",
       "    <tr style=\"text-align: right;\">\n",
       "      <th></th>\n",
       "      <th>calculatedfinishedsquarefeet</th>\n",
       "      <th>taxvaluedollarcnt</th>\n",
       "      <th>transactiondate</th>\n",
       "      <th>county</th>\n",
       "      <th>yhat</th>\n",
       "      <th>baseline</th>\n",
       "    </tr>\n",
       "  </thead>\n",
       "  <tbody>\n",
       "    <tr>\n",
       "      <th>49714</th>\n",
       "      <td>0.076543</td>\n",
       "      <td>200164</td>\n",
       "      <td>2017-08-25</td>\n",
       "      <td>Los Angeles County</td>\n",
       "      <td>225035.527768</td>\n",
       "      <td>466402.110033</td>\n",
       "    </tr>\n",
       "    <tr>\n",
       "      <th>48758</th>\n",
       "      <td>0.047142</td>\n",
       "      <td>241199</td>\n",
       "      <td>2017-08-30</td>\n",
       "      <td>Los Angeles County</td>\n",
       "      <td>163381.304123</td>\n",
       "      <td>466402.110033</td>\n",
       "    </tr>\n",
       "    <tr>\n",
       "      <th>20886</th>\n",
       "      <td>0.185274</td>\n",
       "      <td>53596</td>\n",
       "      <td>2017-05-04</td>\n",
       "      <td>Los Angeles County</td>\n",
       "      <td>453049.854869</td>\n",
       "      <td>466402.110033</td>\n",
       "    </tr>\n",
       "    <tr>\n",
       "      <th>42450</th>\n",
       "      <td>0.303130</td>\n",
       "      <td>818939</td>\n",
       "      <td>2017-08-02</td>\n",
       "      <td>Los Angeles County</td>\n",
       "      <td>700198.251378</td>\n",
       "      <td>466402.110033</td>\n",
       "    </tr>\n",
       "    <tr>\n",
       "      <th>19447</th>\n",
       "      <td>0.166646</td>\n",
       "      <td>134320</td>\n",
       "      <td>2017-04-14</td>\n",
       "      <td>Los Angeles County</td>\n",
       "      <td>413984.463163</td>\n",
       "      <td>466402.110033</td>\n",
       "    </tr>\n",
       "  </tbody>\n",
       "</table>\n",
       "</div>"
      ],
      "text/plain": [
       "       calculatedfinishedsquarefeet  taxvaluedollarcnt transactiondate  \\\n",
       "49714                      0.076543             200164      2017-08-25   \n",
       "48758                      0.047142             241199      2017-08-30   \n",
       "20886                      0.185274              53596      2017-05-04   \n",
       "42450                      0.303130             818939      2017-08-02   \n",
       "19447                      0.166646             134320      2017-04-14   \n",
       "\n",
       "                   county           yhat       baseline  \n",
       "49714  Los Angeles County  225035.527768  466402.110033  \n",
       "48758  Los Angeles County  163381.304123  466402.110033  \n",
       "20886  Los Angeles County  453049.854869  466402.110033  \n",
       "42450  Los Angeles County  700198.251378  466402.110033  \n",
       "19447  Los Angeles County  413984.463163  466402.110033  "
      ]
     },
     "execution_count": 81,
     "metadata": {},
     "output_type": "execute_result"
    }
   ],
   "source": [
    "#let's add the baseline to the the dataframe\n",
    "train_scaled['baseline'] = train_scaled.taxvaluedollarcnt.mean()\n",
    "train_scaled.head()"
   ]
  },
  {
   "cell_type": "markdown",
   "id": "301d4e70",
   "metadata": {},
   "source": [
    "- Now, I want to plot the residuals for the OLS model I made:"
   ]
  },
  {
   "cell_type": "code",
   "execution_count": 82,
   "id": "b86f2a69",
   "metadata": {},
   "outputs": [
    {
     "data": {
      "text/html": [
       "<div>\n",
       "<style scoped>\n",
       "    .dataframe tbody tr th:only-of-type {\n",
       "        vertical-align: middle;\n",
       "    }\n",
       "\n",
       "    .dataframe tbody tr th {\n",
       "        vertical-align: top;\n",
       "    }\n",
       "\n",
       "    .dataframe thead th {\n",
       "        text-align: right;\n",
       "    }\n",
       "</style>\n",
       "<table border=\"1\" class=\"dataframe\">\n",
       "  <thead>\n",
       "    <tr style=\"text-align: right;\">\n",
       "      <th></th>\n",
       "      <th>calculatedfinishedsquarefeet</th>\n",
       "      <th>taxvaluedollarcnt</th>\n",
       "      <th>transactiondate</th>\n",
       "      <th>county</th>\n",
       "      <th>yhat</th>\n",
       "      <th>baseline</th>\n",
       "      <th>residual</th>\n",
       "      <th>baseline_residual</th>\n",
       "    </tr>\n",
       "  </thead>\n",
       "  <tbody>\n",
       "    <tr>\n",
       "      <th>49714</th>\n",
       "      <td>0.076543</td>\n",
       "      <td>200164</td>\n",
       "      <td>2017-08-25</td>\n",
       "      <td>Los Angeles County</td>\n",
       "      <td>225035.527768</td>\n",
       "      <td>466402.110033</td>\n",
       "      <td>-24871.527768</td>\n",
       "      <td>-266238.110033</td>\n",
       "    </tr>\n",
       "    <tr>\n",
       "      <th>48758</th>\n",
       "      <td>0.047142</td>\n",
       "      <td>241199</td>\n",
       "      <td>2017-08-30</td>\n",
       "      <td>Los Angeles County</td>\n",
       "      <td>163381.304123</td>\n",
       "      <td>466402.110033</td>\n",
       "      <td>77817.695877</td>\n",
       "      <td>-225203.110033</td>\n",
       "    </tr>\n",
       "    <tr>\n",
       "      <th>20886</th>\n",
       "      <td>0.185274</td>\n",
       "      <td>53596</td>\n",
       "      <td>2017-05-04</td>\n",
       "      <td>Los Angeles County</td>\n",
       "      <td>453049.854869</td>\n",
       "      <td>466402.110033</td>\n",
       "      <td>-399453.854869</td>\n",
       "      <td>-412806.110033</td>\n",
       "    </tr>\n",
       "    <tr>\n",
       "      <th>42450</th>\n",
       "      <td>0.303130</td>\n",
       "      <td>818939</td>\n",
       "      <td>2017-08-02</td>\n",
       "      <td>Los Angeles County</td>\n",
       "      <td>700198.251378</td>\n",
       "      <td>466402.110033</td>\n",
       "      <td>118740.748622</td>\n",
       "      <td>352536.889967</td>\n",
       "    </tr>\n",
       "    <tr>\n",
       "      <th>19447</th>\n",
       "      <td>0.166646</td>\n",
       "      <td>134320</td>\n",
       "      <td>2017-04-14</td>\n",
       "      <td>Los Angeles County</td>\n",
       "      <td>413984.463163</td>\n",
       "      <td>466402.110033</td>\n",
       "      <td>-279664.463163</td>\n",
       "      <td>-332082.110033</td>\n",
       "    </tr>\n",
       "  </tbody>\n",
       "</table>\n",
       "</div>"
      ],
      "text/plain": [
       "       calculatedfinishedsquarefeet  taxvaluedollarcnt transactiondate  \\\n",
       "49714                      0.076543             200164      2017-08-25   \n",
       "48758                      0.047142             241199      2017-08-30   \n",
       "20886                      0.185274              53596      2017-05-04   \n",
       "42450                      0.303130             818939      2017-08-02   \n",
       "19447                      0.166646             134320      2017-04-14   \n",
       "\n",
       "                   county           yhat       baseline       residual  \\\n",
       "49714  Los Angeles County  225035.527768  466402.110033  -24871.527768   \n",
       "48758  Los Angeles County  163381.304123  466402.110033   77817.695877   \n",
       "20886  Los Angeles County  453049.854869  466402.110033 -399453.854869   \n",
       "42450  Los Angeles County  700198.251378  466402.110033  118740.748622   \n",
       "19447  Los Angeles County  413984.463163  466402.110033 -279664.463163   \n",
       "\n",
       "       baseline_residual  \n",
       "49714     -266238.110033  \n",
       "48758     -225203.110033  \n",
       "20886     -412806.110033  \n",
       "42450      352536.889967  \n",
       "19447     -332082.110033  "
      ]
     },
     "execution_count": 82,
     "metadata": {},
     "output_type": "execute_result"
    }
   ],
   "source": [
    "# first I need to create residuals (ie residuals = actual - predicted)\n",
    "train_scaled['residual'] = train_scaled.taxvaluedollarcnt - train_scaled.yhat\n",
    "train_scaled['baseline_residual'] = train_scaled.taxvaluedollarcnt - train_scaled.baseline\n",
    "train_scaled.head()"
   ]
  },
  {
   "cell_type": "code",
   "execution_count": 83,
   "id": "d129cc3b",
   "metadata": {},
   "outputs": [
    {
     "data": {
      "image/png": "[encoded data removed]",
      "text/plain": [
       "<Figure size 792x360 with 2 Axes>"
      ]
     },
     "metadata": {},
     "output_type": "display_data"
    }
   ],
   "source": [
    "#Let's plot!\n",
    "#Here are the residual plots (calculated finished square feet vs residual)\n",
    "\n",
    "###METHODS USED:\n",
    "\n",
    "plt.figure(figsize = (11,5))\n",
    "\n",
    "plt.subplot(121)\n",
    "plt.scatter(train_scaled.calculatedfinishedsquarefeet, train_scaled.baseline_residual)\n",
    "plt.axhline(y = 0, ls = ':', color ='orange')\n",
    "plt.xlabel('Finished Squareft')\n",
    "plt.ylabel('Residual of Property Value')\n",
    "plt.title('Baseline Residuals (Property Value)')\n",
    "\n",
    "plt.subplot(122)\n",
    "plt.scatter(train_scaled.calculatedfinishedsquarefeet, train_scaled.residual)\n",
    "plt.axhline(y = 0, ls = ':', color ='orange')\n",
    "plt.xlabel('Finished Squareft')\n",
    "plt.ylabel('Residual of Property Value')\n",
    "plt.title('OLS model residuals (Property Value)');"
   ]
  },
  {
   "cell_type": "markdown",
   "id": "5cc11614",
   "metadata": {},
   "source": [
    "#### Evaluate Statistically:\n",
    "Next, let's look at the stats side of this model. I can evaluate statistically with:\n",
    "- Calculating the sum of squared errors, \n",
    "- explained sum of squares, \n",
    "- total sum of squares, \n",
    "- mean squared error, \n",
    "- and root mean squared error for your model.\n",
    "\n",
    "Then, I will calculate the sum of squared errors, mean squared error, and root mean squared error for the baseline model for comparison sake (i.e. a model that always predicts the average taxvaluedollarcnt amount).\n",
    "\n"
   ]
  },
  {
   "cell_type": "code",
   "execution_count": 84,
   "id": "03222838",
   "metadata": {},
   "outputs": [
    {
     "data": {
      "text/html": [
       "<div>\n",
       "<style scoped>\n",
       "    .dataframe tbody tr th:only-of-type {\n",
       "        vertical-align: middle;\n",
       "    }\n",
       "\n",
       "    .dataframe tbody tr th {\n",
       "        vertical-align: top;\n",
       "    }\n",
       "\n",
       "    .dataframe thead th {\n",
       "        text-align: right;\n",
       "    }\n",
       "</style>\n",
       "<table border=\"1\" class=\"dataframe\">\n",
       "  <thead>\n",
       "    <tr style=\"text-align: right;\">\n",
       "      <th></th>\n",
       "      <th>calculatedfinishedsquarefeet</th>\n",
       "      <th>taxvaluedollarcnt</th>\n",
       "      <th>transactiondate</th>\n",
       "      <th>county</th>\n",
       "      <th>yhat</th>\n",
       "      <th>baseline</th>\n",
       "      <th>residual</th>\n",
       "      <th>baseline_residual</th>\n",
       "      <th>residual^2</th>\n",
       "      <th>baseline_residual^2</th>\n",
       "    </tr>\n",
       "  </thead>\n",
       "  <tbody>\n",
       "    <tr>\n",
       "      <th>49714</th>\n",
       "      <td>0.076543</td>\n",
       "      <td>200164</td>\n",
       "      <td>2017-08-25</td>\n",
       "      <td>Los Angeles County</td>\n",
       "      <td>225035.527768</td>\n",
       "      <td>466402.110033</td>\n",
       "      <td>-24871.527768</td>\n",
       "      <td>-266238.110033</td>\n",
       "      <td>6.185929e+08</td>\n",
       "      <td>7.088273e+10</td>\n",
       "    </tr>\n",
       "    <tr>\n",
       "      <th>48758</th>\n",
       "      <td>0.047142</td>\n",
       "      <td>241199</td>\n",
       "      <td>2017-08-30</td>\n",
       "      <td>Los Angeles County</td>\n",
       "      <td>163381.304123</td>\n",
       "      <td>466402.110033</td>\n",
       "      <td>77817.695877</td>\n",
       "      <td>-225203.110033</td>\n",
       "      <td>6.055594e+09</td>\n",
       "      <td>5.071644e+10</td>\n",
       "    </tr>\n",
       "    <tr>\n",
       "      <th>20886</th>\n",
       "      <td>0.185274</td>\n",
       "      <td>53596</td>\n",
       "      <td>2017-05-04</td>\n",
       "      <td>Los Angeles County</td>\n",
       "      <td>453049.854869</td>\n",
       "      <td>466402.110033</td>\n",
       "      <td>-399453.854869</td>\n",
       "      <td>-412806.110033</td>\n",
       "      <td>1.595634e+11</td>\n",
       "      <td>1.704089e+11</td>\n",
       "    </tr>\n",
       "    <tr>\n",
       "      <th>42450</th>\n",
       "      <td>0.303130</td>\n",
       "      <td>818939</td>\n",
       "      <td>2017-08-02</td>\n",
       "      <td>Los Angeles County</td>\n",
       "      <td>700198.251378</td>\n",
       "      <td>466402.110033</td>\n",
       "      <td>118740.748622</td>\n",
       "      <td>352536.889967</td>\n",
       "      <td>1.409937e+10</td>\n",
       "      <td>1.242823e+11</td>\n",
       "    </tr>\n",
       "    <tr>\n",
       "      <th>19447</th>\n",
       "      <td>0.166646</td>\n",
       "      <td>134320</td>\n",
       "      <td>2017-04-14</td>\n",
       "      <td>Los Angeles County</td>\n",
       "      <td>413984.463163</td>\n",
       "      <td>466402.110033</td>\n",
       "      <td>-279664.463163</td>\n",
       "      <td>-332082.110033</td>\n",
       "      <td>7.821221e+10</td>\n",
       "      <td>1.102785e+11</td>\n",
       "    </tr>\n",
       "  </tbody>\n",
       "</table>\n",
       "</div>"
      ],
      "text/plain": [
       "       calculatedfinishedsquarefeet  taxvaluedollarcnt transactiondate  \\\n",
       "49714                      0.076543             200164      2017-08-25   \n",
       "48758                      0.047142             241199      2017-08-30   \n",
       "20886                      0.185274              53596      2017-05-04   \n",
       "42450                      0.303130             818939      2017-08-02   \n",
       "19447                      0.166646             134320      2017-04-14   \n",
       "\n",
       "                   county           yhat       baseline       residual  \\\n",
       "49714  Los Angeles County  225035.527768  466402.110033  -24871.527768   \n",
       "48758  Los Angeles County  163381.304123  466402.110033   77817.695877   \n",
       "20886  Los Angeles County  453049.854869  466402.110033 -399453.854869   \n",
       "42450  Los Angeles County  700198.251378  466402.110033  118740.748622   \n",
       "19447  Los Angeles County  413984.463163  466402.110033 -279664.463163   \n",
       "\n",
       "       baseline_residual    residual^2  baseline_residual^2  \n",
       "49714     -266238.110033  6.185929e+08         7.088273e+10  \n",
       "48758     -225203.110033  6.055594e+09         5.071644e+10  \n",
       "20886     -412806.110033  1.595634e+11         1.704089e+11  \n",
       "42450      352536.889967  1.409937e+10         1.242823e+11  \n",
       "19447     -332082.110033  7.821221e+10         1.102785e+11  "
      ]
     },
     "execution_count": 84,
     "metadata": {},
     "output_type": "execute_result"
    }
   ],
   "source": [
    "# I first will calculate the square of residuals (makes all the residuals positive)\n",
    "\n",
    "train_scaled['residual^2'] = train_scaled.residual**2\n",
    "train_scaled['baseline_residual^2'] = train_scaled.baseline_residual**2\n",
    "\n",
    "train_scaled.head()"
   ]
  },
  {
   "cell_type": "code",
   "execution_count": 85,
   "id": "5388e3c4",
   "metadata": {},
   "outputs": [
    {
     "name": "stdout",
     "output_type": "stream",
     "text": [
      "SSE = 2802991495147791.0\n",
      "SSE Baseline = 4223668589927059.0\n",
      "Model beats baseline\n"
     ]
    }
   ],
   "source": [
    "#SUM OF SQUARED ERRORS:\n",
    "SSE = train_scaled['residual^2'].sum()\n",
    "SSE_baseline = train_scaled['baseline_residual^2'].sum()\n",
    "\n",
    "print('SSE =', \"{:.1f}\".format(SSE))\n",
    "print(\"SSE Baseline =\", \"{:.1f}\".format(SSE_baseline))\n",
    "if SSE < SSE_baseline:\n",
    "    print ('Model beats baseline')\n",
    "else:\n",
    "    print ('Baseline beats model')"
   ]
  },
  {
   "cell_type": "code",
   "execution_count": 86,
   "id": "01f252cf",
   "metadata": {},
   "outputs": [
    {
     "name": "stdout",
     "output_type": "stream",
     "text": [
      "MSE =  99619415543.5\n",
      "MSE baseline =  150110835907.4\n",
      "Model beats baseline\n"
     ]
    }
   ],
   "source": [
    "#MEAN OF SQUARED ERROR: (error at each observation level)\n",
    "MSE = SSE/len(train_scaled)\n",
    "MSE_baseline = SSE_baseline/len(train_scaled)\n",
    "\n",
    "print(\"MSE = \", \"{:.1f}\".format(MSE))\n",
    "print(\"MSE baseline = \", \"{:.1f}\".format(MSE_baseline))\n",
    "if MSE < MSE_baseline:\n",
    "    print ('Model beats baseline')\n",
    "else:\n",
    "    print ('Baseline beats model')"
   ]
  },
  {
   "cell_type": "code",
   "execution_count": 87,
   "id": "d13e1097",
   "metadata": {},
   "outputs": [
    {
     "name": "stdout",
     "output_type": "stream",
     "text": [
      "TSS =  2802991495147791.0\n",
      "TSS_baseline =  4223668589927059.0\n",
      "Model beats baseline\n"
     ]
    }
   ],
   "source": [
    "#TOTAL SUM OF SQUARES\n",
    "TSS = SSE = train_scaled['residual^2'].sum()\n",
    "TSS_baseline = SSE_baseline = train_scaled['baseline_residual^2'].sum()\n",
    "print(\"TSS = \",\"{:.1f}\".format(TSS)) \n",
    "print(\"TSS_baseline = \",\"{:.1f}\".format(TSS_baseline))\n",
    "if TSS < TSS_baseline:\n",
    "    print ('Model beats baseline')\n",
    "else:\n",
    "    print ('Baseline beats model')"
   ]
  },
  {
   "cell_type": "code",
   "execution_count": 88,
   "id": "a285ba44",
   "metadata": {},
   "outputs": [
    {
     "name": "stdout",
     "output_type": "stream",
     "text": [
      "ESS =  0.0\n",
      "ESS_baseline =  1420677094312866.0\n"
     ]
    }
   ],
   "source": [
    "#EXPLAINED SUM of SQUARES\n",
    "ESS = TSS - SSE\n",
    "ESS_baseline = TSS_baseline - SSE-baseline\n",
    "print(\"ESS = \",\"{:.1f}\".format(ESS))\n",
    "print(\"ESS_baseline = \",\"{:.1f}\".format(ESS_baseline))"
   ]
  },
  {
   "cell_type": "code",
   "execution_count": 89,
   "id": "4ba80f35",
   "metadata": {},
   "outputs": [
    {
     "name": "stdout",
     "output_type": "stream",
     "text": [
      "RMSE =  315625.4\n",
      "RMSE baseline =  387441.4\n"
     ]
    }
   ],
   "source": [
    "#ROOT MEAN SQUARED ERROR\n",
    "RMSE = sqrt(MSE)\n",
    "RMSE_baseline =  sqrt(MSE_baseline)\n",
    "\n",
    "\n",
    "print(\"RMSE = \", \"{:.1f}\".format(RMSE))\n",
    "print(\"RMSE baseline = \", \"{:.1f}\".format(RMSE_baseline))\n"
   ]
  },
  {
   "cell_type": "code",
   "execution_count": 90,
   "id": "012fe524",
   "metadata": {},
   "outputs": [
    {
     "name": "stdout",
     "output_type": "stream",
     "text": [
      "  metric   model_error\n",
      "0    SSE  2.802991e+15\n",
      "1    MSE  9.961942e+10\n",
      "2   RMSE  3.156254e+05\n",
      "          metric   model_error\n",
      "0   SSE_baseline  4.223669e+15\n",
      "1   MSE_baseline  1.501108e+11\n",
      "2  RMSE_baseline  3.874414e+05\n"
     ]
    }
   ],
   "source": [
    "ols_eval = pd.DataFrame(np.array(['SSE','MSE','RMSE']), columns=['metric'])\n",
    "ols_baseline_eval = pd.DataFrame(np.array(['SSE_baseline','MSE_baseline','RMSE_baseline']), columns=['metric'])\n",
    "\n",
    "ols_eval['model_error'] = np.array([SSE, MSE, RMSE])\n",
    "ols_baseline_eval['model_error'] = np.array([SSE_baseline, MSE_baseline, RMSE_baseline])\n",
    "\n",
    "print(ols_eval)\n",
    "print(ols_baseline_eval)\n"
   ]
  },
  {
   "cell_type": "code",
   "execution_count": 91,
   "id": "4495e30d",
   "metadata": {},
   "outputs": [
    {
     "data": {
      "text/html": [
       "<div>\n",
       "<style scoped>\n",
       "    .dataframe tbody tr th:only-of-type {\n",
       "        vertical-align: middle;\n",
       "    }\n",
       "\n",
       "    .dataframe tbody tr th {\n",
       "        vertical-align: top;\n",
       "    }\n",
       "\n",
       "    .dataframe thead th {\n",
       "        text-align: right;\n",
       "    }\n",
       "</style>\n",
       "<table border=\"1\" class=\"dataframe\">\n",
       "  <thead>\n",
       "    <tr style=\"text-align: right;\">\n",
       "      <th></th>\n",
       "      <th>metric</th>\n",
       "      <th>model_error</th>\n",
       "      <th>error_delta</th>\n",
       "    </tr>\n",
       "  </thead>\n",
       "  <tbody>\n",
       "    <tr>\n",
       "      <th>0</th>\n",
       "      <td>SSE</td>\n",
       "      <td>2.802991e+15</td>\n",
       "      <td>-1.420677e+15</td>\n",
       "    </tr>\n",
       "    <tr>\n",
       "      <th>1</th>\n",
       "      <td>MSE</td>\n",
       "      <td>9.961942e+10</td>\n",
       "      <td>-5.049142e+10</td>\n",
       "    </tr>\n",
       "    <tr>\n",
       "      <th>2</th>\n",
       "      <td>RMSE</td>\n",
       "      <td>3.156254e+05</td>\n",
       "      <td>-7.181596e+04</td>\n",
       "    </tr>\n",
       "  </tbody>\n",
       "</table>\n",
       "</div>"
      ],
      "text/plain": [
       "  metric   model_error   error_delta\n",
       "0    SSE  2.802991e+15 -1.420677e+15\n",
       "1    MSE  9.961942e+10 -5.049142e+10\n",
       "2   RMSE  3.156254e+05 -7.181596e+04"
      ]
     },
     "execution_count": 91,
     "metadata": {},
     "output_type": "execute_result"
    }
   ],
   "source": [
    "ols_eval['error_delta'] = ols_eval.model_error - ols_baseline_eval.model_error\n",
    "ols_eval\n"
   ]
  },
  {
   "cell_type": "code",
   "execution_count": 92,
   "id": "71b3372a",
   "metadata": {},
   "outputs": [
    {
     "data": {
      "text/plain": [
       "Text(103, 90, '')"
      ]
     },
     "execution_count": 92,
     "metadata": {},
     "output_type": "execute_result"
    },
    {
     "data": {
      "image/png": "[encoded data removed]",
      "text/plain": [
       "<Figure size 576x360 with 1 Axes>"
      ]
     },
     "metadata": {},
     "output_type": "display_data"
    }
   ],
   "source": [
    "sample = train_scaled.sample(50)\n",
    "baseline = sample.baseline\n",
    "yhat = sample.yhat\n",
    "x = sample.calculatedfinishedsquarefeet\n",
    "y = sample.taxvaluedollarcnt\n",
    "\n",
    "\n",
    "plt.figure(figsize=(8, 5))\n",
    "## plot data points, regression line and baseline\n",
    "    # plot the data points \n",
    "plt.scatter(x, y, color='dimgray', s=40)\n",
    "\n",
    "#### plot the regression line\n",
    "#obtain m (slope) and b(intercept) of linear regression line\n",
    "m, b = np.polyfit(x, y, 1)\n",
    "#add linear regression line to scatterplot \n",
    "plt.plot(x, m*x+b)\n",
    "\n",
    "# add baseline through annotation\n",
    "# for each x apply y to make line across chart\n",
    "plt.axhline(train.taxvaluedollarcnt.mean(), ls = ':')\n",
    "#### set and plot title, subtitle, and axis labels\n",
    "# set titles\n",
    "title_string = r'Difference in Error'\n",
    "subtitle_string = \"Baseline vs. Regression Line\"\n",
    "\n",
    "    # add titles\n",
    "plt.title(subtitle_string, fontsize=12, color='black')\n",
    "plt.suptitle(title_string, y=1, fontsize=14, color='black')\n",
    "    \n",
    "    # add axes labels\n",
    "plt.ylabel('Property value')\n",
    "plt.xlabel('Finished Squarefeet')\n",
    "\n",
    "# annotate some of the error lines with pointers\n",
    "    # add pointer: the first data point to the regression line\n",
    "plt.annotate('.', xy=(70.25, 70), xytext=(73, 70), xycoords='data', textcoords='data', arrowprops={'arrowstyle': 'fancy', 'color':'darkseagreen', 'linewidth': 1})\n",
    "\n",
    "    # add pointer: the last data point to the regression line\n",
    "plt.annotate('', xy=(100.25, 97), xytext=(103, 97), xycoords='data', textcoords='data', arrowprops={'arrowstyle': 'fancy', 'color':'darkseagreen', 'linewidth': 1})\n",
    "\n",
    "    # add pointer: the last data point to the baseline \n",
    "plt.annotate('', xy=(100.25, 90), xytext=(103, 90), xycoords='data', textcoords='data', arrowprops={'arrowstyle': 'fancy', 'color':'goldenrod', 'linewidth': 1})\n",
    "\n",
    "    ## ----------------------------------------\n",
    "    ## add text to the annotatations\n",
    "    # the error of the first data point to the regression line\n",
    "#plt.text(73, 70, 4.1, ha='left', va='center', color='black')\n",
    "\n",
    "    # the error of the last data point to the regression line\n",
    "#plt.text(103, 96, 1.6, ha='left', va='center', color='black')\n",
    "\n",
    "    # the error of the last data point to the baseline\n",
    "#plt.text(103, 90, -12.7, ha='left', va='center', color='black')\n"
   ]
  },
  {
   "cell_type": "markdown",
   "id": "7e27ece6",
   "metadata": {},
   "source": [
    "Last, I want to look at the dispersion of errors by creating an Explained Variance Score:"
   ]
  },
  {
   "cell_type": "code",
   "execution_count": 93,
   "id": "b40ef123",
   "metadata": {},
   "outputs": [
    {
     "name": "stdout",
     "output_type": "stream",
     "text": [
      "Explained Variance =  0.336\n"
     ]
    }
   ],
   "source": [
    "#creating an explained variance score to determine the dipersion of errors in the data set\n",
    "## (aka, how much of the data the model can accurately predict...)\n",
    "evs = explained_variance_score(train_scaled.taxvaluedollarcnt, train_scaled.yhat)\n",
    "print('Explained Variance = ', round(evs,3))\n"
   ]
  },
  {
   "cell_type": "code",
   "execution_count": 94,
   "id": "1db20765",
   "metadata": {},
   "outputs": [
    {
     "name": "stdout",
     "output_type": "stream",
     "text": [
      "                            OLS Regression Results                            \n",
      "==============================================================================\n",
      "Dep. Variable:      taxvaluedollarcnt   R-squared:                       0.336\n",
      "Model:                            OLS   Adj. R-squared:                  0.336\n",
      "Method:                 Least Squares   F-statistic:                 1.426e+04\n",
      "Date:                Wed, 08 Jun 2022   Prob (F-statistic):               0.00\n",
      "Time:                        13:00:15   Log-Likelihood:            -3.9620e+05\n",
      "No. Observations:               28137   AIC:                         7.924e+05\n",
      "Df Residuals:                   28135   BIC:                         7.924e+05\n",
      "Df Model:                           1                                         \n",
      "Covariance Type:            nonrobust                                         \n",
      "================================================================================================\n",
      "                                   coef    std err          t      P>|t|      [0.025      0.975]\n",
      "------------------------------------------------------------------------------------------------\n",
      "const                        -3.115e+04   4571.753     -6.813      0.000   -4.01e+04   -2.22e+04\n",
      "calculatedfinishedsquarefeet   265.7510      2.225    119.415      0.000     261.389     270.113\n",
      "==============================================================================\n",
      "Omnibus:                     8918.948   Durbin-Watson:                   1.999\n",
      "Prob(Omnibus):                  0.000   Jarque-Bera (JB):            39161.795\n",
      "Skew:                           1.501   Prob(JB):                         0.00\n",
      "Kurtosis:                       7.939   Cond. No.                     4.99e+03\n",
      "==============================================================================\n",
      "\n",
      "Notes:\n",
      "[1] Standard Errors assume that the covariance matrix of the errors is correctly specified.\n",
      "[2] The condition number is large, 4.99e+03. This might indicate that there are\n",
      "strong multicollinearity or other numerical problems.\n"
     ]
    }
   ],
   "source": [
    "### Is this model better than the baseline model?\n",
    "X2 = sm.add_constant(train.calculatedfinishedsquarefeet)\n",
    "est = sm.OLS(train.taxvaluedollarcnt, X2)\n",
    "est2 = est.fit()\n",
    "print(est2.summary())"
   ]
  },
  {
   "cell_type": "markdown",
   "id": "dbfcff66",
   "metadata": {},
   "source": [
    "##### Takeaway here:\n",
    "\n",
    "- OLS Regression Model outperformed baseline model on test using RMSE as evaluation metric\n",
    "    - OLS Regression Model RMSE: 315625.4\n",
    "    - Baseline Regression Model: 387441.4\n",
    "\n",
    "- 34% of variance predictions is not great. Hoping to find something better.\n",
    "\n",
    "- <b>My assessment: \n",
    "    - The stats tests are showing that the OLS model is still doing better than baseline...even with too high/low predictors.\n",
    "    - More features predictors for this test would probably make the model even better."
   ]
  },
  {
   "cell_type": "markdown",
   "id": "4fcb165f",
   "metadata": {},
   "source": [
    "### >> ABOVE FUNCTIONS AND LINEAR REG. FUNCTIONS IN EVALUATE.py FILE <<"
   ]
  },
  {
   "cell_type": "markdown",
   "id": "47cfd2a0",
   "metadata": {},
   "source": [
    "### Feature Engineering:\n",
    "I'll be using SelectK Best feature engineering to find the best features that have the strongest relationship with the target variable (taxvaluedollarcnt)"
   ]
  },
  {
   "cell_type": "code",
   "execution_count": 95,
   "id": "41e64a60",
   "metadata": {},
   "outputs": [
    {
     "data": {
      "text/html": [
       "<div>\n",
       "<style scoped>\n",
       "    .dataframe tbody tr th:only-of-type {\n",
       "        vertical-align: middle;\n",
       "    }\n",
       "\n",
       "    .dataframe tbody tr th {\n",
       "        vertical-align: top;\n",
       "    }\n",
       "\n",
       "    .dataframe thead th {\n",
       "        text-align: right;\n",
       "    }\n",
       "</style>\n",
       "<table border=\"1\" class=\"dataframe\">\n",
       "  <thead>\n",
       "    <tr style=\"text-align: right;\">\n",
       "      <th></th>\n",
       "      <th>bedroomcnt</th>\n",
       "      <th>bathroomcnt</th>\n",
       "      <th>calculatedfinishedsquarefeet</th>\n",
       "      <th>taxvaluedollarcnt</th>\n",
       "      <th>transactiondate</th>\n",
       "      <th>fips</th>\n",
       "      <th>county</th>\n",
       "      <th>month</th>\n",
       "    </tr>\n",
       "  </thead>\n",
       "  <tbody>\n",
       "    <tr>\n",
       "      <th>49714</th>\n",
       "      <td>2</td>\n",
       "      <td>1.0</td>\n",
       "      <td>0.076543</td>\n",
       "      <td>200164</td>\n",
       "      <td>2017-08-25</td>\n",
       "      <td>6037</td>\n",
       "      <td>Los Angeles County</td>\n",
       "      <td>8</td>\n",
       "    </tr>\n",
       "    <tr>\n",
       "      <th>48758</th>\n",
       "      <td>2</td>\n",
       "      <td>1.0</td>\n",
       "      <td>0.047142</td>\n",
       "      <td>241199</td>\n",
       "      <td>2017-08-30</td>\n",
       "      <td>6037</td>\n",
       "      <td>Los Angeles County</td>\n",
       "      <td>8</td>\n",
       "    </tr>\n",
       "    <tr>\n",
       "      <th>20886</th>\n",
       "      <td>3</td>\n",
       "      <td>2.0</td>\n",
       "      <td>0.185274</td>\n",
       "      <td>53596</td>\n",
       "      <td>2017-05-04</td>\n",
       "      <td>6037</td>\n",
       "      <td>Los Angeles County</td>\n",
       "      <td>5</td>\n",
       "    </tr>\n",
       "    <tr>\n",
       "      <th>42450</th>\n",
       "      <td>3</td>\n",
       "      <td>2.0</td>\n",
       "      <td>0.303130</td>\n",
       "      <td>818939</td>\n",
       "      <td>2017-08-02</td>\n",
       "      <td>6037</td>\n",
       "      <td>Los Angeles County</td>\n",
       "      <td>8</td>\n",
       "    </tr>\n",
       "    <tr>\n",
       "      <th>19447</th>\n",
       "      <td>2</td>\n",
       "      <td>3.0</td>\n",
       "      <td>0.166646</td>\n",
       "      <td>134320</td>\n",
       "      <td>2017-04-14</td>\n",
       "      <td>6037</td>\n",
       "      <td>Los Angeles County</td>\n",
       "      <td>4</td>\n",
       "    </tr>\n",
       "    <tr>\n",
       "      <th>...</th>\n",
       "      <td>...</td>\n",
       "      <td>...</td>\n",
       "      <td>...</td>\n",
       "      <td>...</td>\n",
       "      <td>...</td>\n",
       "      <td>...</td>\n",
       "      <td>...</td>\n",
       "      <td>...</td>\n",
       "    </tr>\n",
       "    <tr>\n",
       "      <th>7754</th>\n",
       "      <td>3</td>\n",
       "      <td>3.0</td>\n",
       "      <td>0.250919</td>\n",
       "      <td>404651</td>\n",
       "      <td>2017-02-03</td>\n",
       "      <td>6059</td>\n",
       "      <td>Orange County</td>\n",
       "      <td>2</td>\n",
       "    </tr>\n",
       "    <tr>\n",
       "      <th>47482</th>\n",
       "      <td>6</td>\n",
       "      <td>4.0</td>\n",
       "      <td>0.367634</td>\n",
       "      <td>1043534</td>\n",
       "      <td>2017-09-05</td>\n",
       "      <td>6059</td>\n",
       "      <td>Orange County</td>\n",
       "      <td>9</td>\n",
       "    </tr>\n",
       "    <tr>\n",
       "      <th>4334</th>\n",
       "      <td>4</td>\n",
       "      <td>2.0</td>\n",
       "      <td>0.277531</td>\n",
       "      <td>477004</td>\n",
       "      <td>2017-01-19</td>\n",
       "      <td>6037</td>\n",
       "      <td>Los Angeles County</td>\n",
       "      <td>1</td>\n",
       "    </tr>\n",
       "    <tr>\n",
       "      <th>14980</th>\n",
       "      <td>4</td>\n",
       "      <td>2.0</td>\n",
       "      <td>0.104930</td>\n",
       "      <td>270562</td>\n",
       "      <td>2017-04-06</td>\n",
       "      <td>6037</td>\n",
       "      <td>Los Angeles County</td>\n",
       "      <td>4</td>\n",
       "    </tr>\n",
       "    <tr>\n",
       "      <th>41872</th>\n",
       "      <td>4</td>\n",
       "      <td>2.5</td>\n",
       "      <td>0.196806</td>\n",
       "      <td>262407</td>\n",
       "      <td>2017-08-07</td>\n",
       "      <td>6111</td>\n",
       "      <td>Ventura County</td>\n",
       "      <td>8</td>\n",
       "    </tr>\n",
       "  </tbody>\n",
       "</table>\n",
       "<p>28137 rows × 8 columns</p>\n",
       "</div>"
      ],
      "text/plain": [
       "       bedroomcnt  bathroomcnt  calculatedfinishedsquarefeet  \\\n",
       "49714           2          1.0                      0.076543   \n",
       "48758           2          1.0                      0.047142   \n",
       "20886           3          2.0                      0.185274   \n",
       "42450           3          2.0                      0.303130   \n",
       "19447           2          3.0                      0.166646   \n",
       "...           ...          ...                           ...   \n",
       "7754            3          3.0                      0.250919   \n",
       "47482           6          4.0                      0.367634   \n",
       "4334            4          2.0                      0.277531   \n",
       "14980           4          2.0                      0.104930   \n",
       "41872           4          2.5                      0.196806   \n",
       "\n",
       "       taxvaluedollarcnt transactiondate  fips              county  month  \n",
       "49714             200164      2017-08-25  6037  Los Angeles County      8  \n",
       "48758             241199      2017-08-30  6037  Los Angeles County      8  \n",
       "20886              53596      2017-05-04  6037  Los Angeles County      5  \n",
       "42450             818939      2017-08-02  6037  Los Angeles County      8  \n",
       "19447             134320      2017-04-14  6037  Los Angeles County      4  \n",
       "...                  ...             ...   ...                 ...    ...  \n",
       "7754              404651      2017-02-03  6059       Orange County      2  \n",
       "47482            1043534      2017-09-05  6059       Orange County      9  \n",
       "4334              477004      2017-01-19  6037  Los Angeles County      1  \n",
       "14980             270562      2017-04-06  6037  Los Angeles County      4  \n",
       "41872             262407      2017-08-07  6111      Ventura County      8  \n",
       "\n",
       "[28137 rows x 8 columns]"
      ]
     },
     "execution_count": 95,
     "metadata": {},
     "output_type": "execute_result"
    }
   ],
   "source": [
    "#first, I need to make a new X_train, y_train copy to bring in more features\n",
    "#looking back at train...\n",
    "train\n",
    "#making the new X_train, & y_train with scaled data\n",
    "\n",
    "scaler, train_scaled2, validate_scaled2, test_scaled2 = scale_data(train, validate, test, return_scaler=True)\n",
    "\n",
    "train_scaled2"
   ]
  },
  {
   "cell_type": "code",
   "execution_count": 96,
   "id": "b8b15144",
   "metadata": {},
   "outputs": [],
   "source": [
    "#creating a new df for to feature:\n",
    "X_train_scaled = train_scaled2[['bedroomcnt','calculatedfinishedsquarefeet','bathroomcnt','fips','month']]\n",
    "y_train = train_scaled2['taxvaluedollarcnt']\n",
    "\n",
    "X_validate_scaled = validate_scaled2[['calculatedfinishedsquarefeet','bedroomcnt','bathroomcnt','fips','month']]\n",
    "y_validate = validate_scaled2['taxvaluedollarcnt']\n",
    "\n",
    "X_test_scaled = test_scaled2[['calculatedfinishedsquarefeet','bedroomcnt','bathroomcnt','fips','month']]\n",
    "y_test = test_scaled2['taxvaluedollarcnt']\n"
   ]
  },
  {
   "cell_type": "code",
   "execution_count": 97,
   "id": "c2348d96",
   "metadata": {},
   "outputs": [
    {
     "data": {
      "text/plain": [
       "['bedroomcnt', 'calculatedfinishedsquarefeet', 'bathroomcnt']"
      ]
     },
     "execution_count": 97,
     "metadata": {},
     "output_type": "execute_result"
    }
   ],
   "source": [
    "##Using SelectKBest to find \n",
    "from sklearn.feature_selection import SelectKBest, f_regression\n",
    "#this creates, fits, and puts out the shape of the data after using this test\n",
    "from sklearn.feature_selection import SelectKBest, f_regression\n",
    "\n",
    "# parameters: f_regression stats test, give me 8 features\n",
    "f_selector = SelectKBest(f_regression, k=3)\n",
    "\n",
    "# find the top 8 X's correlated with y\n",
    "f_selector.fit(X_train_scaled, y_train)\n",
    "\n",
    "# boolean mask of whether the column was selected or not. \n",
    "feature_mask = f_selector.get_support()\n",
    "\n",
    "# get list of top K features. \n",
    "f_feature = X_train_scaled.iloc[:,feature_mask].columns.tolist()\n",
    "f_feature"
   ]
  },
  {
   "cell_type": "code",
   "execution_count": 105,
   "id": "5ab499e4",
   "metadata": {},
   "outputs": [
    {
     "ename": "NameError",
     "evalue": "name 'rfe' is not defined",
     "output_type": "error",
     "traceback": [
      "\u001b[0;31m---------------------------------------------------------------------------\u001b[0m",
      "\u001b[0;31mNameError\u001b[0m                                 Traceback (most recent call last)",
      "\u001b[0;32m/var/folders/d3/11nygz6126ndxvtrp12687680000gn/T/ipykernel_26854/1513313796.py\u001b[0m in \u001b[0;36m<module>\u001b[0;34m\u001b[0m\n\u001b[1;32m      4\u001b[0m \u001b[0;34m\u001b[0m\u001b[0m\n\u001b[1;32m      5\u001b[0m \u001b[0;31m# get the ranks\u001b[0m\u001b[0;34m\u001b[0m\u001b[0;34m\u001b[0m\u001b[0m\n\u001b[0;32m----> 6\u001b[0;31m \u001b[0mvar_ranks\u001b[0m \u001b[0;34m=\u001b[0m \u001b[0mrfe\u001b[0m\u001b[0;34m.\u001b[0m\u001b[0mranking_\u001b[0m\u001b[0;34m\u001b[0m\u001b[0;34m\u001b[0m\u001b[0m\n\u001b[0m\u001b[1;32m      7\u001b[0m \u001b[0;31m# get the variable names\u001b[0m\u001b[0;34m\u001b[0m\u001b[0;34m\u001b[0m\u001b[0m\n\u001b[1;32m      8\u001b[0m \u001b[0mvar_names\u001b[0m \u001b[0;34m=\u001b[0m \u001b[0mX_train_scaled\u001b[0m\u001b[0;34m.\u001b[0m\u001b[0mcolumns\u001b[0m\u001b[0;34m.\u001b[0m\u001b[0mtolist\u001b[0m\u001b[0;34m(\u001b[0m\u001b[0;34m)\u001b[0m\u001b[0;34m\u001b[0m\u001b[0;34m\u001b[0m\u001b[0m\n",
      "\u001b[0;31mNameError\u001b[0m: name 'rfe' is not defined"
     ]
    }
   ],
   "source": [
    "from sklearn.linear_model import LinearRegression\n",
    "from sklearn.feature_selection import RFE\n",
    "# view list of columns and their ranking in order of most relative to property value, to least relative.\n",
    "\n",
    "# get the ranks\n",
    "var_ranks = rfe.ranking_\n",
    "# get the variable names\n",
    "var_names = X_train_scaled.columns.tolist()\n",
    "# combine ranks and names into a df for clean viewing\n",
    "rfe_ranks_df = pd.DataFrame({'Var': var_names, 'Rank': var_ranks})\n",
    "# sort the df by rank\n",
    "rfe_ranks_df.sort_values('Rank')\n"
   ]
  },
  {
   "cell_type": "markdown",
   "id": "de244b49",
   "metadata": {},
   "source": [
    "### Modeling:"
   ]
  },
  {
   "cell_type": "code",
   "execution_count": null,
   "id": "a0bcbddc",
   "metadata": {},
   "outputs": [],
   "source": [
    "# We need y_train and y_validate to be dataframes to append the new columns with predicted values. \n",
    "y_train = pd.DataFrame(y_train)\n",
    "y_validate = pd.DataFrame(y_validate)\n",
    "\n",
    "# 1. Predict G3_pred_mean\n",
    "G3_pred_mean = y_train['G3'].mean()\n",
    "y_train['G3_pred_mean'] = G3_pred_mean\n",
    "y_validate['G3_pred_mean'] = G3_pred_mean\n",
    "\n",
    "# 2. compute G3_pred_median\n",
    "G3_pred_median = y_train['G3'].median()\n",
    "y_train['G3_pred_median'] = G3_pred_median\n",
    "y_validate['G3_pred_median'] = G3_pred_median\n",
    "\n",
    "# 3. RMSE of G3_pred_mean\n",
    "rmse_train = mean_squared_error(y_train.G3, y_train.G3_pred_mean)**(1/2)\n",
    "rmse_validate = mean_squared_error(y_validate.G3, y_validate.G3_pred_mean)**(1/2)\n",
    "\n",
    "print(\"RMSE using Mean\\nTrain/In-Sample: \", round(rmse_train, 2), \n",
    "      \"\\nValidate/Out-of-Sample: \", round(rmse_validate, 2))\n",
    "\n",
    "# 4. RMSE of G3_pred_median\n",
    "rmse_train = mean_squared_error(y_train.G3, y_train.G3_pred_median)**(1/2)\n",
    "rmse_validate = mean_squared_error(y_validate.G3, y_validate.G3_pred_median)**(1/2)\n",
    "\n",
    "print(\"RMSE using Median\\nTrain/In-Sample: \", round(rmse_train, 2), \n",
    "      \"\\nValidate/Out-of-Sample: \", round(rmse_validate, 2))\n"
   ]
  },
  {
   "cell_type": "code",
   "execution_count": null,
   "id": "28f0a700",
   "metadata": {},
   "outputs": [],
   "source": []
  },
  {
   "cell_type": "code",
   "execution_count": null,
   "id": "093a104a",
   "metadata": {},
   "outputs": [],
   "source": []
  },
  {
   "cell_type": "markdown",
   "id": "7ac0e7e0",
   "metadata": {},
   "source": [
    "NEXT STEPS:"
   ]
  },
  {
   "cell_type": "code",
   "execution_count": null,
   "id": "e896b6ae",
   "metadata": {},
   "outputs": [],
   "source": []
  }
 ],
 "metadata": {
  "kernelspec": {
   "display_name": "Python 3 (ipykernel)",
   "language": "python",
   "name": "python3"
  },
  "language_info": {
   "codemirror_mode": {
    "name": "ipython",
    "version": 3
   },
   "file_extension": ".py",
   "mimetype": "text/x-python",
   "name": "python",
   "nbconvert_exporter": "python",
   "pygments_lexer": "ipython3",
   "version": "3.9.7"
  }
 },
 "nbformat": 4,
 "nbformat_minor": 5
}
