{
 "cells": [
  {
   "cell_type": "code",
   "execution_count": 1,
   "id": "3b18fe67",
   "metadata": {},
   "outputs": [],
   "source": [
    "import warnings\n",
    "warnings.filterwarnings(\"ignore\")\n",
    "\n",
    "from wrangle import wrangle_zillow\n",
    "import acquire\n",
    "from prepare import split_data, scale_data\n",
    "from env import get_db_url"
   ]
  },
  {
   "cell_type": "markdown",
   "id": "66724e83",
   "metadata": {},
   "source": [
    "<img src=\"https://1000logos.net/wp-content/uploads/2017/11/Zillow-Logo.png\" title=\"Zillow Logo\"/>"
   ]
  },
  {
   "cell_type": "markdown",
   "id": "84624dc4",
   "metadata": {},
   "source": [
    "<center><h1><span style=\"color:#0074E3\">Bringing Down the ... Property Tax Value Predictors</span>\n",
    "</h1>\n",
    "    <br>by Jennifer Eyring, Jemison Cohort"
   ]
  },
  {
   "cell_type": "markdown",
   "id": "b245f0c2",
   "metadata": {},
   "source": [
    "_________________________________________________________________________________________________________________"
   ]
  },
  {
   "cell_type": "markdown",
   "id": "1edb35c4",
   "metadata": {},
   "source": [
    " <b>Intro notes:</b>\n",
    " In response to the email sent out by the Zillow Data Science team,  I have conducted some thorough research to improve and add-on to the current Zillow property tax value predictor.\n",
    "<br><br>\n",
    "<center>This report is a walk-through of the main findings from my data exploration that gives our Zillow Data Science team<br><b> a OLS (Linear) Regression Model that returns a 33% accuracy predicition of what Single Family property tax values are."
   ]
  },
  {
   "cell_type": "markdown",
   "id": "aa64b6ed",
   "metadata": {},
   "source": [
    "_________________________________________________________________________________________________________________"
   ]
  },
  {
   "cell_type": "markdown",
   "id": "e43371a1",
   "metadata": {},
   "source": [
    "# Project Goals:\n",
    "><ol>\n",
    "><li><b>Construct ML Regression model that predicts propery tax assessed values at a higher rate than the current model</b></li>\n",
    " <li>To find the key property feature drivers that relate to property value for single family properties.</li>\n",
    " <li>To find and add the fips code state and county names to the 2017 dataframe.</li>\n",
    "</ol>"
   ]
  },
  {
   "cell_type": "markdown",
   "id": "f69398e8",
   "metadata": {},
   "source": [
    "# Audience Notes about the Data:\n",
    "><ol>\n",
    "    ><li><b>Data source:</b> obtained from MySQL database. <br> <i>To learn more about how & why this data was original collected, visit <a href=\"https://www.kaggle.com/competitions/zillow-prize-1/overview\" title=\"Wikipedia\">Kaggle's Zestimate Challenge.</a></li><br>\n",
    " <li><b>Original data count: 54421</b><br> <i>base on transactions made on 2017 Single Family properties.</li><br>\n",
    " <li>During data cleaning & prep stage, I made some decisions on narrowing down data by removing outliers:</li><br><i>Finished Squarefoot Range: 200sqft - 9_000sqft<br><i>Bedroom Count range: 1-6bd<br><i>Bathroom Count range:1-6bd<br>Property Tax Value range: 45k - 2.5million</li><br><br>\n",
    " <li>Added fips codes:<br><i><b>6037 = Los Angeles county <br><i><b>6059 = Orange county<br><i><b>6111 = Ventura county\n",
    "</ol>"
   ]
  },
  {
   "cell_type": "markdown",
   "id": "8b0f76e3",
   "metadata": {},
   "source": [
    "________________________________________________________________________________________________________"
   ]
  },
  {
   "cell_type": "markdown",
   "id": "9f3997f7",
   "metadata": {},
   "source": [
    "# <center> <u>What drives our Single Family Property Values? </u><br> <i>Exploring the Data\n",
    "\n",
    "### For this first rendition on a new ML model, l focused on these 5 different property features:\n",
    "\n",
    "###  <li>Bedroom Count<br><li>Bathroom Count<br><li>Finished Squarefeet<br><li>Year built<br><li>County <br><i>(used fips codes for numeric testings)\n"
   ]
  },
  {
   "cell_type": "code",
   "execution_count": 2,
   "id": "987c675a",
   "metadata": {},
   "outputs": [
    {
     "data": {
      "text/html": [
       "<div>\n",
       "<style scoped>\n",
       "    .dataframe tbody tr th:only-of-type {\n",
       "        vertical-align: middle;\n",
       "    }\n",
       "\n",
       "    .dataframe tbody tr th {\n",
       "        vertical-align: top;\n",
       "    }\n",
       "\n",
       "    .dataframe thead th {\n",
       "        text-align: right;\n",
       "    }\n",
       "</style>\n",
       "<table border=\"1\" class=\"dataframe\">\n",
       "  <thead>\n",
       "    <tr style=\"text-align: right;\">\n",
       "      <th></th>\n",
       "      <th>bedroomcnt</th>\n",
       "      <th>bathroomcnt</th>\n",
       "      <th>calculatedfinishedsquarefeet</th>\n",
       "      <th>taxvaluedollarcnt</th>\n",
       "      <th>yearbuilt</th>\n",
       "      <th>fips</th>\n",
       "      <th>county</th>\n",
       "    </tr>\n",
       "  </thead>\n",
       "  <tbody>\n",
       "    <tr>\n",
       "      <th>25905</th>\n",
       "      <td>2</td>\n",
       "      <td>1.0</td>\n",
       "      <td>1024</td>\n",
       "      <td>527930</td>\n",
       "      <td>1948.0</td>\n",
       "      <td>6037</td>\n",
       "      <td>Los Angeles County</td>\n",
       "    </tr>\n",
       "  </tbody>\n",
       "</table>\n",
       "</div>"
      ],
      "text/plain": [
       "       bedroomcnt  bathroomcnt  calculatedfinishedsquarefeet  \\\n",
       "25905           2          1.0                          1024   \n",
       "\n",
       "       taxvaluedollarcnt  yearbuilt  fips              county  \n",
       "25905             527930     1948.0  6037  Los Angeles County  "
      ]
     },
     "execution_count": 2,
     "metadata": {},
     "output_type": "execute_result"
    }
   ],
   "source": [
    "#adding those necessities\n",
    "import pandas as pd\n",
    "import numpy as np\n",
    "import matplotlib.pyplot as plt\n",
    "import seaborn as sns\n",
    "from scipy import stats\n",
    "import pydataset as data\n",
    "\n",
    "#sklearn tools:: working those models!\n",
    "from sklearn.model_selection import train_test_split\n",
    "\n",
    "\n",
    "#calling the dataframe\n",
    "df = wrangle_zillow()\n",
    "#prepped and split\n",
    "train, validate, test = split_data(df)\n",
    "#scaled data\n",
    "scale_data(train, validate, test)\n",
    "train.head(1)"
   ]
  },
  {
   "cell_type": "markdown",
   "id": "42a1b9f3",
   "metadata": {},
   "source": [
    "- I noticed, especially with the strange outliers in the OG data, that there seemed to be some sort of relationship to bathroom count a a home value...more so than I would have guessed."
   ]
  },
  {
   "cell_type": "code",
   "execution_count": 3,
   "id": "6d0ebec5",
   "metadata": {},
   "outputs": [
    {
     "data": {
      "image/png": "[encoded data removed]",
      "text/plain": [
       "<Figure size 864x864 with 6 Axes>"
      ]
     },
     "metadata": {},
     "output_type": "display_data"
    }
   ],
   "source": [
    "# set a grey background (use sns.set_theme() if seaborn version 0.11.0 or above) \n",
    "sns.set(style=\"darkgrid\")\n",
    "\n",
    "fig, axs = plt.subplots(3, 2, figsize=(12, 12))\n",
    "\n",
    "sns.histplot(data=train.sample(100), x=\"bedroomcnt\", color=\"skyblue\", ax=axs[0, 0])\n",
    "sns.histplot(data=train.sample(100), x=\"bathroomcnt\", color=\"olive\", ax=axs[0, 1])\n",
    "sns.histplot(data=train.sample(100), x=\"calculatedfinishedsquarefeet\", color=\"gold\", ax=axs[1, 0])\n",
    "sns.histplot(data=train.sample(100), x=\"yearbuilt\",  color=\"teal\", ax=axs[1, 1])\n",
    "sns.histplot(data=train.sample(100), x=\"county\",  color=\"olive\", ax=axs[2, 0 ])\n",
    "sns.histplot(data=train.sample(100), x=\"taxvaluedollarcnt\",  color=\"yellow\", ax=axs[2, 1])\n",
    "\n",
    "plt.show()"
   ]
  },
  {
   "cell_type": "markdown",
   "id": "27a43413",
   "metadata": {},
   "source": [
    "### <center> <u>Summary of Exploration:</u><br> <br>Things to notice, but not be fooled by...<br><br>The above chart can give us some insights into what buyers might be looking for when purchasing a Single Family property, however, we have to consider other factors that come into play, and can really only understand that through hypothesis testing."
   ]
  },
  {
   "cell_type": "markdown",
   "id": "45716f3b",
   "metadata": {},
   "source": [
    "_________________________________________________________________________________________________________________"
   ]
  },
  {
   "cell_type": "markdown",
   "id": "f3e91dec",
   "metadata": {},
   "source": [
    "# Hypothesis Testing:\n",
    "\n",
    "### Questions 1: Does Bathroom count determine a property's value?\n",
    "\n",
    "a = 0.05\n",
    "\n",
    "- H0: Bathroom count is not linearly dependant on property value.\n",
    "- Ha: Bathroom count is linearly dependant property value."
   ]
  },
  {
   "cell_type": "code",
   "execution_count": 4,
   "id": "520b4335",
   "metadata": {},
   "outputs": [
    {
     "name": "stdout",
     "output_type": "stream",
     "text": [
      "The correlation coefficient is: 0.5059773252754048\n"
     ]
    }
   ],
   "source": [
    "#We will try a correlation hypothesis test for bathroom count and taxvaluedollarcnt (property value)\n",
    "from math import sqrt\n",
    "from scipy import stats\n",
    "\n",
    "n = train.shape[0]     # number of observations\n",
    "degf = n - 2        # degrees of freedom: the # of values in the final calculation of a statistic that are free to vary.\n",
    "conf_interval = .95 # desired confidence interval\n",
    "α = 1 - conf_interval\n",
    "\n",
    "x = train.bathroomcnt\n",
    "y = train.taxvaluedollarcnt\n",
    "\n",
    "def stdev(x):\n",
    "    variance = ((x - x.mean()) ** 2).sum() / n\n",
    "    return sqrt(variance)\n",
    "\n",
    "r_xy = (((x - x.mean()) * (y - y.mean())).sum() / n) / (stdev(x) * stdev(y))\n",
    "print('The correlation coefficient is:', r_xy)\n"
   ]
  },
  {
   "cell_type": "markdown",
   "id": "db700349",
   "metadata": {},
   "source": [
    "### The Correlation Coefficient is showing that Bathroom IS a moderately strong positive coefficient to Property Value."
   ]
  },
  {
   "cell_type": "code",
   "execution_count": 5,
   "id": "fa86e12e",
   "metadata": {},
   "outputs": [
    {
     "name": "stdout",
     "output_type": "stream",
     "text": [
      "We reject the null Hypothesis\n"
     ]
    }
   ],
   "source": [
    "#How to calculate the corresponding p-value:\n",
    "\n",
    "# 1 step: create a t-statistic\n",
    "t = (r_xy * sqrt(n - 2)) / sqrt(1 - r_xy**2)\n",
    "\n",
    "# 2 step: find the p value:\n",
    "p = stats.t.sf(t, df=degf) * 2 # *2 for a two-tailed test\n",
    "\n",
    "# 3 step: Compare p value to our alpha: if our p value is less, then we reject Null Hypothesis\n",
    "\n",
    "p < α\n",
    "\n",
    "if p < α:\n",
    "    print('We reject the null Hypothesis')"
   ]
  },
  {
   "cell_type": "markdown",
   "id": "ba9cbb87",
   "metadata": {},
   "source": [
    "## Summary of other Hypothesis Tests:\n",
    "- Bedroom count also rejected the null hypothesis, yet the correlation coefficient score was only 0.26, so much weaker of a coefficien than bathrooms even."
   ]
  },
  {
   "cell_type": "markdown",
   "id": "57cac89b",
   "metadata": {},
   "source": [
    "___________________________________________________________________________________________________________"
   ]
  },
  {
   "cell_type": "markdown",
   "id": "c797feea",
   "metadata": {},
   "source": [
    "# Creating, Fitting and Trying out Models:\n",
    "I had created and tried 5 different kinds of models:\n",
    "- OLS Regression(RMSE)\n",
    "- LassoLars\n",
    "- TweedieRegressor(GLM)\n",
    "- Polynomial Features (2 & 3 degree versions)\n",
    "\n",
    "### Each model I had evaluated using RMSE (squares errors to be larger to easily compare) and keep in a dollar-value when it came to reading errors."
   ]
  },
  {
   "cell_type": "code",
   "execution_count": 11,
   "id": "43f0b820",
   "metadata": {},
   "outputs": [],
   "source": [
    "#dropped columns so as to fit model onto data\n",
    "from evaluate import drop_columns_ols\n",
    "drop_columns_ols(train, validate, test)\n",
    "\n",
    "#creating copies of train to rename\n",
    "train_scaled = train.copy()\n",
    "validate_scaled = validate.copy()\n",
    "test_scaled = test.copy()\n",
    "\n",
    "#final name for df, to fit model onto data\n",
    "X_train = train_scaled[['calculatedfinishedsquarefeet']]\n",
    "y_train = train_scaled['taxvaluedollarcnt']\n",
    "\n",
    "X_validate = validate_scaled[[ 'calculatedfinishedsquarefeet']]\n",
    "y_validate = validate_scaled['taxvaluedollarcnt']\n",
    "\n",
    "X_test = test_scaled[['calculatedfinishedsquarefeet']]\n",
    "y_test = test_scaled['taxvaluedollarcnt']\n",
    "\n"
   ]
  },
  {
   "cell_type": "markdown",
   "id": "56bff505",
   "metadata": {},
   "source": [
    "## Creating & Fitting my OLS Regression Model:"
   ]
  },
  {
   "cell_type": "code",
   "execution_count": 13,
   "id": "09f5c1b1",
   "metadata": {},
   "outputs": [],
   "source": [
    "from sklearn.linear_model import LinearRegression\n",
    "# create the model object and fit the model to train_scaled data\n",
    "model = LinearRegression().fit(X_train, y_train)\n",
    "predictions = model.predict(X_train)"
   ]
  },
  {
   "cell_type": "markdown",
   "id": "70c69a62",
   "metadata": {},
   "source": [
    "## Creating the zillow predictor baseline aka mean, of taxvaluedollarcnt(y)"
   ]
  },
  {
   "cell_type": "code",
   "execution_count": 15,
   "id": "a958baeb",
   "metadata": {},
   "outputs": [
    {
     "data": {
      "text/html": [
       "<div>\n",
       "<style scoped>\n",
       "    .dataframe tbody tr th:only-of-type {\n",
       "        vertical-align: middle;\n",
       "    }\n",
       "\n",
       "    .dataframe tbody tr th {\n",
       "        vertical-align: top;\n",
       "    }\n",
       "\n",
       "    .dataframe thead th {\n",
       "        text-align: right;\n",
       "    }\n",
       "</style>\n",
       "<table border=\"1\" class=\"dataframe\">\n",
       "  <thead>\n",
       "    <tr style=\"text-align: right;\">\n",
       "      <th></th>\n",
       "      <th>bedroomcnt</th>\n",
       "      <th>bathroomcnt</th>\n",
       "      <th>calculatedfinishedsquarefeet</th>\n",
       "      <th>taxvaluedollarcnt</th>\n",
       "      <th>yearbuilt</th>\n",
       "      <th>fips</th>\n",
       "      <th>county</th>\n",
       "      <th>yhat</th>\n",
       "      <th>baseline</th>\n",
       "    </tr>\n",
       "  </thead>\n",
       "  <tbody>\n",
       "    <tr>\n",
       "      <th>25905</th>\n",
       "      <td>2</td>\n",
       "      <td>1.0</td>\n",
       "      <td>1024</td>\n",
       "      <td>527930</td>\n",
       "      <td>1948.0</td>\n",
       "      <td>6037</td>\n",
       "      <td>Los Angeles County</td>\n",
       "      <td>241354.241251</td>\n",
       "      <td>468597.876565</td>\n",
       "    </tr>\n",
       "    <tr>\n",
       "      <th>48178</th>\n",
       "      <td>3</td>\n",
       "      <td>2.0</td>\n",
       "      <td>1490</td>\n",
       "      <td>245594</td>\n",
       "      <td>1973.0</td>\n",
       "      <td>6059</td>\n",
       "      <td>Orange County</td>\n",
       "      <td>365016.255566</td>\n",
       "      <td>468597.876565</td>\n",
       "    </tr>\n",
       "    <tr>\n",
       "      <th>17604</th>\n",
       "      <td>2</td>\n",
       "      <td>2.0</td>\n",
       "      <td>1511</td>\n",
       "      <td>263518</td>\n",
       "      <td>1987.0</td>\n",
       "      <td>6111</td>\n",
       "      <td>Ventura County</td>\n",
       "      <td>370589.007284</td>\n",
       "      <td>468597.876565</td>\n",
       "    </tr>\n",
       "    <tr>\n",
       "      <th>47004</th>\n",
       "      <td>2</td>\n",
       "      <td>2.0</td>\n",
       "      <td>1327</td>\n",
       "      <td>319934</td>\n",
       "      <td>1949.0</td>\n",
       "      <td>6037</td>\n",
       "      <td>Los Angeles County</td>\n",
       "      <td>321761.087469</td>\n",
       "      <td>468597.876565</td>\n",
       "    </tr>\n",
       "    <tr>\n",
       "      <th>39460</th>\n",
       "      <td>3</td>\n",
       "      <td>2.0</td>\n",
       "      <td>2190</td>\n",
       "      <td>279574</td>\n",
       "      <td>1982.0</td>\n",
       "      <td>6037</td>\n",
       "      <td>Los Angeles County</td>\n",
       "      <td>550774.646168</td>\n",
       "      <td>468597.876565</td>\n",
       "    </tr>\n",
       "  </tbody>\n",
       "</table>\n",
       "</div>"
      ],
      "text/plain": [
       "       bedroomcnt  bathroomcnt  calculatedfinishedsquarefeet  \\\n",
       "25905           2          1.0                          1024   \n",
       "48178           3          2.0                          1490   \n",
       "17604           2          2.0                          1511   \n",
       "47004           2          2.0                          1327   \n",
       "39460           3          2.0                          2190   \n",
       "\n",
       "       taxvaluedollarcnt  yearbuilt  fips              county           yhat  \\\n",
       "25905             527930     1948.0  6037  Los Angeles County  241354.241251   \n",
       "48178             245594     1973.0  6059       Orange County  365016.255566   \n",
       "17604             263518     1987.0  6111      Ventura County  370589.007284   \n",
       "47004             319934     1949.0  6037  Los Angeles County  321761.087469   \n",
       "39460             279574     1982.0  6037  Los Angeles County  550774.646168   \n",
       "\n",
       "            baseline  \n",
       "25905  468597.876565  \n",
       "48178  468597.876565  \n",
       "17604  468597.876565  \n",
       "47004  468597.876565  \n",
       "39460  468597.876565  "
      ]
     },
     "execution_count": 15,
     "metadata": {},
     "output_type": "execute_result"
    }
   ],
   "source": [
    "baseline = train_scaled.taxvaluedollarcnt.mean()\n",
    "train_scaled['yhat'] = predictions\n",
    "\n",
    "#let's add the baseline to the the dataframe\n",
    "train_scaled['baseline'] = train_scaled.taxvaluedollarcnt.mean()\n",
    "train_scaled.head()"
   ]
  },
  {
   "cell_type": "markdown",
   "id": "00a0bac4",
   "metadata": {},
   "source": [
    "## Plotting Residuals for the OLS Model:"
   ]
  },
  {
   "cell_type": "code",
   "execution_count": 16,
   "id": "e096ee29",
   "metadata": {},
   "outputs": [
    {
     "data": {
      "text/html": [
       "<div>\n",
       "<style scoped>\n",
       "    .dataframe tbody tr th:only-of-type {\n",
       "        vertical-align: middle;\n",
       "    }\n",
       "\n",
       "    .dataframe tbody tr th {\n",
       "        vertical-align: top;\n",
       "    }\n",
       "\n",
       "    .dataframe thead th {\n",
       "        text-align: right;\n",
       "    }\n",
       "</style>\n",
       "<table border=\"1\" class=\"dataframe\">\n",
       "  <thead>\n",
       "    <tr style=\"text-align: right;\">\n",
       "      <th></th>\n",
       "      <th>bedroomcnt</th>\n",
       "      <th>bathroomcnt</th>\n",
       "      <th>calculatedfinishedsquarefeet</th>\n",
       "      <th>taxvaluedollarcnt</th>\n",
       "      <th>yearbuilt</th>\n",
       "      <th>fips</th>\n",
       "      <th>county</th>\n",
       "      <th>yhat</th>\n",
       "      <th>baseline</th>\n",
       "      <th>residual</th>\n",
       "      <th>baseline_residual</th>\n",
       "    </tr>\n",
       "  </thead>\n",
       "  <tbody>\n",
       "    <tr>\n",
       "      <th>25905</th>\n",
       "      <td>2</td>\n",
       "      <td>1.0</td>\n",
       "      <td>1024</td>\n",
       "      <td>527930</td>\n",
       "      <td>1948.0</td>\n",
       "      <td>6037</td>\n",
       "      <td>Los Angeles County</td>\n",
       "      <td>241354.241251</td>\n",
       "      <td>468597.876565</td>\n",
       "      <td>286575.758749</td>\n",
       "      <td>59332.123435</td>\n",
       "    </tr>\n",
       "    <tr>\n",
       "      <th>48178</th>\n",
       "      <td>3</td>\n",
       "      <td>2.0</td>\n",
       "      <td>1490</td>\n",
       "      <td>245594</td>\n",
       "      <td>1973.0</td>\n",
       "      <td>6059</td>\n",
       "      <td>Orange County</td>\n",
       "      <td>365016.255566</td>\n",
       "      <td>468597.876565</td>\n",
       "      <td>-119422.255566</td>\n",
       "      <td>-223003.876565</td>\n",
       "    </tr>\n",
       "    <tr>\n",
       "      <th>17604</th>\n",
       "      <td>2</td>\n",
       "      <td>2.0</td>\n",
       "      <td>1511</td>\n",
       "      <td>263518</td>\n",
       "      <td>1987.0</td>\n",
       "      <td>6111</td>\n",
       "      <td>Ventura County</td>\n",
       "      <td>370589.007284</td>\n",
       "      <td>468597.876565</td>\n",
       "      <td>-107071.007284</td>\n",
       "      <td>-205079.876565</td>\n",
       "    </tr>\n",
       "    <tr>\n",
       "      <th>47004</th>\n",
       "      <td>2</td>\n",
       "      <td>2.0</td>\n",
       "      <td>1327</td>\n",
       "      <td>319934</td>\n",
       "      <td>1949.0</td>\n",
       "      <td>6037</td>\n",
       "      <td>Los Angeles County</td>\n",
       "      <td>321761.087469</td>\n",
       "      <td>468597.876565</td>\n",
       "      <td>-1827.087469</td>\n",
       "      <td>-148663.876565</td>\n",
       "    </tr>\n",
       "    <tr>\n",
       "      <th>39460</th>\n",
       "      <td>3</td>\n",
       "      <td>2.0</td>\n",
       "      <td>2190</td>\n",
       "      <td>279574</td>\n",
       "      <td>1982.0</td>\n",
       "      <td>6037</td>\n",
       "      <td>Los Angeles County</td>\n",
       "      <td>550774.646168</td>\n",
       "      <td>468597.876565</td>\n",
       "      <td>-271200.646168</td>\n",
       "      <td>-189023.876565</td>\n",
       "    </tr>\n",
       "  </tbody>\n",
       "</table>\n",
       "</div>"
      ],
      "text/plain": [
       "       bedroomcnt  bathroomcnt  calculatedfinishedsquarefeet  \\\n",
       "25905           2          1.0                          1024   \n",
       "48178           3          2.0                          1490   \n",
       "17604           2          2.0                          1511   \n",
       "47004           2          2.0                          1327   \n",
       "39460           3          2.0                          2190   \n",
       "\n",
       "       taxvaluedollarcnt  yearbuilt  fips              county           yhat  \\\n",
       "25905             527930     1948.0  6037  Los Angeles County  241354.241251   \n",
       "48178             245594     1973.0  6059       Orange County  365016.255566   \n",
       "17604             263518     1987.0  6111      Ventura County  370589.007284   \n",
       "47004             319934     1949.0  6037  Los Angeles County  321761.087469   \n",
       "39460             279574     1982.0  6037  Los Angeles County  550774.646168   \n",
       "\n",
       "            baseline       residual  baseline_residual  \n",
       "25905  468597.876565  286575.758749       59332.123435  \n",
       "48178  468597.876565 -119422.255566     -223003.876565  \n",
       "17604  468597.876565 -107071.007284     -205079.876565  \n",
       "47004  468597.876565   -1827.087469     -148663.876565  \n",
       "39460  468597.876565 -271200.646168     -189023.876565  "
      ]
     },
     "execution_count": 16,
     "metadata": {},
     "output_type": "execute_result"
    }
   ],
   "source": [
    "# first I need to create residuals (ie residuals = actual - predicted)\n",
    "train_scaled['residual'] = train_scaled.taxvaluedollarcnt - train_scaled.yhat\n",
    "train_scaled['baseline_residual'] = train_scaled.taxvaluedollarcnt - train_scaled.baseline\n",
    "train_scaled.head()"
   ]
  },
  {
   "cell_type": "code",
   "execution_count": 17,
   "id": "1ee680d2",
   "metadata": {},
   "outputs": [
    {
     "data": {
      "image/png": "[encoded data removed]",
      "text/plain": [
       "<Figure size 792x360 with 2 Axes>"
      ]
     },
     "metadata": {},
     "output_type": "display_data"
    }
   ],
   "source": [
    "#Let's plot!\n",
    "#Here are the residual plots (calculated finished square feet vs residual)\n",
    "\n",
    "###METHODS USED:\n",
    "\n",
    "plt.figure(figsize = (11,5))\n",
    "\n",
    "plt.subplot(121)\n",
    "plt.scatter(train_scaled.calculatedfinishedsquarefeet, train_scaled.baseline_residual)\n",
    "plt.axhline(y = 0, ls = ':', color ='orange')\n",
    "plt.xlabel('Finished Squareft')\n",
    "plt.ylabel('Residual of Property Value')\n",
    "plt.title('Baseline Residuals (Property Value)')\n",
    "\n",
    "plt.subplot(122)\n",
    "plt.scatter(train_scaled.calculatedfinishedsquarefeet, train_scaled.residual)\n",
    "plt.axhline(y = 0, ls = ':', color ='orange')\n",
    "plt.xlabel('Finished Squareft')\n",
    "plt.ylabel('Residual of Property Value')\n",
    "plt.title('OLS model residuals (Property Value)');"
   ]
  },
  {
   "cell_type": "markdown",
   "id": "33a5cb27",
   "metadata": {},
   "source": [
    "## Evaluating the Model Statistically (Variance Score for accuracy of prediction of movement of errors"
   ]
  },
  {
   "cell_type": "code",
   "execution_count": 22,
   "id": "96642e57",
   "metadata": {},
   "outputs": [
    {
     "name": "stdout",
     "output_type": "stream",
     "text": [
      "Explained Variance =  0.337\n"
     ]
    }
   ],
   "source": [
    "from sklearn.metrics import explained_variance_score\n",
    "#creating an explained variance score to determine the dipersion of errors in the data set\n",
    "## (aka, how much of the data the model can accurately predict...)\n",
    "evs = explained_variance_score(train_scaled.taxvaluedollarcnt, train_scaled.yhat)\n",
    "print('Explained Variance = ', round(evs,3))"
   ]
  },
  {
   "cell_type": "code",
   "execution_count": 28,
   "id": "9787a8b5",
   "metadata": {},
   "outputs": [
    {
     "name": "stdout",
     "output_type": "stream",
     "text": [
      "SSE = 2803591029580206.5\n",
      "SSE Baseline = 4231206351270337.0\n",
      "Model beats baseline\n"
     ]
    }
   ],
   "source": [
    "#SUM OF SQUARED ERRORS:\n",
    "SSE = train_scaled['residual^2'].sum()\n",
    "SSE_baseline = train_scaled['baseline_residual^2'].sum()\n",
    "\n",
    "print('SSE =', \"{:.1f}\".format(SSE))\n",
    "print(\"SSE Baseline =\", \"{:.1f}\".format(SSE_baseline))\n",
    "if SSE < SSE_baseline:\n",
    "    print ('Model beats baseline')\n",
    "else:\n",
    "    print ('Baseline beats model')"
   ]
  },
  {
   "cell_type": "code",
   "execution_count": 29,
   "id": "9e33b792",
   "metadata": {},
   "outputs": [
    {
     "name": "stdout",
     "output_type": "stream",
     "text": [
      "SSE manual == SSE sklearn:  True\n",
      "SSE manual - baseline == SSE sklearn - baseline:  False\n"
     ]
    }
   ],
   "source": [
    "from sklearn.metrics import mean_squared_error\n",
    "\n",
    "SSE2 = mean_squared_error(train_scaled.taxvaluedollarcnt, train_scaled.yhat)*len(train_scaled)\n",
    "SSE2_baseline = mean_squared_error(train_scaled.taxvaluedollarcnt, train_scaled.baseline)*len(train_scaled)\n",
    "\n",
    "print(\"SSE manual == SSE sklearn: \", SSE == SSE2) \n",
    "print(\"SSE manual - baseline == SSE sklearn - baseline: \", SSE_baseline == SSE2_baseline) \n"
   ]
  },
  {
   "cell_type": "code",
   "execution_count": 31,
   "id": "0980bb15",
   "metadata": {},
   "outputs": [
    {
     "name": "stdout",
     "output_type": "stream",
     "text": [
      "                            OLS Regression Results                            \n",
      "==============================================================================\n",
      "Dep. Variable:      taxvaluedollarcnt   R-squared:                       0.337\n",
      "Model:                            OLS   Adj. R-squared:                  0.337\n",
      "Method:                 Least Squares   F-statistic:                 1.432e+04\n",
      "Date:                Thu, 09 Jun 2022   Prob (F-statistic):               0.00\n",
      "Time:                        00:50:07   Log-Likelihood:            -3.9598e+05\n",
      "No. Observations:               28120   AIC:                         7.920e+05\n",
      "Df Residuals:                   28118   BIC:                         7.920e+05\n",
      "Df Model:                           1                                         \n",
      "Covariance Type:            nonrobust                                         \n",
      "================================================================================================\n",
      "                                   coef    std err          t      P>|t|      [0.025      0.975]\n",
      "------------------------------------------------------------------------------------------------\n",
      "const                        -3.038e+04   4575.516     -6.641      0.000   -3.94e+04   -2.14e+04\n",
      "calculatedfinishedsquarefeet   265.3691      2.218    119.658      0.000     261.022     269.716\n",
      "==============================================================================\n",
      "Omnibus:                     8848.102   Durbin-Watson:                   2.004\n",
      "Prob(Omnibus):                  0.000   Jarque-Bera (JB):            38162.496\n",
      "Skew:                           1.495   Prob(JB):                         0.00\n",
      "Kurtosis:                       7.861   Cond. No.                     5.01e+03\n",
      "==============================================================================\n",
      "\n",
      "Notes:\n",
      "[1] Standard Errors assume that the covariance matrix of the errors is correctly specified.\n",
      "[2] The condition number is large, 5.01e+03. This might indicate that there are\n",
      "strong multicollinearity or other numerical problems.\n"
     ]
    }
   ],
   "source": [
    "### Is this model better than the baseline model?\n",
    "import statsmodels.api as sm\n",
    "X2 = sm.add_constant(train.calculatedfinishedsquarefeet)\n",
    "est = sm.OLS(train.taxvaluedollarcnt, X2)\n",
    "est2 = est.fit()\n",
    "print(est2.summary())"
   ]
  },
  {
   "cell_type": "markdown",
   "id": "b924132b",
   "metadata": {},
   "source": [
    "### I worry about with the multicollinearity warning, however this warning showed up for each of my models, so I will move forward anyways."
   ]
  },
  {
   "cell_type": "markdown",
   "id": "8aa19b40",
   "metadata": {},
   "source": [
    "## Take Away: \n",
    "- I chose this model as it proved to be better than the baseline (Rejected null, 33% variance accuracy of data  )"
   ]
  },
  {
   "cell_type": "code",
   "execution_count": null,
   "id": "e7744d4e",
   "metadata": {},
   "outputs": [],
   "source": [
    "y_validate.taxvaluedollarcnt.max()"
   ]
  },
  {
   "cell_type": "code",
   "execution_count": 32,
   "id": "ba29b201",
   "metadata": {},
   "outputs": [],
   "source": [
    "#This was a function to create a new df for evaluating models specifically:\n",
    "from evaluate import X_y_train\n",
    "\n",
    "X_y_train(train, validate, test)"
   ]
  },
  {
   "cell_type": "code",
   "execution_count": null,
   "id": "897b47ef",
   "metadata": {},
   "outputs": [],
   "source": []
  },
  {
   "cell_type": "code",
   "execution_count": null,
   "id": "8ae5b635",
   "metadata": {},
   "outputs": [],
   "source": []
  },
  {
   "cell_type": "code",
   "execution_count": null,
   "id": "4b1d675b",
   "metadata": {},
   "outputs": [],
   "source": []
  },
  {
   "cell_type": "markdown",
   "id": "c98e193c",
   "metadata": {},
   "source": [
    "<img src=\"https://play-lh.googleusercontent.com/dKL38bnxOQTTyG9dB467IfCYF0gHWZROJeDUiSGEuVrjaSIHbjDr9T6P6y1OrB_KAQ\" title=\"house\" width=\"100\" height=\"40\"/>"
   ]
  },
  {
   "cell_type": "code",
   "execution_count": null,
   "id": "e875ab6c",
   "metadata": {},
   "outputs": [],
   "source": []
  }
 ],
 "metadata": {
  "kernelspec": {
   "display_name": "Python 3 (ipykernel)",
   "language": "python",
   "name": "python3"
  },
  "language_info": {
   "codemirror_mode": {
    "name": "ipython",
    "version": 3
   },
   "file_extension": ".py",
   "mimetype": "text/x-python",
   "name": "python",
   "nbconvert_exporter": "python",
   "pygments_lexer": "ipython3",
   "version": "3.9.7"
  }
 },
 "nbformat": 4,
 "nbformat_minor": 5
}
