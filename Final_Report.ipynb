{
 "cells": [
  {
   "cell_type": "markdown",
   "id": "66724e83",
   "metadata": {},
   "source": [
    "<img src=\"https://1000logos.net/wp-content/uploads/2017/11/Zillow-Logo.png\" title=\"Zillow Logo\"/>"
   ]
  },
  {
   "cell_type": "markdown",
   "id": "84624dc4",
   "metadata": {},
   "source": [
    "<center><h1><span style=\"color:#0074E3\">Bringing Down the House/Property Value Predictors</span>\n",
    "</h1>\n",
    "    <br>by Jennifer Eyring, Jemison Cohort"
   ]
  },
  {
   "cell_type": "markdown",
   "id": "b245f0c2",
   "metadata": {},
   "source": [
    "_________________________________________________________________________________________________________________"
   ]
  },
  {
   "cell_type": "markdown",
   "id": "1edb35c4",
   "metadata": {},
   "source": [
    " <b>Intro notes:</b>\n",
    " In response to the email sent out by the Zillow Data Science team,  I have conducted some thorough research to improve and add-on to the current Zillow property tax value predictor.\n",
    "<br><br>\n",
    "This report is a walk-through of the main findings from my data exploration that gives our Zillow Data Science team<br><b> a _______Regression Model that returns a ______-% accurate predicition of what Single Family property tax values are."
   ]
  },
  {
   "cell_type": "markdown",
   "id": "aa64b6ed",
   "metadata": {},
   "source": [
    "_________________________________________________________________________________________________________________"
   ]
  },
  {
   "cell_type": "markdown",
   "id": "e43371a1",
   "metadata": {},
   "source": [
    "># Project Goals:\n",
    "><ol>\n",
    "><li><b>Construct ML Regression model that predicts propery tax assessed values at a higher rate than the current model</b></li>\n",
    " <li>To find the key property feature drivers that relate to property value for single family properties.</li>\n",
    " <li>To find and add the fipcode state and county names to the 2017 dataframe.</li>\n",
    "</ol>"
   ]
  },
  {
   "cell_type": "code",
   "execution_count": null,
   "id": "f85485c9",
   "metadata": {},
   "outputs": [],
   "source": [
    "># Project Goals:\n",
    "><ol>\n",
    "><li><b>Construct ML Regression model that predicts propery tax assessed values at a higher rate than the current model</b></li>\n",
    " <li>To find the key property feature drivers that relate to property value for single family properties.</li>\n",
    " <li>To find and add the fipcode state and county names to the 2017 dataframe.</li>\n",
    "</ol>"
   ]
  },
  {
   "cell_type": "code",
   "execution_count": null,
   "id": "4a2b46ba",
   "metadata": {},
   "outputs": [],
   "source": []
  },
  {
   "cell_type": "code",
   "execution_count": null,
   "id": "987c675a",
   "metadata": {},
   "outputs": [],
   "source": []
  },
  {
   "cell_type": "code",
   "execution_count": null,
   "id": "29610fe4",
   "metadata": {},
   "outputs": [],
   "source": []
  },
  {
   "cell_type": "markdown",
   "id": "c98e193c",
   "metadata": {},
   "source": [
    "<img src=\"https://play-lh.googleusercontent.com/dKL38bnxOQTTyG9dB467IfCYF0gHWZROJeDUiSGEuVrjaSIHbjDr9T6P6y1OrB_KAQ\" title=\"house\" width=\"100\" height=\"40\"/>"
   ]
  },
  {
   "cell_type": "code",
   "execution_count": null,
   "id": "6d0ebec5",
   "metadata": {},
   "outputs": [],
   "source": []
  }
 ],
 "metadata": {
  "kernelspec": {
   "display_name": "Python 3 (ipykernel)",
   "language": "python",
   "name": "python3"
  },
  "language_info": {
   "codemirror_mode": {
    "name": "ipython",
    "version": 3
   },
   "file_extension": ".py",
   "mimetype": "text/x-python",
   "name": "python",
   "nbconvert_exporter": "python",
   "pygments_lexer": "ipython3",
   "version": "3.9.7"
  }
 },
 "nbformat": 4,
 "nbformat_minor": 5
}
