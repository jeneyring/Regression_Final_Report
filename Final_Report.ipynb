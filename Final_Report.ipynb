{
 "cells": [
  {
   "cell_type": "code",
   "execution_count": 1,
   "id": "3b18fe67",
   "metadata": {},
   "outputs": [],
   "source": [
    "import warnings\n",
    "warnings.filterwarnings(\"ignore\")\n",
    "\n",
    "from wrangle import wrangle_zillow\n",
    "import acquire\n",
    "from prepare import split_data, scale_data\n",
    "from env import get_db_url"
   ]
  },
  {
   "cell_type": "markdown",
   "id": "66724e83",
   "metadata": {},
   "source": [
    "<img src=\"https://1000logos.net/wp-content/uploads/2017/11/Zillow-Logo.png\" title=\"Zillow Logo\"/>"
   ]
  },
  {
   "cell_type": "markdown",
   "id": "84624dc4",
   "metadata": {},
   "source": [
    "<center><h1><span style=\"color:#0074E3\">Bringing Down the ... Property Tax Value Predictors</span>\n",
    "</h1>\n",
    "    <br>by Jennifer Eyring, Jemison Cohort"
   ]
  },
  {
   "cell_type": "markdown",
   "id": "b245f0c2",
   "metadata": {},
   "source": [
    "_________________________________________________________________________________________________________________"
   ]
  },
  {
   "cell_type": "markdown",
   "id": "1edb35c4",
   "metadata": {},
   "source": [
    " <b>Intro notes:</b>\n",
    " In response to the email sent out by the Zillow Data Science team,  I have conducted some thorough research to improve and add-on to the current Zillow property tax value predictor.\n",
    "<br><br>\n",
    "<center>This report is a walk-through of the main findings from my data exploration that gives our Zillow Data Science team<br><b> a OLS (Linear) Regression Model that returns a 33% accuracy predicition of what Single Family property tax values are."
   ]
  },
  {
   "cell_type": "markdown",
   "id": "aa64b6ed",
   "metadata": {},
   "source": [
    "_________________________________________________________________________________________________________________"
   ]
  },
  {
   "cell_type": "markdown",
   "id": "e43371a1",
   "metadata": {},
   "source": [
    "# Project Goals:\n",
    "><ol>\n",
    "><li><b>Construct ML Regression model that predicts propery tax assessed values at a higher rate than the current model</b></li>\n",
    " <li>To find the key property feature drivers that relate to property value for single family properties.</li>\n",
    " <li>To find and add the fipcode state and county names to the 2017 dataframe.</li>\n",
    "</ol>"
   ]
  },
  {
   "cell_type": "markdown",
   "id": "f69398e8",
   "metadata": {},
   "source": [
    "# Audience Notes about the Data:\n",
    "><ol>\n",
    "    ><li><b>Data source:</b> obtained from MySQL database. <br> <i>To learn more about how & why this data was original collected, visit <a href=\"https://www.kaggle.com/competitions/zillow-prize-1/overview\" title=\"Wikipedia\">Kaggle's Zestimate Challenge.</a></li><br>\n",
    " <li><b>Original data count: 54421</b><br> <i>base on transactions made on 2017 Single Family properties.</li><br>\n",
    " <li>During data cleaning & prep stage, I made some decisions on narrowing down data by removing outliers:</li><br><i>Finished Squarefoot Range: 200sqft - 9_000sqft<br><i>Bedroom Count range: 1-6bd<br><i>Bathroom Count range:1-6bd<br>Property Tax Value range: 45k - 2.5million</li><br><br>\n",
    " <li>Added fips codes:<br><i><b>6037 = Los Angeles county <br><i><b>6059 = Orange county<br><i><b>6111 = Ventura county\n",
    "</ol>"
   ]
  },
  {
   "cell_type": "markdown",
   "id": "8b0f76e3",
   "metadata": {},
   "source": [
    "________________________________________________________________________________________________________"
   ]
  },
  {
   "cell_type": "markdown",
   "id": "9f3997f7",
   "metadata": {},
   "source": [
    "# <center> <u>What drives our Single Family Property Values? </u><br> <i>Exploring the Data\n",
    "\n",
    "### For this first rendition on a new ML model, l focused on these 5 different property features:\n",
    "\n",
    "###  <li>Bedroom Count<br><li>Bathroom Count<br><li>Finished Squarefeet<br><li>Year built<br><li>County <br><i>(used fips codes for numeric testings)\n"
   ]
  },
  {
   "cell_type": "code",
   "execution_count": 19,
   "id": "987c675a",
   "metadata": {},
   "outputs": [
    {
     "data": {
      "text/html": [
       "<div>\n",
       "<style scoped>\n",
       "    .dataframe tbody tr th:only-of-type {\n",
       "        vertical-align: middle;\n",
       "    }\n",
       "\n",
       "    .dataframe tbody tr th {\n",
       "        vertical-align: top;\n",
       "    }\n",
       "\n",
       "    .dataframe thead th {\n",
       "        text-align: right;\n",
       "    }\n",
       "</style>\n",
       "<table border=\"1\" class=\"dataframe\">\n",
       "  <thead>\n",
       "    <tr style=\"text-align: right;\">\n",
       "      <th></th>\n",
       "      <th>bedroomcnt</th>\n",
       "      <th>bathroomcnt</th>\n",
       "      <th>calculatedfinishedsquarefeet</th>\n",
       "      <th>taxvaluedollarcnt</th>\n",
       "      <th>yearbuilt</th>\n",
       "      <th>fips</th>\n",
       "      <th>county</th>\n",
       "    </tr>\n",
       "  </thead>\n",
       "  <tbody>\n",
       "    <tr>\n",
       "      <th>25905</th>\n",
       "      <td>2</td>\n",
       "      <td>1.0</td>\n",
       "      <td>1024</td>\n",
       "      <td>527930</td>\n",
       "      <td>1948.0</td>\n",
       "      <td>6037</td>\n",
       "      <td>Los Angeles County</td>\n",
       "    </tr>\n",
       "  </tbody>\n",
       "</table>\n",
       "</div>"
      ],
      "text/plain": [
       "       bedroomcnt  bathroomcnt  calculatedfinishedsquarefeet  \\\n",
       "25905           2          1.0                          1024   \n",
       "\n",
       "       taxvaluedollarcnt  yearbuilt  fips              county  \n",
       "25905             527930     1948.0  6037  Los Angeles County  "
      ]
     },
     "execution_count": 19,
     "metadata": {},
     "output_type": "execute_result"
    }
   ],
   "source": [
    "#adding those necessities\n",
    "import pandas as pd\n",
    "import numpy as np\n",
    "import matplotlib.pyplot as plt\n",
    "import seaborn as sns\n",
    "from scipy import stats\n",
    "import pydataset as data\n",
    "\n",
    "#sklearn tools:: working those models!\n",
    "from sklearn.model_selection import train_test_split\n",
    "\n",
    "\n",
    "#calling the dataframe\n",
    "df = wrangle_zillow()\n",
    "#prepped and split\n",
    "train, validate, test = split_data(df)\n",
    "#scaled data\n",
    "scale_data(train, validate, test)\n",
    "train.head(1)"
   ]
  },
  {
   "cell_type": "markdown",
   "id": "fb9e384c",
   "metadata": {},
   "source": [
    "# <center> Take aways? <br>Buyers like their bathrooms."
   ]
  },
  {
   "cell_type": "code",
   "execution_count": null,
   "id": "7792d358",
   "metadata": {},
   "outputs": [],
   "source": []
  },
  {
   "cell_type": "code",
   "execution_count": 50,
   "id": "6d0ebec5",
   "metadata": {},
   "outputs": [
    {
     "data": {
      "image/png": "[encoded data removed]",
      "text/plain": [
       "<Figure size 864x864 with 6 Axes>"
      ]
     },
     "metadata": {},
     "output_type": "display_data"
    }
   ],
   "source": [
    "# set a grey background (use sns.set_theme() if seaborn version 0.11.0 or above) \n",
    "sns.set(style=\"darkgrid\")\n",
    "\n",
    "fig, axs = plt.subplots(3, 2, figsize=(12, 12))\n",
    "\n",
    "sns.histplot(data=train.sample(100), x=\"bedroomcnt\", color=\"skyblue\", ax=axs[0, 0])\n",
    "sns.histplot(data=train.sample(100), x=\"bathroomcnt\", color=\"olive\", ax=axs[0, 1])\n",
    "sns.histplot(data=train.sample(100), x=\"calculatedfinishedsquarefeet\", color=\"gold\", ax=axs[1, 0])\n",
    "sns.histplot(data=train.sample(100), x=\"yearbuilt\",  color=\"teal\", ax=axs[1, 1])\n",
    "sns.histplot(data=train.sample(100), x=\"county\",  color=\"olive\", ax=axs[2, 0 ])\n",
    "sns.histplot(data=train.sample(100), x=\"taxvaluedollarcnt\",  color=\"yellow\", ax=axs[2, 1])\n",
    "\n",
    "plt.show()"
   ]
  },
  {
   "cell_type": "markdown",
   "id": "0391491b",
   "metadata": {},
   "source": [
    "### <center> <u>Summary of Exploration:</u><br> <br>Things to notice, but not be fooled by...<br><br>The above chart can give us some insights into what buyers might be looking for when purchasing a Single Family property, however, we have to consider other factors that come into play, and can really only understand that through hypothesis testing."
   ]
  },
  {
   "cell_type": "code",
   "execution_count": null,
   "id": "36854286",
   "metadata": {},
   "outputs": [],
   "source": [
    "-Bedroom and Bathroom count have a close average when it comes to properties sold [bd:3, ba:2.5] however, when conducting correlation hypothesis tests on these features, \n",
    "    <br>I found that though both bedroom count and bathroom count did reject the null H_0: bedroom/bathroom count are not linearly dependant on the property value"
   ]
  },
  {
   "cell_type": "markdown",
   "id": "c98e193c",
   "metadata": {},
   "source": [
    "<img src=\"https://play-lh.googleusercontent.com/dKL38bnxOQTTyG9dB467IfCYF0gHWZROJeDUiSGEuVrjaSIHbjDr9T6P6y1OrB_KAQ\" title=\"house\" width=\"100\" height=\"40\"/>"
   ]
  },
  {
   "cell_type": "code",
   "execution_count": null,
   "id": "f0093a67",
   "metadata": {},
   "outputs": [],
   "source": []
  }
 ],
 "metadata": {
  "kernelspec": {
   "display_name": "Python 3 (ipykernel)",
   "language": "python",
   "name": "python3"
  },
  "language_info": {
   "codemirror_mode": {
    "name": "ipython",
    "version": 3
   },
   "file_extension": ".py",
   "mimetype": "text/x-python",
   "name": "python",
   "nbconvert_exporter": "python",
   "pygments_lexer": "ipython3",
   "version": "3.9.7"
  }
 },
 "nbformat": 4,
 "nbformat_minor": 5
}
